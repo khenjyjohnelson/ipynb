{
 "cells": [
  {
   "cell_type": "markdown",
   "metadata": {},
   "source": [
    "## Belajar Hal Baru"
   ]
  },
  {
   "cell_type": "code",
   "execution_count": 1,
   "metadata": {},
   "outputs": [
    {
     "ename": "ModuleNotFoundError",
     "evalue": "No module named 'pandas'",
     "output_type": "error",
     "traceback": [
      "\u001b[1;31m---------------------------------------------------------------------------\u001b[0m",
      "\u001b[1;31mModuleNotFoundError\u001b[0m                       Traceback (most recent call last)",
      "Cell \u001b[1;32mIn[1], line 2\u001b[0m\n\u001b[0;32m      1\u001b[0m \u001b[38;5;28;01mimport\u001b[39;00m \u001b[38;5;21;01mrequests\u001b[39;00m\n\u001b[1;32m----> 2\u001b[0m \u001b[38;5;28;01mimport\u001b[39;00m \u001b[38;5;21;01mpandas\u001b[39;00m \u001b[38;5;28;01mas\u001b[39;00m \u001b[38;5;21;01mpd\u001b[39;00m\n\u001b[0;32m      3\u001b[0m \u001b[38;5;28;01mimport\u001b[39;00m \u001b[38;5;21;01mnumpy\u001b[39;00m \u001b[38;5;28;01mas\u001b[39;00m \u001b[38;5;21;01mnp\u001b[39;00m\n\u001b[0;32m      4\u001b[0m \u001b[38;5;28;01mimport\u001b[39;00m \u001b[38;5;21;01mmatplotlib\u001b[39;00m\u001b[38;5;21;01m.\u001b[39;00m\u001b[38;5;21;01mpyplot\u001b[39;00m \u001b[38;5;28;01mas\u001b[39;00m \u001b[38;5;21;01mplt\u001b[39;00m\n",
      "\u001b[1;31mModuleNotFoundError\u001b[0m: No module named 'pandas'"
     ]
    }
   ],
   "source": [
    "import requests\n",
    "import pandas as pd\n",
    "import numpy as np\n",
    "import matplotlib.pyplot as plt\n",
    "import seaborn as sns\n",
    "\n",
    "# Masukkan API Key dari OpenWeatherMap\n",
    "API_KEY = 'bcb34dd9dff62c80dd3a25dd038102e9'  # Ganti dengan API key Anda\n",
    "BASE_URL = \"http://api.openweathermap.org/data/2.5/weather?\"\n",
    "\n",
    "# Daftar kota yang ingin diambil datanya\n",
    "cities = ['London', 'Tokyo', 'New York', 'Jakarta', 'Sydney']\n",
    "\n",
    "# Buat list untuk menyimpan hasil data cuaca\n",
    "weather_data = []\n",
    "\n",
    "# Fungsi untuk mengambil data cuaca dari OpenWeatherMap API\n",
    "def get_weather(city):\n",
    "    complete_url = BASE_URL + \"appid=\" + API_KEY + \"&q=\" + city + \"&units=metric\"\n",
    "    response = requests.get(complete_url)\n",
    "    if response.status_code == 200:\n",
    "        return response.json()\n",
    "    else:\n",
    "        print(f\"Error retrieving data for {city}\")\n",
    "        return None\n",
    "\n",
    "# Loop untuk mengambil data cuaca dari setiap kota\n",
    "for city in cities:\n",
    "    data = get_weather(city)\n",
    "    if data:\n",
    "        city_weather = {\n",
    "            \"City\": city,\n",
    "            \"Temperature\": data['main']['temp'],\n",
    "            \"Humidity\": data['main']['humidity'],\n",
    "            \"Weather\": data['weather'][0]['main']\n",
    "        }\n",
    "        weather_data.append(city_weather)\n",
    "\n",
    "# Simpan data ke dalam file CSV\n",
    "df = pd.DataFrame(weather_data)\n",
    "df.to_csv('weather_data.csv', index=False)\n",
    "\n",
    "# Menampilkan data yang telah diambil\n",
    "print(\"Data Cuaca:\")\n",
    "print(df)\n",
    "\n",
    "### Tahap Analisis Data\n",
    "\n",
    "# Menghitung rata-rata suhu dari semua kota\n",
    "average_temp = df['Temperature'].mean()\n",
    "print(f\"Rata-rata suhu: {average_temp:.2f}°C\")\n",
    "\n",
    "# Menemukan kota dengan suhu tertinggi dan terendah\n",
    "hottest_city = df.loc[df['Temperature'].idxmax()]['City']\n",
    "coldest_city = df.loc[df['Temperature'].idxmin()]['City']\n",
    "\n",
    "print(f\"Kota dengan suhu tertinggi: {hottest_city}\")\n",
    "print(f\"Kota dengan suhu terendah: {coldest_city}\")\n",
    "\n",
    "# Menganalisis pola cuaca yang paling sering muncul\n",
    "most_common_weather = df['Weather'].mode()[0]\n",
    "print(f\"Pola cuaca yang paling sering muncul: {most_common_weather}\")\n",
    "\n",
    "### Tahap Visualisasi Data\n",
    "\n",
    "# Plot Distribusi Suhu\n",
    "plt.figure(figsize=(10, 6))\n",
    "sns.barplot(x='City', y='Temperature', data=df)\n",
    "plt.title('Distribusi Suhu di Beberapa Kota')\n",
    "plt.ylabel('Suhu (°C)')\n",
    "plt.xlabel('Kota')\n",
    "plt.show()\n",
    "\n",
    "# Plot Distribusi Pola Cuaca\n",
    "plt.figure(figsize=(10, 6))\n",
    "sns.countplot(x='Weather', data=df)\n",
    "plt.title('Distribusi Pola Cuaca')\n",
    "plt.ylabel('Jumlah Kota')\n",
    "plt.xlabel('Pola Cuaca')\n",
    "plt.show()"
   ]
  }
 ],
 "metadata": {
  "kernelspec": {
   "display_name": "Python 3",
   "language": "python",
   "name": "python3"
  },
  "language_info": {
   "codemirror_mode": {
    "name": "ipython",
    "version": 3
   },
   "file_extension": ".py",
   "mimetype": "text/x-python",
   "name": "python",
   "nbconvert_exporter": "python",
   "pygments_lexer": "ipython3",
   "version": "3.11.3"
  }
 },
 "nbformat": 4,
 "nbformat_minor": 2
}
