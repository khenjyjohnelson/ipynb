{
 "cells": [
  {
   "cell_type": "markdown",
   "id": "b09ee331",
   "metadata": {},
   "source": [
    "## SHOPEE REVIEW SENTIMENT ANALYSIS USING NLP and K-NN Algorithm \n",
    "BY YUNITA RATNA SARI"
   ]
  },
  {
   "cell_type": "code",
   "execution_count": 3,
   "id": "c2a522a3",
   "metadata": {},
   "outputs": [],
   "source": [
    "import string\n",
    "import pandas as pd\n",
    "import numpy as np\n"
   ]
  },
  {
   "cell_type": "markdown",
   "id": "796ca9f6",
   "metadata": {},
   "source": [
    "### IMPORTING DATASET\n",
    "Dataset didapatkan menggunakan teknik web scraping dari website google playstore dengan software webharvy.\n",
    "Di sini saya menggunakan library pandas untuk menampilkan dan membaca dataset."
   ]
  },
  {
   "cell_type": "code",
   "execution_count": 2,
   "id": "7bd418ca",
   "metadata": {},
   "outputs": [
    {
     "data": {
      "text/html": [
       "<div>\n",
       "<style scoped>\n",
       "    .dataframe tbody tr th:only-of-type {\n",
       "        vertical-align: middle;\n",
       "    }\n",
       "\n",
       "    .dataframe tbody tr th {\n",
       "        vertical-align: top;\n",
       "    }\n",
       "\n",
       "    .dataframe thead th {\n",
       "        text-align: right;\n",
       "    }\n",
       "</style>\n",
       "<table border=\"1\" class=\"dataframe\">\n",
       "  <thead>\n",
       "    <tr style=\"text-align: right;\">\n",
       "      <th></th>\n",
       "      <th>Review</th>\n",
       "      <th>SENTIMEN</th>\n",
       "    </tr>\n",
       "  </thead>\n",
       "  <tbody>\n",
       "    <tr>\n",
       "      <th>0</th>\n",
       "      <td>puas belanja di shopee banyak diskon dan grati...</td>\n",
       "      <td>POSITIF</td>\n",
       "    </tr>\n",
       "    <tr>\n",
       "      <th>1</th>\n",
       "      <td>Aplikasi yang bagus dan sangat membantu</td>\n",
       "      <td>POSITIF</td>\n",
       "    </tr>\n",
       "    <tr>\n",
       "      <th>2</th>\n",
       "      <td>saya kecewa kenapa sekarang Shopee sangat eror...</td>\n",
       "      <td>NEGATIF</td>\n",
       "    </tr>\n",
       "    <tr>\n",
       "      <th>3</th>\n",
       "      <td>Shope sangat bagus bagi saya saya suka banget ...</td>\n",
       "      <td>POSITIF</td>\n",
       "    </tr>\n",
       "    <tr>\n",
       "      <th>4</th>\n",
       "      <td>Kecewa Katanya gratis ongkir . Ternyata mahaln...</td>\n",
       "      <td>NEGATIF</td>\n",
       "    </tr>\n",
       "    <tr>\n",
       "      <th>5</th>\n",
       "      <td>KECEWA DENGAN PERUBAHAN EKSPEDISI PENGIRIMANNY...</td>\n",
       "      <td>NEGATIF</td>\n",
       "    </tr>\n",
       "    <tr>\n",
       "      <th>6</th>\n",
       "      <td>Bagus banget.. Aku puas.. Pengemasan rapi bang...</td>\n",
       "      <td>POSITIF</td>\n",
       "    </tr>\n",
       "    <tr>\n",
       "      <th>7</th>\n",
       "      <td>Aplikasi sangat bagus dan banyak bonus??</td>\n",
       "      <td>POSITIF</td>\n",
       "    </tr>\n",
       "    <tr>\n",
       "      <th>8</th>\n",
       "      <td>Aplikasinya sering eror bikin pusing susah bay...</td>\n",
       "      <td>NEGATIF</td>\n",
       "    </tr>\n",
       "    <tr>\n",
       "      <th>9</th>\n",
       "      <td>Saya udh kecewa banget... Uang saya belum kemb...</td>\n",
       "      <td>NEGATIF</td>\n",
       "    </tr>\n",
       "  </tbody>\n",
       "</table>\n",
       "</div>"
      ],
      "text/plain": [
       "                                              Review SENTIMEN\n",
       "0  puas belanja di shopee banyak diskon dan grati...  POSITIF\n",
       "1            Aplikasi yang bagus dan sangat membantu  POSITIF\n",
       "2  saya kecewa kenapa sekarang Shopee sangat eror...  NEGATIF\n",
       "3  Shope sangat bagus bagi saya saya suka banget ...  POSITIF\n",
       "4  Kecewa Katanya gratis ongkir . Ternyata mahaln...  NEGATIF\n",
       "5  KECEWA DENGAN PERUBAHAN EKSPEDISI PENGIRIMANNY...  NEGATIF\n",
       "6  Bagus banget.. Aku puas.. Pengemasan rapi bang...  POSITIF\n",
       "7           Aplikasi sangat bagus dan banyak bonus??  POSITIF\n",
       "8  Aplikasinya sering eror bikin pusing susah bay...  NEGATIF\n",
       "9  Saya udh kecewa banget... Uang saya belum kemb...  NEGATIF"
      ]
     },
     "execution_count": 2,
     "metadata": {},
     "output_type": "execute_result"
    }
   ],
   "source": [
    "data = pd.read_csv(\"D:/project/me/ipynb/shopee/dataset_shopee2.csv\", sep=',', encoding='latin1')\n",
    "data.head(10)"
   ]
  },
  {
   "cell_type": "markdown",
   "id": "9b339d66",
   "metadata": {},
   "source": [
    "### Proses Celaning Data"
   ]
  },
  {
   "cell_type": "code",
   "execution_count": 3,
   "id": "fd8d4fab",
   "metadata": {},
   "outputs": [
    {
     "data": {
      "text/html": [
       "<div>\n",
       "<style scoped>\n",
       "    .dataframe tbody tr th:only-of-type {\n",
       "        vertical-align: middle;\n",
       "    }\n",
       "\n",
       "    .dataframe tbody tr th {\n",
       "        vertical-align: top;\n",
       "    }\n",
       "\n",
       "    .dataframe thead th {\n",
       "        text-align: right;\n",
       "    }\n",
       "</style>\n",
       "<table border=\"1\" class=\"dataframe\">\n",
       "  <thead>\n",
       "    <tr style=\"text-align: right;\">\n",
       "      <th></th>\n",
       "      <th>Review</th>\n",
       "      <th>SENTIMEN</th>\n",
       "    </tr>\n",
       "  </thead>\n",
       "  <tbody>\n",
       "    <tr>\n",
       "      <th>0</th>\n",
       "      <td>puas belanja di shopee banyak diskon dan grati...</td>\n",
       "      <td>POSITIF</td>\n",
       "    </tr>\n",
       "    <tr>\n",
       "      <th>1</th>\n",
       "      <td>aplikasi yang bagus dan sangat membantu</td>\n",
       "      <td>POSITIF</td>\n",
       "    </tr>\n",
       "    <tr>\n",
       "      <th>2</th>\n",
       "      <td>saya kecewa kenapa sekarang shopee sangat eror...</td>\n",
       "      <td>NEGATIF</td>\n",
       "    </tr>\n",
       "    <tr>\n",
       "      <th>3</th>\n",
       "      <td>shope sangat bagus bagi saya saya suka banget ...</td>\n",
       "      <td>POSITIF</td>\n",
       "    </tr>\n",
       "    <tr>\n",
       "      <th>4</th>\n",
       "      <td>kecewa katanya gratis ongkir . ternyata mahaln...</td>\n",
       "      <td>NEGATIF</td>\n",
       "    </tr>\n",
       "    <tr>\n",
       "      <th>5</th>\n",
       "      <td>kecewa dengan perubahan ekspedisi pengirimanny...</td>\n",
       "      <td>NEGATIF</td>\n",
       "    </tr>\n",
       "    <tr>\n",
       "      <th>6</th>\n",
       "      <td>bagus banget.. aku puas.. pengemasan rapi bang...</td>\n",
       "      <td>POSITIF</td>\n",
       "    </tr>\n",
       "    <tr>\n",
       "      <th>7</th>\n",
       "      <td>aplikasi sangat bagus dan banyak bonus??</td>\n",
       "      <td>POSITIF</td>\n",
       "    </tr>\n",
       "    <tr>\n",
       "      <th>8</th>\n",
       "      <td>aplikasinya sering eror bikin pusing susah bay...</td>\n",
       "      <td>NEGATIF</td>\n",
       "    </tr>\n",
       "    <tr>\n",
       "      <th>9</th>\n",
       "      <td>saya udh kecewa banget... uang saya belum kemb...</td>\n",
       "      <td>NEGATIF</td>\n",
       "    </tr>\n",
       "  </tbody>\n",
       "</table>\n",
       "</div>"
      ],
      "text/plain": [
       "                                              Review SENTIMEN\n",
       "0  puas belanja di shopee banyak diskon dan grati...  POSITIF\n",
       "1            aplikasi yang bagus dan sangat membantu  POSITIF\n",
       "2  saya kecewa kenapa sekarang shopee sangat eror...  NEGATIF\n",
       "3  shope sangat bagus bagi saya saya suka banget ...  POSITIF\n",
       "4  kecewa katanya gratis ongkir . ternyata mahaln...  NEGATIF\n",
       "5  kecewa dengan perubahan ekspedisi pengirimanny...  NEGATIF\n",
       "6  bagus banget.. aku puas.. pengemasan rapi bang...  POSITIF\n",
       "7           aplikasi sangat bagus dan banyak bonus??  POSITIF\n",
       "8  aplikasinya sering eror bikin pusing susah bay...  NEGATIF\n",
       "9  saya udh kecewa banget... uang saya belum kemb...  NEGATIF"
      ]
     },
     "execution_count": 3,
     "metadata": {},
     "output_type": "execute_result"
    }
   ],
   "source": [
    "# proses case folding \n",
    "def casefolding(Review):\n",
    "    Review = Review.lower()\n",
    "    return Review\n",
    "data['Review'] = data['Review'].apply(casefolding)\n",
    "data.head(10)"
   ]
  },
  {
   "cell_type": "code",
   "execution_count": 4,
   "id": "d7c0fa56",
   "metadata": {},
   "outputs": [
    {
     "data": {
      "text/html": [
       "<div>\n",
       "<style scoped>\n",
       "    .dataframe tbody tr th:only-of-type {\n",
       "        vertical-align: middle;\n",
       "    }\n",
       "\n",
       "    .dataframe tbody tr th {\n",
       "        vertical-align: top;\n",
       "    }\n",
       "\n",
       "    .dataframe thead th {\n",
       "        text-align: right;\n",
       "    }\n",
       "</style>\n",
       "<table border=\"1\" class=\"dataframe\">\n",
       "  <thead>\n",
       "    <tr style=\"text-align: right;\">\n",
       "      <th></th>\n",
       "      <th>Review</th>\n",
       "      <th>SENTIMEN</th>\n",
       "    </tr>\n",
       "  </thead>\n",
       "  <tbody>\n",
       "    <tr>\n",
       "      <th>0</th>\n",
       "      <td>puas belanja di shopee banyak diskon dan grati...</td>\n",
       "      <td>POSITIF</td>\n",
       "    </tr>\n",
       "    <tr>\n",
       "      <th>1</th>\n",
       "      <td>aplikasi yang bagus dan sangat membantu</td>\n",
       "      <td>POSITIF</td>\n",
       "    </tr>\n",
       "    <tr>\n",
       "      <th>2</th>\n",
       "      <td>saya kecewa kenapa sekarang shopee sangat eror...</td>\n",
       "      <td>NEGATIF</td>\n",
       "    </tr>\n",
       "    <tr>\n",
       "      <th>3</th>\n",
       "      <td>shope sangat bagus bagi saya saya suka banget ...</td>\n",
       "      <td>POSITIF</td>\n",
       "    </tr>\n",
       "    <tr>\n",
       "      <th>4</th>\n",
       "      <td>kecewa katanya gratis ongkir ternyata mahalnya...</td>\n",
       "      <td>NEGATIF</td>\n",
       "    </tr>\n",
       "    <tr>\n",
       "      <th>5</th>\n",
       "      <td>kecewa dengan perubahan ekspedisi pengirimanny...</td>\n",
       "      <td>NEGATIF</td>\n",
       "    </tr>\n",
       "    <tr>\n",
       "      <th>6</th>\n",
       "      <td>bagus banget aku puas pengemasan rapi banget m...</td>\n",
       "      <td>POSITIF</td>\n",
       "    </tr>\n",
       "    <tr>\n",
       "      <th>7</th>\n",
       "      <td>aplikasi sangat bagus dan banyak bonus</td>\n",
       "      <td>POSITIF</td>\n",
       "    </tr>\n",
       "    <tr>\n",
       "      <th>8</th>\n",
       "      <td>aplikasinya sering eror bikin pusing susah bay...</td>\n",
       "      <td>NEGATIF</td>\n",
       "    </tr>\n",
       "    <tr>\n",
       "      <th>9</th>\n",
       "      <td>saya udh kecewa banget uang saya belum kembali...</td>\n",
       "      <td>NEGATIF</td>\n",
       "    </tr>\n",
       "  </tbody>\n",
       "</table>\n",
       "</div>"
      ],
      "text/plain": [
       "                                              Review SENTIMEN\n",
       "0  puas belanja di shopee banyak diskon dan grati...  POSITIF\n",
       "1            aplikasi yang bagus dan sangat membantu  POSITIF\n",
       "2  saya kecewa kenapa sekarang shopee sangat eror...  NEGATIF\n",
       "3  shope sangat bagus bagi saya saya suka banget ...  POSITIF\n",
       "4  kecewa katanya gratis ongkir ternyata mahalnya...  NEGATIF\n",
       "5  kecewa dengan perubahan ekspedisi pengirimanny...  NEGATIF\n",
       "6  bagus banget aku puas pengemasan rapi banget m...  POSITIF\n",
       "7             aplikasi sangat bagus dan banyak bonus  POSITIF\n",
       "8  aplikasinya sering eror bikin pusing susah bay...  NEGATIF\n",
       "9  saya udh kecewa banget uang saya belum kembali...  NEGATIF"
      ]
     },
     "execution_count": 4,
     "metadata": {},
     "output_type": "execute_result"
    }
   ],
   "source": [
    "# proses cleansing remove regex (cleansing) seperti tanda baca dan angka angka\n",
    "import re\n",
    "import string\n",
    "def cleansing(Review):\n",
    "    Review = Review.strip(\" \")\n",
    "    Review = re.sub(r'[?|$|.|!_:\")(-+,]', '', Review)\n",
    "    Review = re.sub(r'\\d+', '', Review)\n",
    "    Review = re.sub(r\"\\b[a-zA-Z]\\b\", \"\", Review)\n",
    "    Review = re.sub('\\s+',' ', Review)\n",
    "    return Review\n",
    "data['Review'] = data['Review'].apply(cleansing)\n",
    "data.head(10)\n"
   ]
  },
  {
   "cell_type": "code",
   "execution_count": 5,
   "id": "ccca3329",
   "metadata": {},
   "outputs": [
    {
     "data": {
      "text/html": [
       "<div>\n",
       "<style scoped>\n",
       "    .dataframe tbody tr th:only-of-type {\n",
       "        vertical-align: middle;\n",
       "    }\n",
       "\n",
       "    .dataframe tbody tr th {\n",
       "        vertical-align: top;\n",
       "    }\n",
       "\n",
       "    .dataframe thead th {\n",
       "        text-align: right;\n",
       "    }\n",
       "</style>\n",
       "<table border=\"1\" class=\"dataframe\">\n",
       "  <thead>\n",
       "    <tr style=\"text-align: right;\">\n",
       "      <th></th>\n",
       "      <th>Review</th>\n",
       "      <th>SENTIMEN</th>\n",
       "    </tr>\n",
       "  </thead>\n",
       "  <tbody>\n",
       "    <tr>\n",
       "      <th>0</th>\n",
       "      <td>[puas, belanja, di, shopee, banyak, diskon, da...</td>\n",
       "      <td>POSITIF</td>\n",
       "    </tr>\n",
       "    <tr>\n",
       "      <th>1</th>\n",
       "      <td>[aplikasi, yang, bagus, dan, sangat, membantu]</td>\n",
       "      <td>POSITIF</td>\n",
       "    </tr>\n",
       "    <tr>\n",
       "      <th>2</th>\n",
       "      <td>[saya, kecewa, kenapa, sekarang, shopee, sanga...</td>\n",
       "      <td>NEGATIF</td>\n",
       "    </tr>\n",
       "    <tr>\n",
       "      <th>3</th>\n",
       "      <td>[shope, sangat, bagus, bagi, saya, saya, suka,...</td>\n",
       "      <td>POSITIF</td>\n",
       "    </tr>\n",
       "    <tr>\n",
       "      <th>4</th>\n",
       "      <td>[kecewa, katanya, gratis, ongkir, ternyata, ma...</td>\n",
       "      <td>NEGATIF</td>\n",
       "    </tr>\n",
       "  </tbody>\n",
       "</table>\n",
       "</div>"
      ],
      "text/plain": [
       "                                              Review SENTIMEN\n",
       "0  [puas, belanja, di, shopee, banyak, diskon, da...  POSITIF\n",
       "1     [aplikasi, yang, bagus, dan, sangat, membantu]  POSITIF\n",
       "2  [saya, kecewa, kenapa, sekarang, shopee, sanga...  NEGATIF\n",
       "3  [shope, sangat, bagus, bagi, saya, saya, suka,...  POSITIF\n",
       "4  [kecewa, katanya, gratis, ongkir, ternyata, ma...  NEGATIF"
      ]
     },
     "execution_count": 5,
     "metadata": {},
     "output_type": "execute_result"
    }
   ],
   "source": [
    "from nltk.tokenize import word_tokenize\n",
    "#NLTK word tokenize\n",
    "def word_tokenize_wrapper(text):\n",
    " return word_tokenize(text)\n",
    "data['Review'] = data['Review'].apply(word_tokenize_wrapper)\n",
    "data.head()"
   ]
  },
  {
   "cell_type": "code",
   "execution_count": 6,
   "id": "5df276fe",
   "metadata": {},
   "outputs": [
    {
     "ename": "FileNotFoundError",
     "evalue": "[Errno 2] No such file or directory: 'C:/Users/LENOVO/Documents/normalisasi.csv'",
     "output_type": "error",
     "traceback": [
      "\u001b[1;31m---------------------------------------------------------------------------\u001b[0m",
      "\u001b[1;31mFileNotFoundError\u001b[0m                         Traceback (most recent call last)",
      "Cell \u001b[1;32mIn[6], line 1\u001b[0m\n\u001b[1;32m----> 1\u001b[0m normalizad_word \u001b[38;5;241m=\u001b[39m \u001b[43mpd\u001b[49m\u001b[38;5;241;43m.\u001b[39;49m\u001b[43mread_csv\u001b[49m\u001b[43m(\u001b[49m\u001b[38;5;124;43m\"\u001b[39;49m\u001b[38;5;124;43mC:/Users/LENOVO/Documents/normalisasi.csv\u001b[39;49m\u001b[38;5;124;43m\"\u001b[39;49m\u001b[43m)\u001b[49m\n\u001b[0;32m      3\u001b[0m normalizad_word_dict \u001b[38;5;241m=\u001b[39m {}\n\u001b[0;32m      5\u001b[0m \u001b[38;5;28;01mfor\u001b[39;00m index, row \u001b[38;5;129;01min\u001b[39;00m normalizad_word\u001b[38;5;241m.\u001b[39miterrows():\n",
      "File \u001b[1;32m~\\AppData\\Local\\Programs\\Python\\Python311\\Lib\\site-packages\\pandas\\io\\parsers\\readers.py:1026\u001b[0m, in \u001b[0;36mread_csv\u001b[1;34m(filepath_or_buffer, sep, delimiter, header, names, index_col, usecols, dtype, engine, converters, true_values, false_values, skipinitialspace, skiprows, skipfooter, nrows, na_values, keep_default_na, na_filter, verbose, skip_blank_lines, parse_dates, infer_datetime_format, keep_date_col, date_parser, date_format, dayfirst, cache_dates, iterator, chunksize, compression, thousands, decimal, lineterminator, quotechar, quoting, doublequote, escapechar, comment, encoding, encoding_errors, dialect, on_bad_lines, delim_whitespace, low_memory, memory_map, float_precision, storage_options, dtype_backend)\u001b[0m\n\u001b[0;32m   1013\u001b[0m kwds_defaults \u001b[38;5;241m=\u001b[39m _refine_defaults_read(\n\u001b[0;32m   1014\u001b[0m     dialect,\n\u001b[0;32m   1015\u001b[0m     delimiter,\n\u001b[1;32m   (...)\u001b[0m\n\u001b[0;32m   1022\u001b[0m     dtype_backend\u001b[38;5;241m=\u001b[39mdtype_backend,\n\u001b[0;32m   1023\u001b[0m )\n\u001b[0;32m   1024\u001b[0m kwds\u001b[38;5;241m.\u001b[39mupdate(kwds_defaults)\n\u001b[1;32m-> 1026\u001b[0m \u001b[38;5;28;01mreturn\u001b[39;00m \u001b[43m_read\u001b[49m\u001b[43m(\u001b[49m\u001b[43mfilepath_or_buffer\u001b[49m\u001b[43m,\u001b[49m\u001b[43m \u001b[49m\u001b[43mkwds\u001b[49m\u001b[43m)\u001b[49m\n",
      "File \u001b[1;32m~\\AppData\\Local\\Programs\\Python\\Python311\\Lib\\site-packages\\pandas\\io\\parsers\\readers.py:620\u001b[0m, in \u001b[0;36m_read\u001b[1;34m(filepath_or_buffer, kwds)\u001b[0m\n\u001b[0;32m    617\u001b[0m _validate_names(kwds\u001b[38;5;241m.\u001b[39mget(\u001b[38;5;124m\"\u001b[39m\u001b[38;5;124mnames\u001b[39m\u001b[38;5;124m\"\u001b[39m, \u001b[38;5;28;01mNone\u001b[39;00m))\n\u001b[0;32m    619\u001b[0m \u001b[38;5;66;03m# Create the parser.\u001b[39;00m\n\u001b[1;32m--> 620\u001b[0m parser \u001b[38;5;241m=\u001b[39m \u001b[43mTextFileReader\u001b[49m\u001b[43m(\u001b[49m\u001b[43mfilepath_or_buffer\u001b[49m\u001b[43m,\u001b[49m\u001b[43m \u001b[49m\u001b[38;5;241;43m*\u001b[39;49m\u001b[38;5;241;43m*\u001b[39;49m\u001b[43mkwds\u001b[49m\u001b[43m)\u001b[49m\n\u001b[0;32m    622\u001b[0m \u001b[38;5;28;01mif\u001b[39;00m chunksize \u001b[38;5;129;01mor\u001b[39;00m iterator:\n\u001b[0;32m    623\u001b[0m     \u001b[38;5;28;01mreturn\u001b[39;00m parser\n",
      "File \u001b[1;32m~\\AppData\\Local\\Programs\\Python\\Python311\\Lib\\site-packages\\pandas\\io\\parsers\\readers.py:1620\u001b[0m, in \u001b[0;36mTextFileReader.__init__\u001b[1;34m(self, f, engine, **kwds)\u001b[0m\n\u001b[0;32m   1617\u001b[0m     \u001b[38;5;28mself\u001b[39m\u001b[38;5;241m.\u001b[39moptions[\u001b[38;5;124m\"\u001b[39m\u001b[38;5;124mhas_index_names\u001b[39m\u001b[38;5;124m\"\u001b[39m] \u001b[38;5;241m=\u001b[39m kwds[\u001b[38;5;124m\"\u001b[39m\u001b[38;5;124mhas_index_names\u001b[39m\u001b[38;5;124m\"\u001b[39m]\n\u001b[0;32m   1619\u001b[0m \u001b[38;5;28mself\u001b[39m\u001b[38;5;241m.\u001b[39mhandles: IOHandles \u001b[38;5;241m|\u001b[39m \u001b[38;5;28;01mNone\u001b[39;00m \u001b[38;5;241m=\u001b[39m \u001b[38;5;28;01mNone\u001b[39;00m\n\u001b[1;32m-> 1620\u001b[0m \u001b[38;5;28mself\u001b[39m\u001b[38;5;241m.\u001b[39m_engine \u001b[38;5;241m=\u001b[39m \u001b[38;5;28;43mself\u001b[39;49m\u001b[38;5;241;43m.\u001b[39;49m\u001b[43m_make_engine\u001b[49m\u001b[43m(\u001b[49m\u001b[43mf\u001b[49m\u001b[43m,\u001b[49m\u001b[43m \u001b[49m\u001b[38;5;28;43mself\u001b[39;49m\u001b[38;5;241;43m.\u001b[39;49m\u001b[43mengine\u001b[49m\u001b[43m)\u001b[49m\n",
      "File \u001b[1;32m~\\AppData\\Local\\Programs\\Python\\Python311\\Lib\\site-packages\\pandas\\io\\parsers\\readers.py:1880\u001b[0m, in \u001b[0;36mTextFileReader._make_engine\u001b[1;34m(self, f, engine)\u001b[0m\n\u001b[0;32m   1878\u001b[0m     \u001b[38;5;28;01mif\u001b[39;00m \u001b[38;5;124m\"\u001b[39m\u001b[38;5;124mb\u001b[39m\u001b[38;5;124m\"\u001b[39m \u001b[38;5;129;01mnot\u001b[39;00m \u001b[38;5;129;01min\u001b[39;00m mode:\n\u001b[0;32m   1879\u001b[0m         mode \u001b[38;5;241m+\u001b[39m\u001b[38;5;241m=\u001b[39m \u001b[38;5;124m\"\u001b[39m\u001b[38;5;124mb\u001b[39m\u001b[38;5;124m\"\u001b[39m\n\u001b[1;32m-> 1880\u001b[0m \u001b[38;5;28mself\u001b[39m\u001b[38;5;241m.\u001b[39mhandles \u001b[38;5;241m=\u001b[39m \u001b[43mget_handle\u001b[49m\u001b[43m(\u001b[49m\n\u001b[0;32m   1881\u001b[0m \u001b[43m    \u001b[49m\u001b[43mf\u001b[49m\u001b[43m,\u001b[49m\n\u001b[0;32m   1882\u001b[0m \u001b[43m    \u001b[49m\u001b[43mmode\u001b[49m\u001b[43m,\u001b[49m\n\u001b[0;32m   1883\u001b[0m \u001b[43m    \u001b[49m\u001b[43mencoding\u001b[49m\u001b[38;5;241;43m=\u001b[39;49m\u001b[38;5;28;43mself\u001b[39;49m\u001b[38;5;241;43m.\u001b[39;49m\u001b[43moptions\u001b[49m\u001b[38;5;241;43m.\u001b[39;49m\u001b[43mget\u001b[49m\u001b[43m(\u001b[49m\u001b[38;5;124;43m\"\u001b[39;49m\u001b[38;5;124;43mencoding\u001b[39;49m\u001b[38;5;124;43m\"\u001b[39;49m\u001b[43m,\u001b[49m\u001b[43m \u001b[49m\u001b[38;5;28;43;01mNone\u001b[39;49;00m\u001b[43m)\u001b[49m\u001b[43m,\u001b[49m\n\u001b[0;32m   1884\u001b[0m \u001b[43m    \u001b[49m\u001b[43mcompression\u001b[49m\u001b[38;5;241;43m=\u001b[39;49m\u001b[38;5;28;43mself\u001b[39;49m\u001b[38;5;241;43m.\u001b[39;49m\u001b[43moptions\u001b[49m\u001b[38;5;241;43m.\u001b[39;49m\u001b[43mget\u001b[49m\u001b[43m(\u001b[49m\u001b[38;5;124;43m\"\u001b[39;49m\u001b[38;5;124;43mcompression\u001b[39;49m\u001b[38;5;124;43m\"\u001b[39;49m\u001b[43m,\u001b[49m\u001b[43m \u001b[49m\u001b[38;5;28;43;01mNone\u001b[39;49;00m\u001b[43m)\u001b[49m\u001b[43m,\u001b[49m\n\u001b[0;32m   1885\u001b[0m \u001b[43m    \u001b[49m\u001b[43mmemory_map\u001b[49m\u001b[38;5;241;43m=\u001b[39;49m\u001b[38;5;28;43mself\u001b[39;49m\u001b[38;5;241;43m.\u001b[39;49m\u001b[43moptions\u001b[49m\u001b[38;5;241;43m.\u001b[39;49m\u001b[43mget\u001b[49m\u001b[43m(\u001b[49m\u001b[38;5;124;43m\"\u001b[39;49m\u001b[38;5;124;43mmemory_map\u001b[39;49m\u001b[38;5;124;43m\"\u001b[39;49m\u001b[43m,\u001b[49m\u001b[43m \u001b[49m\u001b[38;5;28;43;01mFalse\u001b[39;49;00m\u001b[43m)\u001b[49m\u001b[43m,\u001b[49m\n\u001b[0;32m   1886\u001b[0m \u001b[43m    \u001b[49m\u001b[43mis_text\u001b[49m\u001b[38;5;241;43m=\u001b[39;49m\u001b[43mis_text\u001b[49m\u001b[43m,\u001b[49m\n\u001b[0;32m   1887\u001b[0m \u001b[43m    \u001b[49m\u001b[43merrors\u001b[49m\u001b[38;5;241;43m=\u001b[39;49m\u001b[38;5;28;43mself\u001b[39;49m\u001b[38;5;241;43m.\u001b[39;49m\u001b[43moptions\u001b[49m\u001b[38;5;241;43m.\u001b[39;49m\u001b[43mget\u001b[49m\u001b[43m(\u001b[49m\u001b[38;5;124;43m\"\u001b[39;49m\u001b[38;5;124;43mencoding_errors\u001b[39;49m\u001b[38;5;124;43m\"\u001b[39;49m\u001b[43m,\u001b[49m\u001b[43m \u001b[49m\u001b[38;5;124;43m\"\u001b[39;49m\u001b[38;5;124;43mstrict\u001b[39;49m\u001b[38;5;124;43m\"\u001b[39;49m\u001b[43m)\u001b[49m\u001b[43m,\u001b[49m\n\u001b[0;32m   1888\u001b[0m \u001b[43m    \u001b[49m\u001b[43mstorage_options\u001b[49m\u001b[38;5;241;43m=\u001b[39;49m\u001b[38;5;28;43mself\u001b[39;49m\u001b[38;5;241;43m.\u001b[39;49m\u001b[43moptions\u001b[49m\u001b[38;5;241;43m.\u001b[39;49m\u001b[43mget\u001b[49m\u001b[43m(\u001b[49m\u001b[38;5;124;43m\"\u001b[39;49m\u001b[38;5;124;43mstorage_options\u001b[39;49m\u001b[38;5;124;43m\"\u001b[39;49m\u001b[43m,\u001b[49m\u001b[43m \u001b[49m\u001b[38;5;28;43;01mNone\u001b[39;49;00m\u001b[43m)\u001b[49m\u001b[43m,\u001b[49m\n\u001b[0;32m   1889\u001b[0m \u001b[43m\u001b[49m\u001b[43m)\u001b[49m\n\u001b[0;32m   1890\u001b[0m \u001b[38;5;28;01massert\u001b[39;00m \u001b[38;5;28mself\u001b[39m\u001b[38;5;241m.\u001b[39mhandles \u001b[38;5;129;01mis\u001b[39;00m \u001b[38;5;129;01mnot\u001b[39;00m \u001b[38;5;28;01mNone\u001b[39;00m\n\u001b[0;32m   1891\u001b[0m f \u001b[38;5;241m=\u001b[39m \u001b[38;5;28mself\u001b[39m\u001b[38;5;241m.\u001b[39mhandles\u001b[38;5;241m.\u001b[39mhandle\n",
      "File \u001b[1;32m~\\AppData\\Local\\Programs\\Python\\Python311\\Lib\\site-packages\\pandas\\io\\common.py:873\u001b[0m, in \u001b[0;36mget_handle\u001b[1;34m(path_or_buf, mode, encoding, compression, memory_map, is_text, errors, storage_options)\u001b[0m\n\u001b[0;32m    868\u001b[0m \u001b[38;5;28;01melif\u001b[39;00m \u001b[38;5;28misinstance\u001b[39m(handle, \u001b[38;5;28mstr\u001b[39m):\n\u001b[0;32m    869\u001b[0m     \u001b[38;5;66;03m# Check whether the filename is to be opened in binary mode.\u001b[39;00m\n\u001b[0;32m    870\u001b[0m     \u001b[38;5;66;03m# Binary mode does not support 'encoding' and 'newline'.\u001b[39;00m\n\u001b[0;32m    871\u001b[0m     \u001b[38;5;28;01mif\u001b[39;00m ioargs\u001b[38;5;241m.\u001b[39mencoding \u001b[38;5;129;01mand\u001b[39;00m \u001b[38;5;124m\"\u001b[39m\u001b[38;5;124mb\u001b[39m\u001b[38;5;124m\"\u001b[39m \u001b[38;5;129;01mnot\u001b[39;00m \u001b[38;5;129;01min\u001b[39;00m ioargs\u001b[38;5;241m.\u001b[39mmode:\n\u001b[0;32m    872\u001b[0m         \u001b[38;5;66;03m# Encoding\u001b[39;00m\n\u001b[1;32m--> 873\u001b[0m         handle \u001b[38;5;241m=\u001b[39m \u001b[38;5;28;43mopen\u001b[39;49m\u001b[43m(\u001b[49m\n\u001b[0;32m    874\u001b[0m \u001b[43m            \u001b[49m\u001b[43mhandle\u001b[49m\u001b[43m,\u001b[49m\n\u001b[0;32m    875\u001b[0m \u001b[43m            \u001b[49m\u001b[43mioargs\u001b[49m\u001b[38;5;241;43m.\u001b[39;49m\u001b[43mmode\u001b[49m\u001b[43m,\u001b[49m\n\u001b[0;32m    876\u001b[0m \u001b[43m            \u001b[49m\u001b[43mencoding\u001b[49m\u001b[38;5;241;43m=\u001b[39;49m\u001b[43mioargs\u001b[49m\u001b[38;5;241;43m.\u001b[39;49m\u001b[43mencoding\u001b[49m\u001b[43m,\u001b[49m\n\u001b[0;32m    877\u001b[0m \u001b[43m            \u001b[49m\u001b[43merrors\u001b[49m\u001b[38;5;241;43m=\u001b[39;49m\u001b[43merrors\u001b[49m\u001b[43m,\u001b[49m\n\u001b[0;32m    878\u001b[0m \u001b[43m            \u001b[49m\u001b[43mnewline\u001b[49m\u001b[38;5;241;43m=\u001b[39;49m\u001b[38;5;124;43m\"\u001b[39;49m\u001b[38;5;124;43m\"\u001b[39;49m\u001b[43m,\u001b[49m\n\u001b[0;32m    879\u001b[0m \u001b[43m        \u001b[49m\u001b[43m)\u001b[49m\n\u001b[0;32m    880\u001b[0m     \u001b[38;5;28;01melse\u001b[39;00m:\n\u001b[0;32m    881\u001b[0m         \u001b[38;5;66;03m# Binary mode\u001b[39;00m\n\u001b[0;32m    882\u001b[0m         handle \u001b[38;5;241m=\u001b[39m \u001b[38;5;28mopen\u001b[39m(handle, ioargs\u001b[38;5;241m.\u001b[39mmode)\n",
      "\u001b[1;31mFileNotFoundError\u001b[0m: [Errno 2] No such file or directory: 'C:/Users/LENOVO/Documents/normalisasi.csv'"
     ]
    }
   ],
   "source": [
    "normalizad_word = pd.read_csv(\"C:/Users/LENOVO/Documents/normalisasi.csv\")\n",
    "\n",
    "normalizad_word_dict = {}\n",
    "\n",
    "for index, row in normalizad_word.iterrows():\n",
    "    if row[0] not in normalizad_word_dict:\n",
    "        normalizad_word_dict[row[0]] = row[1] \n",
    "\n",
    "def normalized_term(document):\n",
    "    return [normalizad_word_dict[term] if term in normalizad_word_dict else term for term in document]\n",
    "\n",
    "data['Review'] = data['Review'].apply(normalized_term)\n",
    "\n",
    "data['Review'].head(20)"
   ]
  },
  {
   "cell_type": "code",
   "execution_count": null,
   "id": "354b329f",
   "metadata": {},
   "outputs": [],
   "source": [
    "\n",
    "import nltk\n",
    "nltk.download('stopwords')\n",
    "from nltk.corpus import stopwords\n",
    "sw = pd.read_csv(\"C:/Users/LENOVO/Documents/stopwords.csv\")\n",
    "def stopword_removal(Review):\n",
    "    filtering = stopwords.words('indonesian','english')\n",
    "    filtering.extend(sw)\n",
    "    x = []\n",
    "    data = []\n",
    "    def myFunc(x):\n",
    "        if x in filtering:\n",
    "            return False\n",
    "        else:\n",
    "            return True\n",
    "    fit = filter(myFunc, Review)\n",
    "    for x in fit:\n",
    "        data.append(x)\n",
    "    return data\n",
    "data['Review'] = data['Review'].apply(stopword_removal)\n",
    "data.head(10)"
   ]
  },
  {
   "cell_type": "markdown",
   "id": "6788e2a8",
   "metadata": {},
   "source": [
    "### Proses Stemming dan Membuat file data baru (dataset yang sudah dibersihkan melalui proses NLTK)"
   ]
  },
  {
   "cell_type": "code",
   "execution_count": null,
   "id": "22032858",
   "metadata": {},
   "outputs": [
    {
     "name": "stdout",
     "output_type": "stream",
     "text": [
      "barang diterimatapi aplikasi tunjuk barang dikirimgimna coba bikin pusing ajaribet banget nya tolong baik lagi depa\n",
      "kode kirim ngebug\n",
      "voucher gratis ongkirnya pakai\n",
      "kenapaaa jasa kirim gaada jnt dkk woiii sedih gabisa atur sendiripliss shopee balikin kayak ya\n",
      "kenapasiii jasa kirim pilih sendiriiii maaf ya kasih bintang tolong ubah\n",
      "shopee express standard kirim nggak update\n",
      "update gak jasa kirim tolong perhati beli cari baik jasa kirim  shopecare tlong menu kirim ubah pilih ekspedisi ekspedisi daerh plus minus klau rondom gak tau ekspedisi nya pakai klau pas cocok daerah yaa bagus klau\n",
      "buruk diupdate login jasa kirim otomatis pilih shopee fair gilir beli ubah opsi jasa kirim eh keduluan seller acc jasa kirim ongkir id express cuman semenjak bijak shopee korupsi\n",
      "diapdute ko lihat etalase toko nya yamalah informasi ganggu suruh muat ulang aja liat barang nya\n",
      "akun beku langgar aja telpon atas nama shoppe hadiah tau nama alamat lengkap nomor percaya akun beku akun nge hack\n",
      "tolong mengunduhnyah banget\n",
      "aplikasi bodohgw begadang dapatin diskon alamat gak tera shopee neng diskon bege banget\n",
      "sih gratis ongkirnya pakai tipu pas check out gagal gagal hadeh kalo niat ngasih gratis ongkir yowes usa\n",
      "kecewa respon cs mohon coaching refreshment nama cs anonim rinto gagat atira sangat kecewa\n",
      "download loading sumpah\n",
      "semenjak shopee tanam nyuri air suka shopee panen koin gara maling inimah ngajarin anak orang curi mah nyuri nyiram kebun mending nyuri siram kebun shopee tolong hps fasilitas nyuri air kasih bintang fasilitas nyuri air hapus jarang banget voucher gratis ongkir tunaishopee pelit donk\n",
      "shopee monopoli jasa kirim\n",
      "aduh kesel kalo gin pesan barang bedah bedah expedisi cepat lambat kira nya kalo gin kecewa tolong balikin potong ongkirnya mas bayar sisa\n",
      "ngerti uinstal sih\n",
      "kemarin beli jam tangan aplikasi shopee kirim jam rusak mati gk fungsi harga nya tolong shopee kalo lapak curang gak jujur mending tutup aja akun lapak rugi konsumen beli langgan shopee\n",
      "thr nya cepat kalo instal\n",
      "tolong baik ya susah sms otapi nomor belanja susah gimana\n",
      "aplikasi nya instal coba nunggu nya jam ehh pas suruh instal kuota beli pakai daun\n",
      "aju kembali dana shope aju tuju jual owner tuju  mengahapus aju hilang duit barang kirim beli item barang kecewa\n",
      "buruk masalah mulu\n",
      "aplikasi jual beli online pakai aplikasi shopee shopee lot gambar suka buka update versi baru sinyal lancar ajaa aja buka gambar tolong baik yaa\n",
      "shopeepay nya pakai isi pas shopeepay nya\n",
      "downloadnya banget sih\n",
      "seller distrobdg tipu sen pcs dteng pcs\n",
      "shopee curi shopee curi keras tolong ilangin fitur curi air nyaaa dongg \n",
      "jelek aplikasi nya\n",
      "langgan setia shopee jasa ekspedisi monopoli jasa ekspedisi shopee express mgkn nama aja express kirim super duper lot alias lamaa poll andai jasa ekspedisi milih bagus\n",
      "update aplikasi playstore\n",
      "turunin bintangsudah shopee paylater gua naek limit nya turun auto pindah toko ijo\n",
      "aplikasi bagus bagus nya\n",
      "barang banget sampe nyakeburu ubah pikir ken beli laenudh gitu ongkir nya gila ribu hh\n",
      "klaim gratis ongkir tolong baik usaha macet\n",
      "aplikasi berat bikin lot hp gak olshop\n",
      "coba dlu bagus bintang nya\n",
      "ke- kali akun blokir shopee proses beli barangsaya hilang barang geblek shopeee gamau tau akun kembali nnti barangsaya lapor\n",
      "bintang bicara verikasi nomer tlp bisarugi data\n",
      "daftar akun aja sulit ampun\n",
      "aplikasi gajelas\n",
      "bayar pending\n",
      "tolong aplikasi baik liat produk susah loading gambar muncul kalo liat flash sale parah loadingnya\n",
      "gak update\n",
      "kasi bintang belanja online cod gak direspon toko tuju\n",
      "iklan nya muncul dmn web aplikasi game gw pusing\n",
      "mohon shopee aju mohon kalo hasil tanam beras jus jambu pas kirim kasih gratis ongkir hrus bayar ongkir tuju nanam beras jus jambu mendatkannya gratis hrus bayar ongkir ya aja beli gratis ongkirnya atas rugi nyiram bayar mohon kabul minta gratis ongkir hasil nanam\n",
      "nang banget kerja totalitas contoh kembali produk bulan padehal bukti video buat bukti seller kurir kirim ganti musti chat shopee chat admin shopee bikin malas tanganin kasus optimal kesini buruk\n",
      "voucher game rbu hoax\n",
      "rangin bintang voucer gratis ongkir codshopeepaya mulu munculpayah cod suka orang lagimungkin shopee turun rating\n",
      "shopee php promo transaksi coba bayar coba kaburr shopee asik ongkir pilih jasa kirim\n",
      "kirim nya banget sih\n",
      "kecewa shopee\n",
      "bobrok top up shopee pay masuk top up aplikasi belah cepat nunggu jam ngalahin isi pls konter aja nih aplikasi pakai shopee pay kalo gin\n",
      "keluh ngeri belanja dapat jual gagal beli uang transfer blm rumit prosedure tari\n",
      "ko shopee gitu jelek layan nya pesan eh muter gitu abis muter aplikasi ny gitu tolomg shopee baik jual mandek\n",
      "tipu voucher cashback pas pakai cashback koin masuk maaf malas pakai\n",
      "lu gw nonton anime muncul mulu donk\n",
      "ku pikir bagus registrasi rekening aja puter sampe kontak bank nya beres shopee layan lapor\n",
      "permisi ganggu shopee akun pakai hilang pakai akun dulupihak shopee tolong kembali akun\n",
      "update terus gagal sinyal bagus memori\n",
      "malam kn pesan barang produk kirim hari doang jam siang tdi notifnya kirim alamat terima cek jam sore tdi notifnya rumah\n",
      "assalamualaikum ko ngedonloud nya sihbisa cepetin nya kuota takut habis beli kemaren\n",
      "login terang jaring masalah\n",
      "lot sih bintang aja bikin bt aj\n",
      "gak instal nang sumpa\n",
      "bksa upload video untjk bukti oengembalian produk\n",
      "sinyal bagus buka shopee susah banget kaya sinyal edge loading barang muncul muncul\n",
      "login ya daftar ulng\n",
      "ngeselin ya nyari barang aja sampe jam saking lot nya suka shopee bilang blom apdet aplikasi ya apdet akutu\n",
      "login daftarkemarin chat nya logout pas login daftar bisaaplikasi updatesudah hapus datahapus cache dllapa pakai aplikasi\n",
      "iklan ganggu\n",
      "ya log in koneksi internet sinyal full banget log in pakai website pakai aplikasi mohon banget benah\n",
      "mimin ngg cek out nihh\n",
      "kecewa shopee pakai shopeepay checkout belanja belanja alfamart pakai shopee pay akun nonaktif isi saldo chekout belanja pakai nggak rugi gitu main nonaktif aja kecewa shopee rugi\n",
      "download instal\n",
      "ya mudah ya murah puas belanja ribet\n",
      "buka shopee tanam tanam siram\n",
      "bergabungsemoga\n",
      "gimana bayar shopeepaylater bisacuma layar putih doangdan limit telat bayar tagih\n",
      "lomba shopee joget poin sll dh mulubnyk curang dr shopee acaraterus suruh maen ngapain kl menang lock kl bkn uang dh shopee pay ku delete nyesel percayasuruh belanja belanja\n",
      "kenapaa akun shopee batas blokparah gw planggan stia shopee gniinmakin ksni parah shopee\n",
      "mahal banget ongkirnyaaku download minggu hapus\n",
      "sih gak gratis ongkir nyesel donlot bikin kaouta ku abis\n",
      "susah bngt masuk shopee\n",
      "pas daftar si tulis jaring masalah\n",
      "belanja lancar belanja aplikasi masalah buka clear chace hapus data uninstall buka nilai belanja ratus ribu saldo shopeepay apes dec update belanja super lot hp aman aman toko belah lancar lancar sajamales dah\n",
      "erorr si pesan gimana\n",
      "nih shoppe yaa belanja masuk keranjang\n",
      "harap pesan sampe saat aplikasi eror nya\n",
      "malas masuk server eror alih deh lazada\n",
      "toko nya tanda seru cok\n",
      "kena tipu uang shopee pay transaksi tagih pulsa gak pencet transaksi telfn shopee tipu\n",
      "kode otapi kirim nggak gunain sampe shopeepay blokir kalo kayak gin rugi guna saldo shopeepay blokir ganti pin ngirim kode otapi kadaluarsa\n",
      "karuan aplikasi nyabeberapa lihat notifikasipesan masukchat tim shopee suruh update clear cache log outsudah update clear cache gilir log in bisaparah parah parahpadalah barang terkirimgimana nasib barang sekarangjika tanggal login shopee hapus\n",
      "knapa login sih ah bngsatt login lwan chrome lwat aplikasi gak\n",
      "telat bayar hari shopeepaylater bunga\n",
      "aplikasi sihkenapa shoppe gratis kirim nya berubahjadi ribetgak ngerti sekalimasih kali belanja shopee aplikasi nya itujadi malas belanja aplikasi\n",
      "belanja terussss shoppepas ganti hp download ulang log in nangiss deh gueh\n",
      "update muncul putih doang handphone masalah selesai servisin tetep aja muncul putih doang\n",
      "sumpah kesel bangedsudah cape instal ulang lot putih polos kalo cekout\n",
      "aplikasi iniselalu update bulan\n",
      "uang kembali  nya robek rusak engga layak pakai\n",
      "salah beli kembali barang dasar aplikasi sampah\n",
      "voucher tanam beliitu usaha pke kouta beli ngratisterus bilang curang adilany\n",
      "shopee skarenag voucher gratis ongkirbisanya pakai shopeepaykenapa kayak lihat live bagiin voucher gratis ongkirndak kayak kesini pelit shopeenya\n"
     ]
    },
    {
     "name": "stdout",
     "output_type": "stream",
     "text": [
      "kesini shopee pelit gratis ongkir gitu sekali gratis ongkir shopee pay shopee pay paylater transfer nihil mending alih aplikasi\n",
      "pakai voucher gratis ongkir main shopee tanam biar gratis ongkir eh pas panen voucher nya pakai voucher gratis ongkir pas check out voucher nya --\n",
      "shopee pelit aja nih gratis ongkirnya skarenag shopee minimal belanja rb rb gin malas\n",
      "login chat sm shoppie suruh logout dlu login niy log out log onsebel jaring waepdhal hapus download aplikasi nya tolong solusi\n",
      "bagus banget aplikasi shopee bikin kepala pusing terima kasih ya\n",
      "suka aplikasi shopee shopee tanam kilat menit menit menit logout keburu bin ah\n",
      "kirim mahal\n",
      "dukung wilayah indonesia kecewa\n",
      "kecewaaaaasudah jam status ubah kemaspadahal info jual barang kirim\n",
      "narik dana jual tanggal -- -- masuk rekening bank komplain email tanggap dasar aplikasi buruk\n",
      "kesini buruk aplikasi shopeebaru isi saldo shopeepay langsung aplikasi nya dinonaktifkanjangan download nyesel\n",
      "kenapaa sope pay laternya yaaa punyak padahl da pakai\n",
      "aplikasi shopeenya lot banget\n",
      "aplikasi belanja online buruk download nyesel aplikasi ruwet\n",
      "puas belanja pakai shopee\n"
     ]
    },
    {
     "data": {
      "text/html": [
       "<div>\n",
       "<style scoped>\n",
       "    .dataframe tbody tr th:only-of-type {\n",
       "        vertical-align: middle;\n",
       "    }\n",
       "\n",
       "    .dataframe tbody tr th {\n",
       "        vertical-align: top;\n",
       "    }\n",
       "\n",
       "    .dataframe thead th {\n",
       "        text-align: right;\n",
       "    }\n",
       "</style>\n",
       "<table border=\"1\" class=\"dataframe\">\n",
       "  <thead>\n",
       "    <tr style=\"text-align: right;\">\n",
       "      <th></th>\n",
       "      <th>Review</th>\n",
       "      <th>SENTIMEN</th>\n",
       "    </tr>\n",
       "  </thead>\n",
       "  <tbody>\n",
       "    <tr>\n",
       "      <th>0</th>\n",
       "      <td>puas belanja shopee diskon gratis ongkir jual ...</td>\n",
       "      <td>POSITIF</td>\n",
       "    </tr>\n",
       "    <tr>\n",
       "      <th>1</th>\n",
       "      <td>aplikasi bagus bantu</td>\n",
       "      <td>POSITIF</td>\n",
       "    </tr>\n",
       "    <tr>\n",
       "      <th>2</th>\n",
       "      <td>kecewa shopee eror checkout aja susah</td>\n",
       "      <td>NEGATIF</td>\n",
       "    </tr>\n",
       "    <tr>\n",
       "      <th>3</th>\n",
       "      <td>shope bagus suka banget shopee</td>\n",
       "      <td>POSITIF</td>\n",
       "    </tr>\n",
       "    <tr>\n",
       "      <th>4</th>\n",
       "      <td>kecewa gratis ongkir mahal bayar</td>\n",
       "      <td>NEGATIF</td>\n",
       "    </tr>\n",
       "  </tbody>\n",
       "</table>\n",
       "</div>"
      ],
      "text/plain": [
       "                                              Review SENTIMEN\n",
       "0  puas belanja shopee diskon gratis ongkir jual ...  POSITIF\n",
       "1                               aplikasi bagus bantu  POSITIF\n",
       "2              kecewa shopee eror checkout aja susah  NEGATIF\n",
       "3                     shope bagus suka banget shopee  POSITIF\n",
       "4                   kecewa gratis ongkir mahal bayar  NEGATIF"
      ]
     },
     "execution_count": 10,
     "metadata": {},
     "output_type": "execute_result"
    }
   ],
   "source": [
    "# proses stemming\n",
    "! pip install Sastrawi\n",
    "from sklearn.pipeline import Pipeline\n",
    "from Sastrawi.Stemmer.StemmerFactory import StemmerFactory\n",
    "\n",
    "def stemming(Review):\n",
    "    factory = StemmerFactory()\n",
    "    stemmer = factory.create_stemmer()\n",
    "    do = []\n",
    "    for w in Review:\n",
    "        dt = stemmer.stem(w)\n",
    "        do.append(dt)\n",
    "    d_clean=[]\n",
    "    d_clean=\" \".join(do)\n",
    "    print(d_clean)\n",
    "    return d_clean\n",
    "data['Review'] = data['Review'].apply(stemming)\n",
    "\n",
    "data.to_csv('shopeebersih.csv', index=False)\n",
    "data_clean = pd.read_csv('shopeebersih.csv', encoding='latin1')\n",
    "data_clean.head()"
   ]
  },
  {
   "cell_type": "code",
   "execution_count": 1,
   "id": "c207c67f",
   "metadata": {},
   "outputs": [],
   "source": [
    "import string\n",
    "from sklearn.pipeline import Pipeline\n",
    "import pandas as pd\n",
    "import numpy as np\n",
    "import re"
   ]
  },
  {
   "cell_type": "code",
   "execution_count": 2,
   "id": "3ae310e8",
   "metadata": {},
   "outputs": [
    {
     "data": {
      "text/html": [
       "<div>\n",
       "<style scoped>\n",
       "    .dataframe tbody tr th:only-of-type {\n",
       "        vertical-align: middle;\n",
       "    }\n",
       "\n",
       "    .dataframe tbody tr th {\n",
       "        vertical-align: top;\n",
       "    }\n",
       "\n",
       "    .dataframe thead th {\n",
       "        text-align: right;\n",
       "    }\n",
       "</style>\n",
       "<table border=\"1\" class=\"dataframe\">\n",
       "  <thead>\n",
       "    <tr style=\"text-align: right;\">\n",
       "      <th></th>\n",
       "      <th>Review</th>\n",
       "      <th>SENTIMEN</th>\n",
       "    </tr>\n",
       "  </thead>\n",
       "  <tbody>\n",
       "    <tr>\n",
       "      <th>0</th>\n",
       "      <td>puas belanja shopee diskon gratis ongkir jual ...</td>\n",
       "      <td>POSITIF</td>\n",
       "    </tr>\n",
       "    <tr>\n",
       "      <th>1</th>\n",
       "      <td>aplikasi bagus bantu</td>\n",
       "      <td>POSITIF</td>\n",
       "    </tr>\n",
       "    <tr>\n",
       "      <th>2</th>\n",
       "      <td>kecewa shopee eror checkout aja susah</td>\n",
       "      <td>NEGATIF</td>\n",
       "    </tr>\n",
       "    <tr>\n",
       "      <th>3</th>\n",
       "      <td>shope bagus suka banget shopee</td>\n",
       "      <td>POSITIF</td>\n",
       "    </tr>\n",
       "    <tr>\n",
       "      <th>4</th>\n",
       "      <td>kecewa gratis ongkir mahal bayar</td>\n",
       "      <td>NEGATIF</td>\n",
       "    </tr>\n",
       "  </tbody>\n",
       "</table>\n",
       "</div>"
      ],
      "text/plain": [
       "                                              Review SENTIMEN\n",
       "0  puas belanja shopee diskon gratis ongkir jual ...  POSITIF\n",
       "1                               aplikasi bagus bantu  POSITIF\n",
       "2              kecewa shopee eror checkout aja susah  NEGATIF\n",
       "3                     shope bagus suka banget shopee  POSITIF\n",
       "4                   kecewa gratis ongkir mahal bayar  NEGATIF"
      ]
     },
     "execution_count": 2,
     "metadata": {},
     "output_type": "execute_result"
    }
   ],
   "source": [
    "data_clean = pd.read_csv('shopeebersih.csv', encoding='latin1')\n",
    "data_clean.head()"
   ]
  },
  {
   "cell_type": "code",
   "execution_count": 5,
   "id": "9cdd2138",
   "metadata": {},
   "outputs": [
    {
     "data": {
      "text/plain": [
       "Review      string[python]\n",
       "SENTIMEN          category\n",
       "dtype: object"
      ]
     },
     "execution_count": 5,
     "metadata": {},
     "output_type": "execute_result"
    }
   ],
   "source": [
    "data_clean = data_clean.astype({'SENTIMEN' : 'category'})\n",
    "data_clean = data_clean.astype({'Review' : 'string'})\n",
    "data_clean.dtypes"
   ]
  },
  {
   "cell_type": "markdown",
   "id": "9584dbab",
   "metadata": {},
   "source": [
    "## Proses TF-IDF"
   ]
  },
  {
   "cell_type": "code",
   "execution_count": 8,
   "id": "e035fc13",
   "metadata": {},
   "outputs": [
    {
     "name": "stdout",
     "output_type": "stream",
     "text": [
      "  (0, 1894)\t0.4973849359042747\n",
      "  (0, 973)\t0.3859651001863744\n",
      "  (0, 803)\t0.3322900358805096\n",
      "  (0, 1409)\t0.265078756595941\n",
      "  (0, 639)\t0.27354683644607103\n",
      "  (0, 464)\t0.40389968790903774\n",
      "  (0, 1794)\t0.16114082366566082\n",
      "  (0, 203)\t0.21396279890775727\n",
      "  (0, 1603)\t0.3365211402556181\n",
      "  (1, 169)\t0.7256888802818434\n",
      "  (1, 137)\t0.5192631753965651\n",
      "  (1, 97)\t0.45137722994448953\n",
      "  (2, 1944)\t0.45096566701598506\n",
      "  (2, 26)\t0.3374346427605498\n",
      "  (2, 355)\t0.5495523423281827\n",
      "  (2, 542)\t0.4662274914342256\n",
      "  (2, 860)\t0.3576913991529508\n",
      "  (2, 1794)\t0.1882786267276488\n",
      "  (3, 158)\t0.4135401826385118\n",
      "  (3, 1929)\t0.44052452483057114\n",
      "  (3, 1792)\t0.632760594827925\n",
      "  (3, 137)\t0.4041120331709157\n",
      "  (3, 1794)\t0.2668897799571671\n",
      "  (4, 188)\t0.4686560136441265\n",
      "  (4, 1102)\t0.5256773570361566\n",
      "  :\t:\n",
      "  (890, 97)\t0.27811609956492306\n",
      "  (891, 1451)\t0.37935888522663136\n",
      "  (891, 1612)\t0.37935888522663136\n",
      "  (891, 1022)\t0.37935888522663136\n",
      "  (891, 1895)\t0.37935888522663136\n",
      "  (891, 883)\t0.3206987216593169\n",
      "  (891, 2182)\t0.3423484426826442\n",
      "  (891, 392)\t0.3423484426826442\n",
      "  (891, 1481)\t0.22808007658985327\n",
      "  (891, 1456)\t0.18728118157682913\n",
      "  (892, 1807)\t0.7192653415801052\n",
      "  (892, 1080)\t0.5230382228517964\n",
      "  (892, 158)\t0.3485008872457314\n",
      "  (892, 97)\t0.2960329667902328\n",
      "  (893, 1687)\t0.5117769779885291\n",
      "  (893, 1391)\t0.43264103994174163\n",
      "  (893, 314)\t0.38271182205123594\n",
      "  (893, 500)\t0.3459157063223054\n",
      "  (893, 1425)\t0.3216787244986256\n",
      "  (893, 97)\t0.38017169665616274\n",
      "  (893, 203)\t0.19176110139267744\n",
      "  (894, 1456)\t0.5481756646800718\n",
      "  (894, 1794)\t0.31334513075607934\n",
      "  (894, 203)\t0.41605969037239726\n",
      "  (894, 1603)\t0.6543795563212851\n"
     ]
    }
   ],
   "source": [
    "# PROSES TF IDF\n",
    "from sklearn.feature_extraction.text import CountVectorizer\n",
    "from sklearn.feature_extraction.text import TfidfVectorizer\n",
    "\n",
    "vectorizer = CountVectorizer()\n",
    "X = vectorizer.fit_transform(data_clean['Review'].astype('U'))\n",
    "\n",
    "tf = TfidfVectorizer()\n",
    "text_tf = tf.fit_transform(data_clean['Review'].astype('U'))\n",
    "print(text_tf)"
   ]
  },
  {
   "cell_type": "markdown",
   "id": "ec37049e",
   "metadata": {},
   "source": [
    "## Proses Cosine Similarity "
   ]
  },
  {
   "cell_type": "code",
   "execution_count": 11,
   "id": "67f6f9dd",
   "metadata": {},
   "outputs": [],
   "source": [
    "# Import cosine_similarity metrics\n",
    "from sklearn.metrics.pairwise import cosine_similarity"
   ]
  },
  {
   "cell_type": "code",
   "execution_count": 13,
   "id": "54086cde",
   "metadata": {},
   "outputs": [
    {
     "name": "stdout",
     "output_type": "stream",
     "text": [
      "[[1.         0.         0.03033937 ... 0.         0.04102974 0.35972654]\n",
      " [0.         1.         0.         ... 0.13362254 0.17160085 0.        ]\n",
      " [0.03033937 0.         1.         ... 0.         0.         0.05899619]\n",
      " ...\n",
      " [0.         0.13362254 0.         ... 1.         0.11254336 0.        ]\n",
      " [0.04102974 0.17160085 0.         ... 0.11254336 1.         0.07978406]\n",
      " [0.35972654 0.         0.05899619 ... 0.         0.07978406 1.        ]]\n"
     ]
    }
   ],
   "source": [
    "# compute similarity using cosine similarity\n",
    "cos_sim=cosine_similarity(text_tf, text_tf)\n",
    "\n",
    "print(cos_sim)"
   ]
  },
  {
   "cell_type": "code",
   "execution_count": 15,
   "id": "18041a82",
   "metadata": {},
   "outputs": [
    {
     "name": "stdout",
     "output_type": "stream",
     "text": [
      "Jumlah Data Uji: (179, 895)\n",
      "Jumlah Data Latih: (716, 895)\n",
      "Jumlah data uji dengan sentimen positif: 94\n",
      "Jumlah data uji dengan sentimen negatif: 85\n",
      "Jumlah data latih dengan sentimen positif: 375\n",
      "Jumlah data latih dengan sentimen negatif: 341\n"
     ]
    },
    {
     "data": {
      "text/plain": [
       "SENTIMEN\n",
       "POSITIF    469\n",
       "NEGATIF    426\n",
       "Name: count, dtype: int64"
      ]
     },
     "execution_count": 15,
     "metadata": {},
     "output_type": "execute_result"
    }
   ],
   "source": [
    "# splitting data \n",
    "import collections, numpy\n",
    "from sklearn.model_selection import train_test_split\n",
    "X_train, X_test, y_train, y_test = train_test_split(cos_sim, data_clean['SENTIMEN'], test_size=0.2, random_state=33)\n",
    "print(\"Jumlah Data Uji:\", X_test.shape)\n",
    "print(\"Jumlah Data Latih:\",X_train.shape)\n",
    "\n",
    "pos = (y_test == 'POSITIF').sum()\n",
    "neg = (y_test == 'NEGATIF').sum()\n",
    "postrain = (y_train == 'POSITIF').sum()\n",
    "negtrain = (y_train == 'NEGATIF').sum()\n",
    "total = pos + neg\n",
    "print(\"Jumlah data uji dengan sentimen positif:\", pos)\n",
    "print(\"Jumlah data uji dengan sentimen negatif:\",neg)\n",
    "print(\"Jumlah data latih dengan sentimen positif:\", postrain)\n",
    "print(\"Jumlah data latih dengan sentimen negatif:\",negtrain)\n",
    "data_clean['SENTIMEN'].value_counts()"
   ]
  },
  {
   "cell_type": "markdown",
   "id": "a99cd9a2",
   "metadata": {},
   "source": [
    "### Perform algoritma KNN "
   ]
  },
  {
   "cell_type": "code",
   "execution_count": 18,
   "id": "a4e4e8be",
   "metadata": {},
   "outputs": [
    {
     "name": "stdout",
     "output_type": "stream",
     "text": [
      "confusion matrix:\n",
      " [[72 13]\n",
      " [19 75]]\n",
      "===============================================\n",
      "\n",
      "TN: 72\n",
      "FP: 13\n",
      "FN: 19\n",
      "TP: 75\n",
      "              precision    recall  f1-score   support\n",
      "\n",
      "     NEGATIF       0.79      0.85      0.82        85\n",
      "     POSITIF       0.85      0.80      0.82        94\n",
      "\n",
      "    accuracy                           0.82       179\n",
      "   macro avg       0.82      0.82      0.82       179\n",
      "weighted avg       0.82      0.82      0.82       179\n",
      "\n",
      "===============================================\n",
      "\n",
      "Hasil Klasifikasi Sentimen Analisis Shopee:\n",
      "Accuracy: 0.8212290502793296\n",
      "Precision: 0.8522727272727273\n",
      "Recall: 0.7978723404255319\n",
      "f1_score: 0.8241758241758241\n",
      "error_rate: 0.17877094972067042\n"
     ]
    }
   ],
   "source": [
    "# perform algoritma KNN\n",
    "from sklearn.metrics import accuracy_score, precision_score, recall_score, f1_score\n",
    "from sklearn.metrics import classification_report\n",
    "from sklearn.metrics import confusion_matrix\n",
    "from sklearn.neighbors import KNeighborsClassifier\n",
    "\n",
    "clf = KNeighborsClassifier(n_neighbors=7).fit(X_train, y_train)\n",
    "predicted = clf.predict(X_test)\n",
    "print(f'confusion matrix:\\n {confusion_matrix(y_test, predicted)}')\n",
    "print('===============================================\\n')\n",
    "tn, fp, fn, tp = confusion_matrix(y_test, predicted).ravel()\n",
    "print(\"TN:\", tn)\n",
    "print(\"FP:\", fp)\n",
    "print(\"FN:\", fn)\n",
    "print(\"TP:\", tp)\n",
    "print(classification_report(y_test, predicted, zero_division=0))\n",
    "print('===============================================\\n')\n",
    "print(\"Hasil Klasifikasi Sentimen Analisis Shopee:\")\n",
    "print(\"Accuracy:\" , accuracy_score(y_test,predicted))\n",
    "print(\"Precision:\" , precision_score(y_test,predicted, average=\"binary\", pos_label=\"POSITIF\"))\n",
    "print(\"Recall:\" , recall_score(y_test,predicted, average=\"binary\", pos_label=\"POSITIF\"))\n",
    "print(\"f1_score:\" , f1_score(y_test,predicted, average=\"binary\", pos_label=\"POSITIF\"))\n",
    "print(\"error_rate:\", 1-accuracy_score(y_test,predicted))\n"
   ]
  },
  {
   "cell_type": "code",
   "execution_count": 19,
   "id": "b2abd55b",
   "metadata": {},
   "outputs": [
    {
     "name": "stdout",
     "output_type": "stream",
     "text": [
      "Jumlah Data Uji: (269, 895)\n",
      "Jumlah Data Latih: (626, 895)\n",
      "Jumlah data uji dengan sentimen positif: 142\n",
      "Jumlah data uji dengan sentimen negatif: 127\n",
      "Jumlah data latih dengan sentimen positif: 327\n",
      "Jumlah data latih dengan sentimen negatif: 299\n"
     ]
    },
    {
     "data": {
      "text/plain": [
       "SENTIMEN\n",
       "POSITIF    469\n",
       "NEGATIF    426\n",
       "Name: count, dtype: int64"
      ]
     },
     "execution_count": 19,
     "metadata": {},
     "output_type": "execute_result"
    }
   ],
   "source": [
    "# splitting data 70:30\n",
    "import collections, numpy\n",
    "from sklearn.model_selection import train_test_split\n",
    "X_train, X_test, y_train, y_test = train_test_split(cos_sim, data_clean['SENTIMEN'], test_size=0.3, random_state=33)\n",
    "print(\"Jumlah Data Uji:\", X_test.shape)\n",
    "print(\"Jumlah Data Latih:\",X_train.shape)\n",
    "\n",
    "pos = (y_test == 'POSITIF').sum()\n",
    "neg = (y_test == 'NEGATIF').sum()\n",
    "postrain = (y_train == 'POSITIF').sum()\n",
    "negtrain = (y_train == 'NEGATIF').sum()\n",
    "total = pos + neg\n",
    "print(\"Jumlah data uji dengan sentimen positif:\", pos)\n",
    "print(\"Jumlah data uji dengan sentimen negatif:\",neg)\n",
    "print(\"Jumlah data latih dengan sentimen positif:\", postrain)\n",
    "print(\"Jumlah data latih dengan sentimen negatif:\",negtrain)\n",
    "data_clean['SENTIMEN'].value_counts()"
   ]
  },
  {
   "cell_type": "code",
   "execution_count": 22,
   "id": "8708ec8b",
   "metadata": {},
   "outputs": [
    {
     "name": "stdout",
     "output_type": "stream",
     "text": [
      "knn Accuracy: 0.7397769516728625\n",
      "knn Precision: 0.7142857142857143\n",
      "knn Recall: 0.7480314960629921\n",
      "knn f1_score: 0.7307692307692307\n",
      "confusion matrix:\n",
      " [[ 95  32]\n",
      " [ 38 104]]\n",
      "===============================================\n",
      "\n",
      "              precision    recall  f1-score   support\n",
      "\n",
      "     NEGATIF       0.71      0.75      0.73       127\n",
      "     POSITIF       0.76      0.73      0.75       142\n",
      "\n",
      "    accuracy                           0.74       269\n",
      "   macro avg       0.74      0.74      0.74       269\n",
      "weighted avg       0.74      0.74      0.74       269\n",
      "\n"
     ]
    }
   ],
   "source": [
    "# perform algoritma dengan \n",
    "from sklearn.naive_bayes import MultinomialNB\n",
    "from sklearn.metrics import accuracy_score, precision_score, recall_score, f1_score\n",
    "from sklearn.metrics import classification_report\n",
    "from sklearn.metrics import confusion_matrix\n",
    "from sklearn.neighbors import KNeighborsClassifier\n",
    "\n",
    "clf = KNeighborsClassifier(n_neighbors=1).fit(X_train, y_train)\n",
    "predicted = clf.predict(X_test)\n",
    "print(\"knn Accuracy:\" , accuracy_score(y_test,predicted))\n",
    "print(\"knn Precision:\" , precision_score(y_test,predicted, average=\"binary\", pos_label=\"NEGATIF\"))\n",
    "print(\"knn Recall:\" , recall_score(y_test,predicted, average=\"binary\", pos_label=\"NEGATIF\"))\n",
    "print(\"knn f1_score:\" , f1_score(y_test,predicted, average=\"binary\", pos_label=\"NEGATIF\"))\n",
    "\n",
    "print(f'confusion matrix:\\n {confusion_matrix(y_test, predicted)}')\n",
    "print('===============================================\\n')\n",
    "print(classification_report(y_test, predicted, zero_division=0))\n"
   ]
  },
  {
   "cell_type": "code",
   "execution_count": 24,
   "id": "5dae4af6",
   "metadata": {},
   "outputs": [
    {
     "name": "stdout",
     "output_type": "stream",
     "text": [
      "Jumlah Data Uji: (358, 895)\n",
      "Jumlah Data Latih: (537, 895)\n",
      "Jumlah data uji dengan sentimen positif: 184\n",
      "Jumlah data uji dengan sentimen negatif: 174\n",
      "Jumlah data latih dengan sentimen positif: 285\n",
      "Jumlah data latih dengan sentimen negatif: 252\n"
     ]
    },
    {
     "data": {
      "text/plain": [
       "SENTIMEN\n",
       "POSITIF    469\n",
       "NEGATIF    426\n",
       "Name: count, dtype: int64"
      ]
     },
     "execution_count": 24,
     "metadata": {},
     "output_type": "execute_result"
    }
   ],
   "source": [
    "# splitting data 60:40\n",
    "import collections, numpy\n",
    "from sklearn.model_selection import train_test_split\n",
    "X_train, X_test, y_train, y_test = train_test_split(cos_sim, data_clean['SENTIMEN'], test_size=0.4, random_state=33)\n",
    "print(\"Jumlah Data Uji:\", X_test.shape)\n",
    "print(\"Jumlah Data Latih:\",X_train.shape)\n",
    "\n",
    "pos = (y_test == 'POSITIF').sum()\n",
    "neg = (y_test == 'NEGATIF').sum()\n",
    "postrain = (y_train == 'POSITIF').sum()\n",
    "negtrain = (y_train == 'NEGATIF').sum()\n",
    "total = pos + neg\n",
    "print(\"Jumlah data uji dengan sentimen positif:\", pos)\n",
    "print(\"Jumlah data uji dengan sentimen negatif:\",neg)\n",
    "print(\"Jumlah data latih dengan sentimen positif:\", postrain)\n",
    "print(\"Jumlah data latih dengan sentimen negatif:\",negtrain)\n",
    "data_clean['SENTIMEN'].value_counts()"
   ]
  },
  {
   "cell_type": "code",
   "execution_count": 26,
   "id": "c942a9d5",
   "metadata": {},
   "outputs": [
    {
     "name": "stdout",
     "output_type": "stream",
     "text": [
      "knn Accuracy: 0.7821229050279329\n",
      "knn Precision: 0.75\n",
      "knn Recall: 0.8275862068965517\n",
      "knn f1_score: 0.7868852459016393\n",
      "confusion matrix:\n",
      " [[144  30]\n",
      " [ 48 136]]\n",
      "===============================================\n",
      "\n",
      "              precision    recall  f1-score   support\n",
      "\n",
      "     NEGATIF       0.75      0.83      0.79       174\n",
      "     POSITIF       0.82      0.74      0.78       184\n",
      "\n",
      "    accuracy                           0.78       358\n",
      "   macro avg       0.78      0.78      0.78       358\n",
      "weighted avg       0.79      0.78      0.78       358\n",
      "\n"
     ]
    }
   ],
   "source": [
    "# perform algoritma \n",
    "from sklearn.metrics import accuracy_score, precision_score, recall_score, f1_score\n",
    "from sklearn.metrics import classification_report\n",
    "from sklearn.metrics import confusion_matrix\n",
    "from sklearn.neighbors import KNeighborsClassifier\n",
    "\n",
    "\n",
    "clf = KNeighborsClassifier(n_neighbors=9).fit(X_train, y_train)\n",
    "predicted = clf.predict(X_test)\n",
    "print(\"knn Accuracy:\" , accuracy_score(y_test,predicted))\n",
    "print(\"knn Precision:\" , precision_score(y_test,predicted, average=\"binary\", pos_label=\"NEGATIF\"))\n",
    "print(\"knn Recall:\" , recall_score(y_test,predicted, average=\"binary\", pos_label=\"NEGATIF\"))\n",
    "print(\"knn f1_score:\" , f1_score(y_test,predicted, average=\"binary\", pos_label=\"NEGATIF\"))\n",
    "\n",
    "print(f'confusion matrix:\\n {confusion_matrix(y_test, predicted)}')\n",
    "print('===============================================\\n')\n",
    "print(classification_report(y_test, predicted, zero_division=0))\n"
   ]
  },
  {
   "cell_type": "code",
   "execution_count": 28,
   "id": "de24951f",
   "metadata": {},
   "outputs": [
    {
     "data": {
      "image/png": "[encoded data removed]",
      "text/plain": [
       "<Figure size 800x500 with 2 Axes>"
      ]
     },
     "metadata": {},
     "output_type": "display_data"
    }
   ],
   "source": [
    "import seaborn as sns\n",
    "import matplotlib.pyplot as plt\n",
    "f, ax = plt.subplots(figsize=(8,5))\n",
    "sns.heatmap(confusion_matrix(y_test, predicted), annot=True, fmt=\".0f\", ax=ax)\n",
    "plt.xlabel(\"y_head\")\n",
    "plt.ylabel(\"y_true\")\n",
    "plt.show()"
   ]
  },
  {
   "cell_type": "code",
   "execution_count": 30,
   "id": "b3bc2e07",
   "metadata": {},
   "outputs": [],
   "source": [
    "import string\n",
    "from sklearn.pipeline import Pipeline\n",
    "import pandas as pd\n",
    "import numpy as np\n",
    "import re"
   ]
  },
  {
   "cell_type": "code",
   "execution_count": 32,
   "id": "1f14af42",
   "metadata": {},
   "outputs": [
    {
     "data": {
      "text/html": [
       "<div>\n",
       "<style scoped>\n",
       "    .dataframe tbody tr th:only-of-type {\n",
       "        vertical-align: middle;\n",
       "    }\n",
       "\n",
       "    .dataframe tbody tr th {\n",
       "        vertical-align: top;\n",
       "    }\n",
       "\n",
       "    .dataframe thead th {\n",
       "        text-align: right;\n",
       "    }\n",
       "</style>\n",
       "<table border=\"1\" class=\"dataframe\">\n",
       "  <thead>\n",
       "    <tr style=\"text-align: right;\">\n",
       "      <th></th>\n",
       "      <th>Review</th>\n",
       "      <th>SENTIMEN</th>\n",
       "    </tr>\n",
       "  </thead>\n",
       "  <tbody>\n",
       "    <tr>\n",
       "      <th>0</th>\n",
       "      <td>puas belanja shopee diskon gratis ongkir jual ...</td>\n",
       "      <td>POSITIF</td>\n",
       "    </tr>\n",
       "    <tr>\n",
       "      <th>1</th>\n",
       "      <td>aplikasi bagus bantu</td>\n",
       "      <td>POSITIF</td>\n",
       "    </tr>\n",
       "    <tr>\n",
       "      <th>2</th>\n",
       "      <td>kecewa shopee eror checkout aja susah</td>\n",
       "      <td>NEGATIF</td>\n",
       "    </tr>\n",
       "    <tr>\n",
       "      <th>3</th>\n",
       "      <td>shope bagus suka banget shopee</td>\n",
       "      <td>POSITIF</td>\n",
       "    </tr>\n",
       "    <tr>\n",
       "      <th>4</th>\n",
       "      <td>kecewa gratis ongkir mahal bayar</td>\n",
       "      <td>NEGATIF</td>\n",
       "    </tr>\n",
       "  </tbody>\n",
       "</table>\n",
       "</div>"
      ],
      "text/plain": [
       "                                              Review SENTIMEN\n",
       "0  puas belanja shopee diskon gratis ongkir jual ...  POSITIF\n",
       "1                               aplikasi bagus bantu  POSITIF\n",
       "2              kecewa shopee eror checkout aja susah  NEGATIF\n",
       "3                     shope bagus suka banget shopee  POSITIF\n",
       "4                   kecewa gratis ongkir mahal bayar  NEGATIF"
      ]
     },
     "execution_count": 32,
     "metadata": {},
     "output_type": "execute_result"
    }
   ],
   "source": [
    "data_clean = pd.read_csv('shopeebersih.csv', encoding='latin1')\n",
    "data_clean.head()"
   ]
  },
  {
   "cell_type": "code",
   "execution_count": 34,
   "id": "a1bc56f5",
   "metadata": {},
   "outputs": [
    {
     "data": {
      "text/plain": [
       "Review      string[python]\n",
       "SENTIMEN          category\n",
       "dtype: object"
      ]
     },
     "execution_count": 34,
     "metadata": {},
     "output_type": "execute_result"
    }
   ],
   "source": [
    "data_clean = data_clean.astype({'SENTIMEN' : 'category'})\n",
    "data_clean = data_clean.astype({'Review' : 'string'})\n",
    "data_clean.dtypes"
   ]
  },
  {
   "cell_type": "code",
   "execution_count": 36,
   "id": "88bc59fa",
   "metadata": {},
   "outputs": [
    {
     "name": "stdout",
     "output_type": "stream",
     "text": [
      "  (0, 1894)\t0.4973849359042747\n",
      "  (0, 973)\t0.3859651001863744\n",
      "  (0, 803)\t0.3322900358805096\n",
      "  (0, 1409)\t0.265078756595941\n",
      "  (0, 639)\t0.27354683644607103\n",
      "  (0, 464)\t0.40389968790903774\n",
      "  (0, 1794)\t0.16114082366566082\n",
      "  (0, 203)\t0.21396279890775727\n",
      "  (0, 1603)\t0.3365211402556181\n",
      "  (1, 169)\t0.7256888802818434\n",
      "  (1, 137)\t0.5192631753965651\n",
      "  (1, 97)\t0.45137722994448953\n",
      "  (2, 1944)\t0.45096566701598506\n",
      "  (2, 26)\t0.3374346427605498\n",
      "  (2, 355)\t0.5495523423281827\n",
      "  (2, 542)\t0.4662274914342256\n",
      "  (2, 860)\t0.3576913991529508\n",
      "  (2, 1794)\t0.1882786267276488\n",
      "  (3, 158)\t0.4135401826385118\n",
      "  (3, 1929)\t0.44052452483057114\n",
      "  (3, 1792)\t0.632760594827925\n",
      "  (3, 137)\t0.4041120331709157\n",
      "  (3, 1794)\t0.2668897799571671\n",
      "  (4, 188)\t0.4686560136441265\n",
      "  (4, 1102)\t0.5256773570361566\n",
      "  :\t:\n",
      "  (890, 97)\t0.27811609956492306\n",
      "  (891, 1451)\t0.37935888522663136\n",
      "  (891, 1612)\t0.37935888522663136\n",
      "  (891, 1022)\t0.37935888522663136\n",
      "  (891, 1895)\t0.37935888522663136\n",
      "  (891, 883)\t0.3206987216593169\n",
      "  (891, 2182)\t0.3423484426826442\n",
      "  (891, 392)\t0.3423484426826442\n",
      "  (891, 1481)\t0.22808007658985327\n",
      "  (891, 1456)\t0.18728118157682913\n",
      "  (892, 1807)\t0.7192653415801052\n",
      "  (892, 1080)\t0.5230382228517964\n",
      "  (892, 158)\t0.3485008872457314\n",
      "  (892, 97)\t0.2960329667902328\n",
      "  (893, 1687)\t0.5117769779885291\n",
      "  (893, 1391)\t0.43264103994174163\n",
      "  (893, 314)\t0.38271182205123594\n",
      "  (893, 500)\t0.3459157063223054\n",
      "  (893, 1425)\t0.3216787244986256\n",
      "  (893, 97)\t0.38017169665616274\n",
      "  (893, 203)\t0.19176110139267744\n",
      "  (894, 1456)\t0.5481756646800718\n",
      "  (894, 1794)\t0.31334513075607934\n",
      "  (894, 203)\t0.41605969037239726\n",
      "  (894, 1603)\t0.6543795563212851\n"
     ]
    }
   ],
   "source": [
    "# PROSES TF IDF\n",
    "from sklearn.feature_extraction.text import CountVectorizer\n",
    "from sklearn.feature_extraction.text import TfidfVectorizer\n",
    "\n",
    "tf = TfidfVectorizer()\n",
    "text_tf = tf.fit_transform(data_clean['Review'].astype('U'))\n",
    "print(text_tf)"
   ]
  },
  {
   "cell_type": "code",
   "execution_count": 38,
   "id": "3d6c2d5a",
   "metadata": {},
   "outputs": [
    {
     "name": "stdout",
     "output_type": "stream",
     "text": [
      "[[1.         0.         0.03033937 ... 0.         0.04102974 0.35972654]\n",
      " [0.         1.         0.         ... 0.13362254 0.17160085 0.        ]\n",
      " [0.03033937 0.         1.         ... 0.         0.         0.05899619]\n",
      " ...\n",
      " [0.         0.13362254 0.         ... 1.         0.11254336 0.        ]\n",
      " [0.04102974 0.17160085 0.         ... 0.11254336 1.         0.07978406]\n",
      " [0.35972654 0.         0.05899619 ... 0.         0.07978406 1.        ]]\n"
     ]
    }
   ],
   "source": [
    "# Import cosine_similarity metrics\n",
    "from sklearn.metrics.pairwise import cosine_similarity\n",
    "# compute similarity using cosine similarity\n",
    "cos_sim=cosine_similarity(text_tf, text_tf)\n",
    "\n",
    "print(cos_sim)"
   ]
  },
  {
   "cell_type": "code",
   "execution_count": 40,
   "id": "112f24eb",
   "metadata": {},
   "outputs": [
    {
     "name": "stdout",
     "output_type": "stream",
     "text": [
      "[[0.04570051 0.         0.         ... 0.         0.04095843 0.08886657]\n",
      " [0.         0.         0.         ... 0.         0.         0.        ]\n",
      " [0.37197362 0.         0.06100475 ... 0.17496544 0.08250035 0.7233184 ]\n",
      " ...\n",
      " [0.0849554  0.         0.15216301 ... 0.         0.         0.16519936]\n",
      " [0.04493151 0.         0.03965521 ... 0.         0.         0.        ]\n",
      " [0.         0.         0.         ... 0.         0.         0.        ]]\n",
      "862    NEGATIF\n",
      "706    NEGATIF\n",
      "249    POSITIF\n",
      "690    NEGATIF\n",
      "259    POSITIF\n",
      "        ...   \n",
      "485    NEGATIF\n",
      "162    POSITIF\n",
      "571    NEGATIF\n",
      "635    NEGATIF\n",
      "27     POSITIF\n",
      "Name: SENTIMEN, Length: 179, dtype: category\n",
      "Categories (2, object): ['NEGATIF', 'POSITIF']\n"
     ]
    }
   ],
   "source": [
    "# splitting data menjadi 30 dan 70\n",
    "from sklearn.model_selection import train_test_split\n",
    "X_train, X_test, y_train, y_test = train_test_split(cos_sim, data_clean['SENTIMEN'], test_size=0.2, random_state=33)\n",
    "print(X_test)\n",
    "print(y_test)"
   ]
  },
  {
   "cell_type": "code",
   "execution_count": 42,
   "id": "e5cdc7f0",
   "metadata": {},
   "outputs": [
    {
     "name": "stdout",
     "output_type": "stream",
     "text": [
      "knn Accuracy: 0.7206703910614525\n",
      "knn Precision: 0.7340425531914894\n",
      "knn Recall: 0.7340425531914894\n",
      "knn f1_score: 0.7340425531914894\n",
      "confusion matrix:\n",
      " [[60 25]\n",
      " [25 69]]\n",
      "===============================================\n",
      "\n",
      "              precision    recall  f1-score   support\n",
      "\n",
      "     NEGATIF       0.71      0.71      0.71        85\n",
      "     POSITIF       0.73      0.73      0.73        94\n",
      "\n",
      "    accuracy                           0.72       179\n",
      "   macro avg       0.72      0.72      0.72       179\n",
      "weighted avg       0.72      0.72      0.72       179\n",
      "\n"
     ]
    }
   ],
   "source": [
    "# perform algoritma \n",
    "from sklearn.metrics import accuracy_score, precision_score, recall_score, f1_score\n",
    "from sklearn.metrics import classification_report\n",
    "from sklearn.metrics import confusion_matrix\n",
    "from sklearn.neighbors import KNeighborsClassifier\n",
    "from sklearn.tree import DecisionTreeClassifier\n",
    "\n",
    "clf = DecisionTreeClassifier().fit(X_train, y_train)\n",
    "predicted = clf.predict(X_test)\n",
    "print(\"knn Accuracy:\" , accuracy_score(y_test,predicted))\n",
    "print(\"knn Precision:\" , precision_score(y_test,predicted, average=\"binary\", pos_label=\"POSITIF\"))\n",
    "print(\"knn Recall:\" , recall_score(y_test,predicted, average=\"binary\", pos_label=\"POSITIF\"))\n",
    "print(\"knn f1_score:\" , f1_score(y_test,predicted, average=\"binary\", pos_label=\"POSITIF\"))\n",
    "\n",
    "print(f'confusion matrix:\\n {confusion_matrix(y_test, predicted)}')\n",
    "print('===============================================\\n')\n",
    "print(classification_report(y_test, predicted, zero_division=0))"
   ]
  },
  {
   "cell_type": "code",
   "execution_count": 44,
   "id": "8781f558",
   "metadata": {},
   "outputs": [
    {
     "data": {
      "text/plain": [
       "(60, 25, 25, 69)"
      ]
     },
     "execution_count": 44,
     "metadata": {},
     "output_type": "execute_result"
    }
   ],
   "source": [
    "tn, fp, fn, tp = confusion_matrix(y_test, predicted).ravel()\n",
    "tn, fp, fn, tp"
   ]
  },
  {
   "cell_type": "code",
   "execution_count": 46,
   "id": "12af48d1",
   "metadata": {},
   "outputs": [],
   "source": [
    "from sklearn.model_selection import cross_val_score\n",
    "from sklearn.neighbors import KNeighborsClassifier"
   ]
  },
  {
   "cell_type": "code",
   "execution_count": 48,
   "id": "9d56f2dc",
   "metadata": {},
   "outputs": [
    {
     "data": {
      "text/plain": [
       "array([0.8       , 0.78888889, 0.75555556, 0.76666667, 0.76666667,\n",
       "       0.82022472, 0.86516854, 0.84269663, 0.82022472, 0.80898876])"
      ]
     },
     "execution_count": 48,
     "metadata": {},
     "output_type": "execute_result"
    }
   ],
   "source": [
    "knn = KNeighborsClassifier(n_neighbors=3)\n",
    "cross_val_score(knn, cos_sim, data_clean['SENTIMEN'], cv=10)"
   ]
  },
  {
   "cell_type": "code",
   "execution_count": 49,
   "id": "62ba709e",
   "metadata": {},
   "outputs": [
    {
     "data": {
      "text/plain": [
       "0.8035081148564295"
      ]
     },
     "execution_count": 49,
     "metadata": {},
     "output_type": "execute_result"
    }
   ],
   "source": [
    "cross_val_score(knn, cos_sim, data_clean['SENTIMEN'], cv=10).mean()"
   ]
  },
  {
   "cell_type": "code",
   "execution_count": null,
   "id": "3db59087",
   "metadata": {},
   "outputs": [],
   "source": []
  },
  {
   "cell_type": "code",
   "execution_count": null,
   "id": "14890790-99da-41fd-9f69-d2f347dba973",
   "metadata": {},
   "outputs": [],
   "source": []
  },
  {
   "cell_type": "code",
   "execution_count": null,
   "id": "0470140d-1aad-4fc7-83b3-cc122be7f25f",
   "metadata": {},
   "outputs": [],
   "source": []
  },
  {
   "cell_type": "code",
   "execution_count": null,
   "id": "16661a2d-6700-412d-a374-f56900ca3eb5",
   "metadata": {},
   "outputs": [],
   "source": []
  }
 ],
 "metadata": {
  "kernelspec": {
   "display_name": "Python 3 (ipykernel)",
   "language": "python",
   "name": "python3"
  },
  "language_info": {
   "codemirror_mode": {
    "name": "ipython",
    "version": 3
   },
   "file_extension": ".py",
   "mimetype": "text/x-python",
   "name": "python",
   "nbconvert_exporter": "python",
   "pygments_lexer": "ipython3",
   "version": "3.12.4"
  }
 },
 "nbformat": 4,
 "nbformat_minor": 5
}
