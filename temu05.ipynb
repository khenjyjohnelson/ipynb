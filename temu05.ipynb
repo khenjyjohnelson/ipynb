{
 "cells": [
  {
   "cell_type": "markdown",
   "metadata": {
    "id": "y67mlELCbH7z"
   },
   "source": [
    "# Catatan"
   ]
  },
  {
   "cell_type": "code",
   "execution_count": 1,
   "metadata": {
    "id": "du4I6gDj0PLG"
   },
   "outputs": [
    {
     "data": {
      "text/html": [
       "0.909631554760367"
      ],
      "text/latex": [
       "0.909631554760367"
      ],
      "text/markdown": [
       "0.909631554760367"
      ],
      "text/plain": [
       "[1] 0.9096316"
      ]
     },
     "metadata": {},
     "output_type": "display_data"
    },
    {
     "data": {
      "text/html": [
       "0.373802792167765"
      ],
      "text/latex": [
       "0.373802792167765"
      ],
      "text/markdown": [
       "0.373802792167765"
      ],
      "text/plain": [
       "[1] 0.3738028"
      ]
     },
     "metadata": {},
     "output_type": "display_data"
    },
    {
     "data": {
      "text/html": [
       "<style>\n",
       ".list-inline {list-style: none; margin:0; padding: 0}\n",
       ".list-inline>li {display: inline-block}\n",
       ".list-inline>li:not(:last-child)::after {content: \"\\00b7\"; padding: 0 .5ex}\n",
       "</style>\n",
       "<ol class=list-inline><li>174.441666666667</li><li>175.608333333334</li><li>176.775000000001</li><li>177.941666666668</li></ol>\n"
      ],
      "text/latex": [
       "\\begin{enumerate*}\n",
       "\\item 174.441666666667\n",
       "\\item 175.608333333334\n",
       "\\item 176.775000000001\n",
       "\\item 177.941666666668\n",
       "\\end{enumerate*}\n"
      ],
      "text/markdown": [
       "1. 174.441666666667\n",
       "2. 175.608333333334\n",
       "3. 176.775000000001\n",
       "4. 177.941666666668\n",
       "\n",
       "\n"
      ],
      "text/plain": [
       "[1] 174.4417 175.6083 176.7750 177.9417"
      ]
     },
     "metadata": {},
     "output_type": "display_data"
    },
    {
     "data": {
      "text/html": [
       "<style>\n",
       ".dl-inline {width: auto; margin:0; padding: 0}\n",
       ".dl-inline>dt, .dl-inline>dd {float: none; width: auto; display: inline-block}\n",
       ".dl-inline>dt::after {content: \":\\0020\"; padding-right: .5ex}\n",
       ".dl-inline>dt:not(:first-of-type) {padding-left: .5ex}\n",
       "</style><dl class=dl-inline><dt>1</dt><dd>174.441666666667</dd><dt>2</dt><dd>175.608333333334</dd><dt>3</dt><dd>176.775000000001</dd><dt>4</dt><dd>177.941666666668</dd></dl>\n"
      ],
      "text/latex": [
       "\\begin{description*}\n",
       "\\item[1] 174.441666666667\n",
       "\\item[2] 175.608333333334\n",
       "\\item[3] 176.775000000001\n",
       "\\item[4] 177.941666666668\n",
       "\\end{description*}\n"
      ],
      "text/markdown": [
       "1\n",
       ":   174.4416666666672\n",
       ":   175.6083333333343\n",
       ":   176.7750000000014\n",
       ":   177.941666666668\n",
       "\n"
      ],
      "text/plain": [
       "       1        2        3        4 \n",
       "174.4417 175.6083 176.7750 177.9417 "
      ]
     },
     "metadata": {},
     "output_type": "display_data"
    },
    {
     "data": {
      "image/png": "[encoded data removed]",
      "text/plain": [
       "plot without title"
      ]
     },
     "metadata": {
      "image/png": {
       "height": 420,
       "width": 420
      }
     },
     "output_type": "display_data"
    },
    {
     "data": {
      "image/png": "[encoded data removed]",
      "text/plain": [
       "plot without title"
      ]
     },
     "metadata": {
      "image/png": {
       "height": 420,
       "width": 420
      }
     },
     "output_type": "display_data"
    }
   ],
   "source": [
    "#Menginisiasi Data\n",
    "#x1\n",
    "year <- rep(2008:2010, each=4)\n",
    "\n",
    "#x2\n",
    "quarter <- rep(1:4, 3)\n",
    "\n",
    "#y\n",
    "cpi <- c(162.2, 164.6, 166.5, 166.0,\n",
    "         166.2, 167.0, 168.6, 169.5, 171.0,\n",
    "         172.1, 173.3, 174.0)\n",
    "\n",
    "\n",
    "#Memplotkan Data tersebut\n",
    "plot(cpi, xaxt=\"n\", ylab=\"CPI\", xlab=\"\")\n",
    "axis(1, labels=paste(year,quarter,sep=\"Q\"), at=1:12, las=3)\n",
    "\n",
    "\n",
    "\n",
    "\n",
    "#Cek Korelasi Variabel Data\n",
    "cor(year,cpi)\n",
    "cor(quarter,cpi)\n",
    "\n",
    "\n",
    "\n",
    "\n",
    "#Fungsi Model Regresi Linear\n",
    "#Model Regresi Linear\n",
    "fit <- lm(cpi ~ year + quarter)\n",
    "\n",
    "#cpi = c0 + c1 *year + c2 * quarter\n",
    "\n",
    "#CPI pada tahun 2011\n",
    "(cpi2011 <- fit$coefficients[[1]] + fit$coefficients[[2]]*2011++ fit$coefficients[[3]]*(1:4))\n",
    "\n",
    "\n",
    "\n",
    "\n",
    "#Prediksi Regresi Linear\n",
    "data2011 <- data.frame(year=2011, quarter=1:4)\n",
    "\n",
    "cpi2011 <- predict(fit, newdata=data2011)\n",
    "cpi2011\n",
    "\n",
    "\n",
    "#Plot Prediksi Regresi Linear\n",
    "style <- c(rep(1,12), rep(2,4))\n",
    "plot(c(cpi, cpi2011), xaxt=\"n\", ylab=\"CPI\", xlab=\"\", pch=style, col=style)\n",
    "axis(1, at=1:16, las=3, labels=c(paste(year,quarter,sep=\"Q\"), \"2011Q1\",\n",
    "                                 \"2011Q2\", \"2011Q3\", \"2011Q4\"))\n",
    "\n",
    "\n"
   ]
  },
  {
   "cell_type": "markdown",
   "metadata": {
    "id": "s-HN-wNHbLGn"
   },
   "source": [
    "#Latihan"
   ]
  },
  {
   "cell_type": "code",
   "execution_count": 2,
   "metadata": {
    "id": "Q5pzIKG3bMpj"
   },
   "outputs": [
    {
     "data": {
      "text/html": [
       "-0.305673507907201"
      ],
      "text/latex": [
       "-0.305673507907201"
      ],
      "text/markdown": [
       "-0.305673507907201"
      ],
      "text/plain": [
       "[1] -0.3056735"
      ]
     },
     "metadata": {},
     "output_type": "display_data"
    },
    {
     "data": {
      "text/html": [
       "0.982471864864824"
      ],
      "text/latex": [
       "0.982471864864824"
      ],
      "text/markdown": [
       "0.982471864864824"
      ],
      "text/plain": [
       "[1] 0.9824719"
      ]
     },
     "metadata": {},
     "output_type": "display_data"
    },
    {
     "data": {
      "text/html": [
       "<style>\n",
       ".list-inline {list-style: none; margin:0; padding: 0}\n",
       ".list-inline>li {display: inline-block}\n",
       ".list-inline>li:not(:last-child)::after {content: \"\\00b7\"; padding: 0 .5ex}\n",
       "</style>\n",
       "<ol class=list-inline><li>3.4030612244898</li><li>19.8622448979592</li><li>16.8112244897959</li><li>23.515306122449</li></ol>\n"
      ],
      "text/latex": [
       "\\begin{enumerate*}\n",
       "\\item 3.4030612244898\n",
       "\\item 19.8622448979592\n",
       "\\item 16.8112244897959\n",
       "\\item 23.515306122449\n",
       "\\end{enumerate*}\n"
      ],
      "text/markdown": [
       "1. 3.4030612244898\n",
       "2. 19.8622448979592\n",
       "3. 16.8112244897959\n",
       "4. 23.515306122449\n",
       "\n",
       "\n"
      ],
      "text/plain": [
       "[1]  3.403061 19.862245 16.811224 23.515306"
      ]
     },
     "metadata": {},
     "output_type": "display_data"
    },
    {
     "data": {
      "text/html": [
       "<style>\n",
       ".dl-inline {width: auto; margin:0; padding: 0}\n",
       ".dl-inline>dt, .dl-inline>dd {float: none; width: auto; display: inline-block}\n",
       ".dl-inline>dt::after {content: \":\\0020\"; padding-right: .5ex}\n",
       ".dl-inline>dt:not(:first-of-type) {padding-left: .5ex}\n",
       "</style><dl class=dl-inline><dt>1</dt><dd>3.4030612244898</dd><dt>2</dt><dd>19.8622448979592</dd><dt>3</dt><dd>16.8112244897959</dd><dt>4</dt><dd>23.515306122449</dd></dl>\n"
      ],
      "text/latex": [
       "\\begin{description*}\n",
       "\\item[1] 3.4030612244898\n",
       "\\item[2] 19.8622448979592\n",
       "\\item[3] 16.8112244897959\n",
       "\\item[4] 23.515306122449\n",
       "\\end{description*}\n"
      ],
      "text/markdown": [
       "1\n",
       ":   3.40306122448982\n",
       ":   19.86224489795923\n",
       ":   16.81122448979594\n",
       ":   23.515306122449\n",
       "\n"
      ],
      "text/plain": [
       "        1         2         3         4 \n",
       " 3.403061 19.862245 16.811224 23.515306 "
      ]
     },
     "metadata": {},
     "output_type": "display_data"
    },
    {
     "name": "stderr",
     "output_type": "stream",
     "text": [
      "Installing package into 'C:/Users/khenj/AppData/Local/R/win-library/4.4'\n",
      "(as 'lib' is unspecified)\n",
      "\n"
     ]
    },
    {
     "name": "stdout",
     "output_type": "stream",
     "text": [
      "package 'ggplot2' successfully unpacked and MD5 sums checked\n",
      "\n",
      "The downloaded binary packages are in\n",
      "\tC:\\Users\\khenj\\AppData\\Local\\Temp\\RtmpMpghQN\\downloaded_packages\n"
     ]
    },
    {
     "data": {
      "text/plain": [
       "\n",
       "Call:\n",
       "lm(formula = Waktu ~ Jarak, data = data)\n",
       "\n",
       "Residuals:\n",
       "    1     2     3     4 \n",
       " 0.75  0.75 -0.75 -0.75 \n",
       "\n",
       "Coefficients:\n",
       "            Estimate Std. Error t value Pr(>|t|)  \n",
       "(Intercept)  -2.7500     2.0812  -1.321   0.3173  \n",
       "Jarak         2.5000     0.3354   7.454   0.0175 *\n",
       "---\n",
       "Signif. codes:  0 '***' 0.001 '**' 0.01 '*' 0.05 '.' 0.1 ' ' 1\n",
       "\n",
       "Residual standard error: 1.061 on 2 degrees of freedom\n",
       "Multiple R-squared:  0.9653,\tAdjusted R-squared:  0.9479 \n",
       "F-statistic: 55.56 on 1 and 2 DF,  p-value: 0.01753\n"
      ]
     },
     "metadata": {},
     "output_type": "display_data"
    },
    {
     "data": {
      "text/html": [
       "<style>\n",
       ".dl-inline {width: auto; margin:0; padding: 0}\n",
       ".dl-inline>dt, .dl-inline>dd {float: none; width: auto; display: inline-block}\n",
       ".dl-inline>dt::after {content: \":\\0020\"; padding-right: .5ex}\n",
       ".dl-inline>dt:not(:first-of-type) {padding-left: .5ex}\n",
       "</style><dl class=dl-inline><dt>1</dt><dd>4.75</dd><dt>2</dt><dd>22.25</dd><dt>3</dt><dd>19.75</dd><dt>4</dt><dd>27.25</dd></dl>\n"
      ],
      "text/latex": [
       "\\begin{description*}\n",
       "\\item[1] 4.75\n",
       "\\item[2] 22.25\n",
       "\\item[3] 19.75\n",
       "\\item[4] 27.25\n",
       "\\end{description*}\n"
      ],
      "text/markdown": [
       "1\n",
       ":   4.752\n",
       ":   22.253\n",
       ":   19.754\n",
       ":   27.25\n",
       "\n"
      ],
      "text/plain": [
       "    1     2     3     4 \n",
       " 4.75 22.25 19.75 27.25 "
      ]
     },
     "metadata": {},
     "output_type": "display_data"
    },
    {
     "data": {
      "text/html": [
       "-0.305673507907201"
      ],
      "text/latex": [
       "-0.305673507907201"
      ],
      "text/markdown": [
       "-0.305673507907201"
      ],
      "text/plain": [
       "[1] -0.3056735"
      ]
     },
     "metadata": {},
     "output_type": "display_data"
    },
    {
     "data": {
      "text/html": [
       "0.982471864864824"
      ],
      "text/latex": [
       "0.982471864864824"
      ],
      "text/markdown": [
       "0.982471864864824"
      ],
      "text/plain": [
       "[1] 0.9824719"
      ]
     },
     "metadata": {},
     "output_type": "display_data"
    },
    {
     "data": {
      "image/png": "[encoded data removed]",
      "text/plain": [
       "plot without title"
      ]
     },
     "metadata": {
      "image/png": {
       "height": 420,
       "width": 420
      }
     },
     "output_type": "display_data"
    },
    {
     "data": {
      "image/png": "[encoded data removed]",
      "text/plain": [
       "plot without title"
      ]
     },
     "metadata": {
      "image/png": {
       "height": 420,
       "width": 420
      }
     },
     "output_type": "display_data"
    }
   ],
   "source": [
    "#Latihan\n",
    "#Prediksi waktu nomor pesanan 5,6,7,8\n",
    "\n",
    "#lat_no<- c(1:8)\n",
    "lat_no<- c(1:4)\n",
    "#lat_jarak<-c(8,4,5,7,3,10,9,12)\n",
    "lat_jarak<-c(8,4,5,7)\n",
    "lat_waktu<-c(18, 8, 9, 14)\n",
    "\n",
    "\n",
    "plot(lat_waktu, xaxt=\"n\", ylab=\"CPI\", xlab=\"\")\n",
    "axis(1, labels=paste(lat_no,lat_jarak,sep=\"=\"), at=1:4, las=3)\n",
    "\n",
    "\n",
    "cor(lat_no,lat_waktu)\n",
    "cor(lat_jarak,lat_waktu)\n",
    "\n",
    "lat_fit <- lm(lat_waktu ~ lat_no + lat_jarak)\n",
    "\n",
    "\n",
    "(lat_cpi5 <- lat_fit$coefficients[[1]] + lat_fit$coefficients[[2]]*c(5,6,7,8)++ lat_fit$coefficients[[3]]*c(3,10,9,12))\n",
    "\n",
    "\n",
    "#Prediksi Regresi Linear\n",
    "lat_data5 <- data.frame(lat_no=c(5,6,7,8), lat_jarak=c(3,10,9,12))\n",
    "\n",
    "lat_cpi5 <- predict(lat_fit, newdata=lat_data5)\n",
    "lat_cpi5\n",
    "\n",
    "install.packages(\"ggplot2\")\n",
    "\n",
    "\n",
    "\n",
    "\n",
    "\n",
    "\n",
    "#Cara lain\n",
    "\n",
    "# Membuka library yang diperlukan\n",
    "library(ggplot2)\n",
    "\n",
    "# Data yang diberikan\n",
    "No_Pesanan <- c(1, 2, 3, 4)\n",
    "Jarak <- c(8, 4, 5, 7)\n",
    "Waktu <- c(18, 8, 9, 14)\n",
    "\n",
    "# Membuat data frame\n",
    "data <- data.frame(No_Pesanan, Jarak, Waktu)\n",
    "\n",
    "# Melakukan regresi linier\n",
    "model <- lm(Waktu ~ Jarak, data = data)\n",
    "\n",
    "# Menampilkan ringkasan model\n",
    "summary(model)\n",
    "\n",
    "# Prediksi waktu untuk nomor pesanan 5, 6, 7, dan 8 berdasarkan jarak mereka\n",
    "new_data <- data.frame(Jarak = c(3, 10, 9, 12))\n",
    "predicted_time <- predict(model, newdata = new_data)\n",
    "\n",
    "# Menampilkan prediksi\n",
    "predicted_time\n",
    "\n",
    "\n",
    "\n",
    "\n",
    "\n",
    "\n",
    "\n",
    "\n",
    "\n",
    "#Cara AI\n",
    "\n",
    "cor(No_Pesanan,Waktu)\n",
    "cor(Jarak,Waktu)\n",
    "\n",
    "# Data yang diberikan\n",
    "No_Pesanan <- c(1, 2, 3, 4)\n",
    "Jarak <- c(8, 4, 5, 7)\n",
    "Waktu <- c(18, 8, 9, 14)\n",
    "\n",
    "# Membuat prediksi untuk nomor pesanan 5, 6, 7, dan 8 berdasarkan regresi linier\n",
    "new_No_Pesanan <- c(5, 6, 7, 8)\n",
    "new_Jarak <- c(3, 10, 9, 12)\n",
    "\n",
    "# Menggabungkan data asli dan data prediksi\n",
    "lat_no <- c(No_Pesanan, new_No_Pesanan)\n",
    "lat_jarak <- c(Jarak, new_Jarak)\n",
    "lat_waktu <- c(Waktu, predict(lm(Waktu ~ Jarak, data = data.frame(Jarak, Waktu)), newdata = data.frame(Jarak = new_Jarak)))\n",
    "\n",
    "# Membuat plot\n",
    "plot(lat_waktu, type=\"o\", xaxt=\"n\", ylab=\"Waktu (menit)\", xlab=\"\", col=\"blue\", pch=16, lty=1, ylim = range(lat_waktu))\n",
    "\n",
    "# Menambahkan axis dengan label yang berisi nomor pesanan = jarak\n",
    "axis(1, labels=paste(lat_no, lat_jarak, sep=\"=\"), at=1:8, las=3)"
   ]
  },
  {
   "cell_type": "markdown",
   "metadata": {
    "id": "xduKRDsobRiI"
   },
   "source": [
    "PrakDaming 5"
   ]
  },
  {
   "cell_type": "code",
   "execution_count": 3,
   "metadata": {
    "id": "7JZ9u9tVbTRm"
   },
   "outputs": [
    {
     "data": {
      "text/html": [
       "0.909631554760367"
      ],
      "text/latex": [
       "0.909631554760367"
      ],
      "text/markdown": [
       "0.909631554760367"
      ],
      "text/plain": [
       "[1] 0.9096316"
      ]
     },
     "metadata": {},
     "output_type": "display_data"
    },
    {
     "data": {
      "text/html": [
       "0.373802792167765"
      ],
      "text/latex": [
       "0.373802792167765"
      ],
      "text/markdown": [
       "0.373802792167765"
      ],
      "text/plain": [
       "[1] 0.3738028"
      ]
     },
     "metadata": {},
     "output_type": "display_data"
    },
    {
     "data": {
      "text/html": [
       "<style>\n",
       ".list-inline {list-style: none; margin:0; padding: 0}\n",
       ".list-inline>li {display: inline-block}\n",
       ".list-inline>li:not(:last-child)::after {content: \"\\00b7\"; padding: 0 .5ex}\n",
       "</style>\n",
       "<ol class=list-inline><li>174.441666666667</li><li>175.608333333334</li><li>176.775000000001</li><li>177.941666666668</li></ol>\n"
      ],
      "text/latex": [
       "\\begin{enumerate*}\n",
       "\\item 174.441666666667\n",
       "\\item 175.608333333334\n",
       "\\item 176.775000000001\n",
       "\\item 177.941666666668\n",
       "\\end{enumerate*}\n"
      ],
      "text/markdown": [
       "1. 174.441666666667\n",
       "2. 175.608333333334\n",
       "3. 176.775000000001\n",
       "4. 177.941666666668\n",
       "\n",
       "\n"
      ],
      "text/plain": [
       "[1] 174.4417 175.6083 176.7750 177.9417"
      ]
     },
     "metadata": {},
     "output_type": "display_data"
    },
    {
     "data": {
      "text/html": [
       "<style>\n",
       ".dl-inline {width: auto; margin:0; padding: 0}\n",
       ".dl-inline>dt, .dl-inline>dd {float: none; width: auto; display: inline-block}\n",
       ".dl-inline>dt::after {content: \":\\0020\"; padding-right: .5ex}\n",
       ".dl-inline>dt:not(:first-of-type) {padding-left: .5ex}\n",
       "</style><dl class=dl-inline><dt>1</dt><dd>174.441666666667</dd><dt>2</dt><dd>175.608333333334</dd><dt>3</dt><dd>176.775000000001</dd><dt>4</dt><dd>177.941666666668</dd></dl>\n"
      ],
      "text/latex": [
       "\\begin{description*}\n",
       "\\item[1] 174.441666666667\n",
       "\\item[2] 175.608333333334\n",
       "\\item[3] 176.775000000001\n",
       "\\item[4] 177.941666666668\n",
       "\\end{description*}\n"
      ],
      "text/markdown": [
       "1\n",
       ":   174.4416666666672\n",
       ":   175.6083333333343\n",
       ":   176.7750000000014\n",
       ":   177.941666666668\n",
       "\n"
      ],
      "text/plain": [
       "       1        2        3        4 \n",
       "174.4417 175.6083 176.7750 177.9417 "
      ]
     },
     "metadata": {},
     "output_type": "display_data"
    },
    {
     "data": {
      "image/png": "[encoded data removed]",
      "text/plain": [
       "plot without title"
      ]
     },
     "metadata": {
      "image/png": {
       "height": 420,
       "width": 420
      }
     },
     "output_type": "display_data"
    },
    {
     "data": {
      "image/png": "[encoded data removed]",
      "text/plain": [
       "plot without title"
      ]
     },
     "metadata": {
      "image/png": {
       "height": 420,
       "width": 420
      }
     },
     "output_type": "display_data"
    },
    {
     "data": {
      "text/html": [
       "-0.305673507907201"
      ],
      "text/latex": [
       "-0.305673507907201"
      ],
      "text/markdown": [
       "-0.305673507907201"
      ],
      "text/plain": [
       "[1] -0.3056735"
      ]
     },
     "metadata": {},
     "output_type": "display_data"
    },
    {
     "data": {
      "text/html": [
       "0.982471864864824"
      ],
      "text/latex": [
       "0.982471864864824"
      ],
      "text/markdown": [
       "0.982471864864824"
      ],
      "text/plain": [
       "[1] 0.9824719"
      ]
     },
     "metadata": {},
     "output_type": "display_data"
    },
    {
     "data": {
      "text/html": [
       "<style>\n",
       ".list-inline {list-style: none; margin:0; padding: 0}\n",
       ".list-inline>li {display: inline-block}\n",
       ".list-inline>li:not(:last-child)::after {content: \"\\00b7\"; padding: 0 .5ex}\n",
       "</style>\n",
       "<ol class=list-inline><li>3.4030612244898</li><li>19.8622448979592</li><li>16.8112244897959</li><li>23.515306122449</li></ol>\n"
      ],
      "text/latex": [
       "\\begin{enumerate*}\n",
       "\\item 3.4030612244898\n",
       "\\item 19.8622448979592\n",
       "\\item 16.8112244897959\n",
       "\\item 23.515306122449\n",
       "\\end{enumerate*}\n"
      ],
      "text/markdown": [
       "1. 3.4030612244898\n",
       "2. 19.8622448979592\n",
       "3. 16.8112244897959\n",
       "4. 23.515306122449\n",
       "\n",
       "\n"
      ],
      "text/plain": [
       "[1]  3.403061 19.862245 16.811224 23.515306"
      ]
     },
     "metadata": {},
     "output_type": "display_data"
    },
    {
     "data": {
      "text/html": [
       "<style>\n",
       ".dl-inline {width: auto; margin:0; padding: 0}\n",
       ".dl-inline>dt, .dl-inline>dd {float: none; width: auto; display: inline-block}\n",
       ".dl-inline>dt::after {content: \":\\0020\"; padding-right: .5ex}\n",
       ".dl-inline>dt:not(:first-of-type) {padding-left: .5ex}\n",
       "</style><dl class=dl-inline><dt>1</dt><dd>3.4030612244898</dd><dt>2</dt><dd>19.8622448979592</dd><dt>3</dt><dd>16.8112244897959</dd><dt>4</dt><dd>23.515306122449</dd></dl>\n"
      ],
      "text/latex": [
       "\\begin{description*}\n",
       "\\item[1] 3.4030612244898\n",
       "\\item[2] 19.8622448979592\n",
       "\\item[3] 16.8112244897959\n",
       "\\item[4] 23.515306122449\n",
       "\\end{description*}\n"
      ],
      "text/markdown": [
       "1\n",
       ":   3.40306122448982\n",
       ":   19.86224489795923\n",
       ":   16.81122448979594\n",
       ":   23.515306122449\n",
       "\n"
      ],
      "text/plain": [
       "        1         2         3         4 \n",
       " 3.403061 19.862245 16.811224 23.515306 "
      ]
     },
     "metadata": {},
     "output_type": "display_data"
    },
    {
     "name": "stderr",
     "output_type": "stream",
     "text": [
      "Warning message:\n",
      "\"package 'ggplot2' is in use and will not be installed\"\n"
     ]
    },
    {
     "data": {
      "text/plain": [
       "\n",
       "Call:\n",
       "lm(formula = Pendapatan ~ Permintaan + Harga, data = data)\n",
       "\n",
       "Residuals:\n",
       "      1       2       3       4       5       6       7       8 \n",
       "-1.0545  1.8182  1.0364 -0.7455 -1.0909 -0.8727  0.3455  0.5636 \n",
       "\n",
       "Coefficients:\n",
       "             Estimate Std. Error t value Pr(>|t|)  \n",
       "(Intercept)  1.472727  11.316875   0.130   0.9015  \n",
       "Permintaan  -1.218182   0.487598  -2.498   0.0546 .\n",
       "Harga        0.001655   0.001311   1.262   0.2625  \n",
       "---\n",
       "Signif. codes:  0 '***' 0.001 '**' 0.01 '*' 0.05 '.' 0.1 ' ' 1\n",
       "\n",
       "Residual standard error: 1.299 on 5 degrees of freedom\n",
       "Multiple R-squared:  0.9129,\tAdjusted R-squared:  0.8781 \n",
       "F-statistic: 26.21 on 2 and 5 DF,  p-value: 0.002238\n"
      ]
     },
     "metadata": {},
     "output_type": "display_data"
    },
    {
     "data": {
      "text/html": [
       "<style>\n",
       ".dl-inline {width: auto; margin:0; padding: 0}\n",
       ".dl-inline>dt, .dl-inline>dd {float: none; width: auto; display: inline-block}\n",
       ".dl-inline>dt::after {content: \":\\0020\"; padding-right: .5ex}\n",
       ".dl-inline>dt:not(:first-of-type) {padding-left: .5ex}\n",
       "</style><dl class=dl-inline><dt>1</dt><dd>-2.43636363636364</dd><dt>2</dt><dd>-2.43636363636364</dd><dt>3</dt><dd>12.7090909090909</dd><dt>4</dt><dd>9.83636363636363</dd></dl>\n"
      ],
      "text/latex": [
       "\\begin{description*}\n",
       "\\item[1] -2.43636363636364\n",
       "\\item[2] -2.43636363636364\n",
       "\\item[3] 12.7090909090909\n",
       "\\item[4] 9.83636363636363\n",
       "\\end{description*}\n"
      ],
      "text/markdown": [
       "1\n",
       ":   -2.436363636363642\n",
       ":   -2.436363636363643\n",
       ":   12.70909090909094\n",
       ":   9.83636363636363\n",
       "\n"
      ],
      "text/plain": [
       "        1         2         3         4 \n",
       "-2.436364 -2.436364 12.709091  9.836364 "
      ]
     },
     "metadata": {},
     "output_type": "display_data"
    },
    {
     "data": {
      "image/png": "[encoded data removed]",
      "text/plain": [
       "plot without title"
      ]
     },
     "metadata": {
      "image/png": {
       "height": 420,
       "width": 420
      }
     },
     "output_type": "display_data"
    }
   ],
   "source": [
    "# Praktikum\n",
    "#Menginisiasi Data\n",
    "#x1\n",
    "year <- rep(2008:2010, each=4)\n",
    "\n",
    "#x2\n",
    "quarter <- rep(1:4, 3)\n",
    "\n",
    "#y\n",
    "cpi <- c(162.2, 164.6, 166.5, 166.0,\n",
    "         166.2, 167.0, 168.6, 169.5, 171.0,\n",
    "         172.1, 173.3, 174.0)\n",
    "\n",
    "\n",
    "#Memplotkan Data tersebut\n",
    "plot(cpi, xaxt=\"n\", ylab=\"CPI\", xlab=\"\")\n",
    "axis(1, labels=paste(year,quarter,sep=\"Q\"), at=1:12, las=3)\n",
    "\n",
    "\n",
    "\n",
    "\n",
    "#Cek Korelasi Variabel Data\n",
    "cor(year,cpi)\n",
    "cor(quarter,cpi)\n",
    "\n",
    "\n",
    "\n",
    "\n",
    "#Fungsi Model Regresi Linear\n",
    "#Model Regresi Linear\n",
    "fit <- lm(cpi ~ year + quarter)\n",
    "\n",
    "#cpi = c0 + c1 *year + c2 * quarter\n",
    "\n",
    "#CPI pada tahun 2011\n",
    "(cpi2011 <- fit$coefficients[[1]] + fit$coefficients[[2]]*2011++ fit$coefficients[[3]]*(1:4))\n",
    "\n",
    "\n",
    "\n",
    "\n",
    "#Prediksi Regresi Linear\n",
    "data2011 <- data.frame(year=2011, quarter=1:4)\n",
    "\n",
    "cpi2011 <- predict(fit, newdata=data2011)\n",
    "cpi2011\n",
    "\n",
    "\n",
    "#Plot Prediksi Regresi Linear\n",
    "style <- c(rep(1,12), rep(2,4))\n",
    "plot(c(cpi, cpi2011), xaxt=\"n\", ylab=\"CPI\", xlab=\"\", pch=style, col=style)\n",
    "axis(1, at=1:16, las=3, labels=c(paste(year,quarter,sep=\"Q\"), \"2011Q1\",\n",
    "                                 \"2011Q2\", \"2011Q3\", \"2011Q4\"))\n",
    "\n",
    "\n",
    "\n",
    "\n",
    "\n",
    "\n",
    "\n",
    "\n",
    "\n",
    "\n",
    "\n",
    "\n",
    "#Latihan\n",
    "#Cara Biasa (Belum Selesai)\n",
    "\n",
    "#Prediksi waktu nomor pesanan 5,6,7,8\n",
    "\n",
    "#lat_no<- c(1:8)\n",
    "lat_no<- c(1:4)\n",
    "#lat_jarak<-c(8,4,5,7,3,10,9,12)\n",
    "lat_jarak<-c(8,4,5,7)\n",
    "lat_waktu<-c(18, 8, 9, 14)\n",
    "\n",
    "\n",
    "plot(lat_waktu, xaxt=\"n\", ylab=\"CPI\", xlab=\"\")\n",
    "axis(1, labels=paste(lat_no,lat_jarak,sep=\"=\"), at=1:4, las=3)\n",
    "\n",
    "\n",
    "cor(lat_no,lat_waktu)\n",
    "cor(lat_jarak,lat_waktu)\n",
    "\n",
    "lat_fit <- lm(lat_waktu ~ lat_no + lat_jarak)\n",
    "\n",
    "\n",
    "(lat_cpi5 <- lat_fit$coefficients[[1]] + lat_fit$coefficients[[2]]*c(5,6,7,8)++ lat_fit$coefficients[[3]]*c(3,10,9,12))\n",
    "\n",
    "\n",
    "#Prediksi Regresi Linear\n",
    "lat_data5 <- data.frame(lat_no=c(5,6,7,8), lat_jarak=c(3,10,9,12))\n",
    "\n",
    "lat_cpi5 <- predict(lat_fit, newdata=lat_data5)\n",
    "lat_cpi5\n",
    "\n",
    "install.packages(\"ggplot2\")\n",
    "\n",
    "\n",
    "\n",
    "\n",
    "\n",
    "\n",
    "#Cara lain\n",
    "# Membuka library yang diperlukan\n",
    "library(ggplot2)\n",
    "\n",
    "# Data yang diberikan\n",
    "Responden <- c(1, 2, 3, 4, 5, 6, 7, 8)\n",
    "Permintaan <- c(3, 4, 5, 6, 6, 7, 8, 9)\n",
    "Harga <- c(8000, 7000, 7000, 7000, 6000, 6000, 6000, 6000)\n",
    "Pendapatan <- c(10, 10, 8, 5, 3, 2, 2, 1)\n",
    "\n",
    "# Membuat data frame\n",
    "data <- data.frame(Responden, Permintaan, Harga, Pendapatan)\n",
    "\n",
    "# Melakukan regresi linier\n",
    "model <- lm(Pendapatan ~ Permintaan + Harga, data = data)\n",
    "\n",
    "# Menampilkan ringkasan model\n",
    "summary(model)\n",
    "\n",
    "# Data baru untuk prediksi\n",
    "new_data <- data.frame(Permintaan = c(10, 10, 3, 4), Harga = c(5000, 5000, 9000, 8000))\n",
    "\n",
    "# Prediksi pendapatan untuk responden 9, 10, 11, dan 12\n",
    "predicted_pendapatan <- predict(model, newdata = new_data)\n",
    "\n",
    "# Menampilkan prediksi\n",
    "predicted_pendapatan\n",
    "\n"
   ]
  },
  {
   "cell_type": "code",
   "execution_count": null,
   "metadata": {},
   "outputs": [],
   "source": []
  }
 ],
 "metadata": {
  "colab": {
   "provenance": []
  },
  "kernelspec": {
   "display_name": "R",
   "language": "R",
   "name": "ir"
  },
  "language_info": {
   "codemirror_mode": "r",
   "file_extension": ".r",
   "mimetype": "text/x-r-source",
   "name": "R",
   "pygments_lexer": "r",
   "version": "4.4.2"
  }
 },
 "nbformat": 4,
 "nbformat_minor": 4
}
