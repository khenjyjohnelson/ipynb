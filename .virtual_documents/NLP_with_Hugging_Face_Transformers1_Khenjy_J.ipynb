!pip install transformers


!pip install tf-keras

from transformers import pipeline

classifier = pipeline("zero-shot-classification")

text_to_classify = "The stock market is down today"

candidate_labels = ["technology", "workplace", "productivity", "communication"]

results = classifier(text_to_classify, candidate_labels)

print("Text to Classify:")
print(f"\"{text_to_classify}\"")
print("\nClassification Results:")
for label, score in zip(results['labels'], results['scores']):
    print(f"🔹{label}: {score:.4f}")


from transformers import pipeline

generator = pipeline("text-generation")
generator("Embark on a journey of innovation, where you’ll learn to harness technology to")

generated_texts = generator(
    prompt_text,
    max_length=60,
    num_return_sequences=3,
    temperature=0.7,
)

print("💡 Exciting Course Descriptions:\n")
for idx, text in enumerate(generated_texts, 1):
    print(f"🔹 Option {idx}:")
    print(text['generated_text'].strip())
    print("\n" + "-" * 50 + "\n")



from transformers import pipeline

generator = pipeline("text-generation", model="distilgpt2")

prompt_text = "Unlock the future of technology with skills to"

generated_texts = generator(
    prompt_text,
    max_length=50,
    num_return_sequences=3,
    temperature=0.8,
)

print("🚀 Exciting Course Descriptions:\n")
for idx, text in enumerate(generated_texts, 1):
    print(f"🔹 Option {idx}:")
    print(text['generated_text'].strip())
    print("\n" + "-" * 50 + "\n")


from transformers import pipeline

unmasker = pipeline("fill-mask")

masked_text = "With advancements in <mask> technology, the possibilities are endless."

predictions = unmasker(masked_text, top_k=3)

print("🔍 Discover the Top Course Topics:\n")
for idx, prediction in enumerate(predictions, 1):
    print(f"🔹 Option {idx}:")
    print(f"Predicted word: {prediction['token_str'].capitalize()}")
    print(f"Confidence: {prediction['score']:.2%}")
    print("\n" + "-" * 40 + "\n")



from transformers import pipeline

ner = pipeline("ner", grouped_entities=True)

text = "Hello! I'm Khenjy Johnelson, an undergraduate student in Software Engineering, at Universal University, Batam."

entities = ner(text)

print("🔍 Named Entity Recognition Results:\n")
for idx, entity in enumerate(entities, 1):
    print(f"🔹 Entity {idx}:")
    print(f"• Entity: {entity['word']}")
    print(f"• Type: {entity['entity_group']}")
    print(f"• Confidence: {entity['score']:.2%}")
    print("\n" + "-" * 40 + "\n")



from transformers import pipeline

qa_pipeline = pipeline("question-answering")

context = (
    "Galuh is a data scientist at OpenAI who enjoys exploring advancements in AI. "
    "He recently moved to Surabaya and has previously worked at Microsoft in Jakarta."
)
question = "Where does Galuh currently live?"

result = qa_pipeline(question=question, context=context)

print("🤖 Question-Answering Result:")
print(f"📌 Context: {context}")
print(f"❓ Question: {question}")
print(f"✅ Answer: {result['answer']}")



from transformers import pipeline

classifier = pipeline("sentiment-analysis")

input_text = "I'm thrilled to finally see the launch of the new Hugging Face course on advanced AI topics!"

result = classifier(input_text)

print("🌟 Sentiment Analysis Result:\n")
print(f"🔍 Input Text: {input_text}")
print(f"💬 Sentiment: {result[0]['label']}")
print(f"📊 Score: {result[0]['score']:.2%}")



from transformers import pipeline

summarizer = pipeline("summarization")

input_text = (
    """
    Hutan adalah jantung kehidupan di Bumi, menyediakan habitat bagi berbagai spesies flora dan fauna.
    Sebagai salah satu sumber keanekaragaman hayati yang paling kaya, hutan mendukung interaksi kompleks antara pohon,
    tumbuhan, dan hewan. Mereka berfungsi sebagai paru-paru planet kita, menyerap karbon dioksida dan menghasilkan
    oksigen, yang sangat penting untuk mengurangi dampak pemanasan global. Selain itu, hutan memainkan peran krusial
    dalam menjaga siklus air, membantu mencegah bencana alam seperti banjir dan tanah longsor.

    Namun, hutan dihadapkan pada berbagai tantangan, termasuk penebangan liar dan konversi lahan untuk pertanian.
    Aktivitas manusia yang tidak berkelanjutan menyebabkan deforestasi yang masif, mengancam habitat alami dan
    keanekaragaman hayati. Oleh karena itu, upaya konservasi menjadi sangat penting.
    Melindungi hutan bukan hanya tentang menjaga keanekaragaman hayati, tetapi juga tentang memastikan
    keseimbangan lingkungan dan keberlangsungan hidup manusia di masa depan. Edukasi publik mengenai pentingnya
    pengelolaan hutan yang berkelanjutan menjadi kunci dalam menjaga warisan alam ini untuk generasi yang akan datang.
    """
)

summary = summarizer(input_text, max_length=130, min_length=30, do_sample=False)

print("📝 Summary of the Text:\n")
print(summary[0]['summary_text'])


from transformers import pipeline

translator = pipeline("translation_id_to_en", model="Helsinki-NLP/opus-mt-id-en")

text_to_translate = "Saya seorang mahasiswa yang sangat antusias dan selalu berusaha untuk belajar hal-hal baru."

result = translator(text_to_translate)

print("🌍 Translation Result:\n")
print(f"📝 Original Text (ID): {text_to_translate}")
print(f"🔤 Translated Text (EN): {result[0]['translation_text']}")


















