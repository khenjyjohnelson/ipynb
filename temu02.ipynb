{
 "cells": [
  {
   "cell_type": "markdown",
   "metadata": {
    "id": "z3QD0hmNaIZl"
   },
   "source": [
    "# Catatan"
   ]
  },
  {
   "cell_type": "code",
   "execution_count": 1,
   "metadata": {
    "colab": {
     "base_uri": "https://localhost:8080/",
     "height": 1000
    },
    "executionInfo": {
     "elapsed": 1683,
     "status": "ok",
     "timestamp": 1725022627708,
     "user": {
      "displayName": "Khenjy Johnelson",
      "userId": "14808459290490883432"
     },
     "user_tz": -420
    },
    "id": "du4I6gDj0PLG",
    "outputId": "a72d3240-62de-48c4-a254-69a2acc5a4b0"
   },
   "outputs": [
    {
     "ename": "NameError",
     "evalue": "name 'data' is not defined",
     "output_type": "error",
     "traceback": [
      "\u001b[1;31m---------------------------------------------------------------------------\u001b[0m",
      "\u001b[1;31mNameError\u001b[0m                                 Traceback (most recent call last)",
      "Cell \u001b[1;32mIn[1], line 7\u001b[0m\n\u001b[0;32m      1\u001b[0m \u001b[38;5;66;03m#LATIHAN1) Suatu organisasi distributor bermaksud memperkirakan besarnya waktu\u001b[39;00m\n\u001b[0;32m      2\u001b[0m \u001b[38;5;66;03m#yang dibutuhkan untuk mengantarkan suatu produk pada setiap harinya.\u001b[39;00m\n\u001b[0;32m      3\u001b[0m \u001b[38;5;66;03m#6 titik tempat yang telah direkam pada hari sebelumnya, mencatat waktu\u001b[39;00m\n\u001b[0;32m      4\u001b[0m \u001b[38;5;66;03m#perjalanan pengiriman sebesar berikut:\u001b[39;00m\n\u001b[0;32m      5\u001b[0m \n\u001b[0;32m      6\u001b[0m \u001b[38;5;66;03m#Sample Data\u001b[39;00m\n\u001b[1;32m----> 7\u001b[0m data \u001b[38;5;241m<\u001b[39m\u001b[38;5;241m-\u001b[39m c(\u001b[38;5;241m4\u001b[39m, \u001b[38;5;241m6\u001b[39m, \u001b[38;5;241m4\u001b[39m, \u001b[38;5;241m7\u001b[39m, \u001b[38;5;241m4\u001b[39m, \u001b[38;5;241m5\u001b[39m)\n\u001b[0;32m      9\u001b[0m \u001b[38;5;66;03m# Sample Average (Mean): perkiraan rata-rata\u001b[39;00m\n\u001b[0;32m     10\u001b[0m sample_mean \u001b[38;5;241m<\u001b[39m\u001b[38;5;241m-\u001b[39m mean(data)\n",
      "\u001b[1;31mNameError\u001b[0m: name 'data' is not defined"
     ]
    }
   ],
   "source": [
    "#LATIHAN1) Suatu organisasi distributor bermaksud memperkirakan besarnya waktu\n",
    "#yang dibutuhkan untuk mengantarkan suatu produk pada setiap harinya.\n",
    "#6 titik tempat yang telah direkam pada hari sebelumnya, mencatat waktu\n",
    "#perjalanan pengiriman sebesar berikut:\n",
    "\n",
    "#Sample Data\n",
    "data <- c(4, 6, 4, 7, 4, 5)\n",
    "\n",
    "# Sample Average (Mean): perkiraan rata-rata\n",
    "sample_mean <- mean(data)\n",
    "print(paste(\"Sample Mean:\", sample_mean))\n",
    "\n",
    "# Sample Variance\n",
    "sample_variance <- var(data)\n",
    "print(paste(\"Sample Variance:\", sample_variance))\n",
    "\n",
    "# Standard Deviation: standard deviasi yang dibutuhkan distributor\n",
    "sample_sd <- sd(data)\n",
    "print(paste(\"Standard Deviation:\", sample_sd))\n",
    "\n",
    "#Histogram with Mean and SD\n",
    "hist(data, col=\"lightblue\", main=\"Histogram with Mean and SD\", xlab=\"Data Values\", breaks=5)\n",
    "abline(v=sample_mean, col=\"red\", lwd=2)  # Mean\n",
    "abline(v=sample_mean + sample_sd, col=\"blue\", lwd=2, lty=2)  # Mean + SD\n",
    "abline(v=sample_mean - sample_sd, col=\"blue\", lwd=2, lty=2)  # Mean - SD\n",
    "legend(\"topright\", legend=c(\"Mean\", \"Mean ± SD\"), col=c(\"red\", \"blue\"), lty=c(1, 2), lwd=2)\n",
    "\n",
    "#Boxplot with Mean\n",
    "boxplot(data, main=\"Boxplot with Mean\", ylab=\"Data Values\")\n",
    "points(mean(data), col=\"red\", pch=19)  # Add mean as a point\n",
    "legend(\"topright\", legend=c(\"Mean\"), col=c(\"red\"), pch=19)\n",
    "\n",
    "#Mean with Error Bars\n",
    "plot(1, sample_mean, ylim=range(c(sample_mean - sample_sd, sample_mean + sample_sd)),\n",
    "     pch=19, col=\"blue\", xlab=\"\", ylab=\"Value\", xlim=c(0.5, 1.5), xaxt=\"n\", main=\"Mean with Error Bars\")\n",
    "arrows(1, sample_mean - sample_sd, 1, sample_mean + sample_sd, angle=90, code=3, length=0.1, col=\"blue\")\n",
    "legend(\"topright\", legend=c(\"Mean ± SD\"), col=c(\"blue\"), pch=19)\n",
    "\n",
    "\n",
    "#Making a Density Plot with Mean and Standard Deviation\n",
    "plot(density(data), main=\"Density Plot with Mean and SD\", xlab=\"Data Values\")\n",
    "abline(v=sample_mean, col=\"red\", lwd=2)  # Mean\n",
    "abline(v=sample_mean + sample_sd, col=\"blue\", lwd=2, lty=2)  # Mean + SD\n",
    "abline(v=sample_mean - sample_sd, col=\"blue\", lwd=2, lty=2)  # Mean - SD\n",
    "legend(\"topright\", legend=c(\"Mean\", \"Mean ± SD\"), col=c(\"red\", \"blue\"), lty=c(1, 2), lwd=2)\n",
    "\n",
    "\n",
    "\n",
    "\n",
    "#Dot plot with mean\n",
    "stripchart(data, method=\"stack\", offset=0.5, at=1, pch=19, main=\"Dot Plot with Mean\", xlab=\"Data Values\")\n",
    "abline(v=sample_mean, col=\"red\", lwd=2)  # Mean\n",
    "legend(\"topright\", legend=c(\"Mean\"), col=c(\"red\"), lty=1, lwd=2)\n",
    "\n",
    "\n"
   ]
  },
  {
   "cell_type": "markdown",
   "metadata": {
    "id": "RWOK8uhsaOLD"
   },
   "source": [
    "# PrakDaming"
   ]
  },
  {
   "cell_type": "code",
   "execution_count": null,
   "metadata": {
    "id": "59Sbyr-KaP3F"
   },
   "outputs": [],
   "source": [
    "# PrakDaming - Visualisasi Data\n",
    "\n",
    "# Data\n",
    "museum <- c(30, 48, 51, 34, 21, 59, 60)\n",
    "taman <- c(55, 44, 60, 64, 51, 81, 90)\n",
    "mall <- c(150, 160, 160, 164, 251, 298, 350)\n",
    "days <- c(\"Senin\", \"Selasa\", \"Rabu\", \"Kamis\", \"Jumat\", \"Sabtu\", \"Minggu\")\n",
    "\n",
    "# Line Chart\n",
    "plot(museum, type = \"o\", col = \"blue\", ylim = c(0, max(mall)), xaxt = \"n\",\n",
    "     xlab = \"Hari\", ylab = \"Jumlah Pengunjung\", main = \"Jumlah Pengunjung\")\n",
    "lines(taman, type = \"o\", col = \"green\")\n",
    "lines(mall, type = \"o\", col = \"red\")\n",
    "axis(1, at = 1:7, labels = days)\n",
    "legend(\"topleft\", legend = c(\"Museum\", \"Taman\", \"Mall\"), col = c(\"blue\", \"green\", \"red\"), lty = 1, pch = 1, cex = 0.3)\n",
    "\n",
    "# Bar Chart\n",
    "barplot(rbind(museum, taman, mall), beside = TRUE, col = c(\"blue\", \"green\", \"red\"),\n",
    "        names.arg = days, main = \"Jumlah Pengunjung\", xlab = \"Hari\", ylab = \"Jumlah Pengunjung\")\n",
    "legend(\"topleft\", legend = c(\"Museum\", \"Taman\", \"Mall\"), fill = c(\"blue\", \"green\", \"red\"), cex = 0.3)\n",
    "\n",
    "# Histogram\n",
    "hist(museum, breaks = 5, col = \"blue\", main = \"Histogram Pengunjung Museum\", xlab = \"Jumlah Pengunjung\")\n",
    "hist(taman, breaks = 5, col = \"green\", main = \"Histogram Pengunjung Taman\", xlab = \"Jumlah Pengunjung\")\n",
    "hist(mall, breaks = 5, col = \"red\", main = \"Histogram Pengunjung Mall\", xlab = \"Jumlah Pengunjung\")\n",
    "\n",
    "# Pie Chart\n",
    "total_pengunjung <- c(sum(museum), sum(taman), sum(mall))\n",
    "pie_labels <- c(\"Museum\", \"Taman\", \"Mall\")\n",
    "pie(total_pengunjung, labels = pie_labels, col = c(\"blue\", \"green\", \"red\"),\n",
    "    main = \"Total Pengunjung Selama Seminggu\")\n",
    "\n"
   ]
  }
 ],
 "metadata": {
  "colab": {
   "provenance": []
  },
  "kernelspec": {
   "display_name": "Python 3 (ipykernel)",
   "language": "python",
   "name": "python3"
  },
  "language_info": {
   "codemirror_mode": {
    "name": "ipython",
    "version": 3
   },
   "file_extension": ".py",
   "mimetype": "text/x-python",
   "name": "python",
   "nbconvert_exporter": "python",
   "pygments_lexer": "ipython3",
   "version": "3.12.7"
  }
 },
 "nbformat": 4,
 "nbformat_minor": 4
}
