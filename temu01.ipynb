{
 "cells": [
  {
   "cell_type": "markdown",
   "metadata": {
    "id": "0JyMZHMuiDxN"
   },
   "source": [
    "#Temu 1"
   ]
  },
  {
   "cell_type": "code",
   "execution_count": 8,
   "metadata": {
    "colab": {
     "base_uri": "https://localhost:8080/",
     "height": 411
    },
    "executionInfo": {
     "elapsed": 695,
     "status": "ok",
     "timestamp": 1724291230505,
     "user": {
      "displayName": "Khenjy Johnelson",
      "userId": "14808459290490883432"
     },
     "user_tz": -420
    },
    "id": "ga0CqU4YQvTo",
    "outputId": "ec06b6b8-2c43-4d96-9818-6000bfebc940"
   },
   "outputs": [
    {
     "ename": "NameError",
     "evalue": "name 'df' is not defined",
     "output_type": "error",
     "traceback": [
      "\u001b[1;31m---------------------------------------------------------------------------\u001b[0m",
      "\u001b[1;31mNameError\u001b[0m                                 Traceback (most recent call last)",
      "Cell \u001b[1;32mIn[8], line 1\u001b[0m\n\u001b[1;32m----> 1\u001b[0m \u001b[43mdf\u001b[49m \u001b[38;5;241m<\u001b[39m\u001b[38;5;241m-\u001b[39m data\u001b[38;5;241m.\u001b[39mframe(\n\u001b[0;32m      2\u001b[0m   nama \u001b[38;5;241m=\u001b[39m c(\u001b[38;5;124m\"\u001b[39m\u001b[38;5;124madit\u001b[39m\u001b[38;5;124m\"\u001b[39m, \u001b[38;5;124m\"\u001b[39m\u001b[38;5;124mbayu\u001b[39m\u001b[38;5;124m\"\u001b[39m, \u001b[38;5;124m\"\u001b[39m\u001b[38;5;124mchintya\u001b[39m\u001b[38;5;124m\"\u001b[39m, \u001b[38;5;124m\"\u001b[39m\u001b[38;5;124mdavid\u001b[39m\u001b[38;5;124m\"\u001b[39m, \u001b[38;5;124m\"\u001b[39m\u001b[38;5;124mervita\u001b[39m\u001b[38;5;124m\"\u001b[39m, \u001b[38;5;124m\"\u001b[39m\u001b[38;5;124mfahmi\u001b[39m\u001b[38;5;124m\"\u001b[39m, \u001b[38;5;124m\"\u001b[39m\u001b[38;5;124mgabriel\u001b[39m\u001b[38;5;124m\"\u001b[39m, \u001b[38;5;124m\"\u001b[39m\u001b[38;5;124mhendra\u001b[39m\u001b[38;5;124m\"\u001b[39m, \u001b[38;5;124m\"\u001b[39m\u001b[38;5;124mindri\u001b[39m\u001b[38;5;124m\"\u001b[39m, \u001b[38;5;124m\"\u001b[39m\u001b[38;5;124mjeffry\u001b[39m\u001b[38;5;124m\"\u001b[39m),\n\u001b[0;32m      3\u001b[0m   prodi \u001b[38;5;241m=\u001b[39m c(\u001b[38;5;124m\"\u001b[39m\u001b[38;5;124mtpl\u001b[39m\u001b[38;5;124m\"\u001b[39m, \u001b[38;5;124m\"\u001b[39m\u001b[38;5;124msi\u001b[39m\u001b[38;5;124m\"\u001b[39m, \u001b[38;5;124m\"\u001b[39m\u001b[38;5;124mtpl\u001b[39m\u001b[38;5;124m\"\u001b[39m, \u001b[38;5;124m\"\u001b[39m\u001b[38;5;124mti\u001b[39m\u001b[38;5;124m\"\u001b[39m, \u001b[38;5;124m\"\u001b[39m\u001b[38;5;124mti\u001b[39m\u001b[38;5;124m\"\u001b[39m, \u001b[38;5;124m\"\u001b[39m\u001b[38;5;124mti\u001b[39m\u001b[38;5;124m\"\u001b[39m, \u001b[38;5;124m\"\u001b[39m\u001b[38;5;124mtpl\u001b[39m\u001b[38;5;124m\"\u001b[39m, \u001b[38;5;124m\"\u001b[39m\u001b[38;5;124msi\u001b[39m\u001b[38;5;124m\"\u001b[39m, \u001b[38;5;124m\"\u001b[39m\u001b[38;5;124mtpl\u001b[39m\u001b[38;5;124m\"\u001b[39m, \u001b[38;5;124m\"\u001b[39m\u001b[38;5;124mtpl\u001b[39m\u001b[38;5;124m\"\u001b[39m),\n\u001b[0;32m      4\u001b[0m   angkatan \u001b[38;5;241m=\u001b[39m c(\u001b[38;5;241m2018\u001b[39m, \u001b[38;5;241m2017\u001b[39m, \u001b[38;5;241m2017\u001b[39m, \u001b[38;5;241m2019\u001b[39m, \u001b[38;5;241m2018\u001b[39m, \u001b[38;5;241m2017\u001b[39m, \u001b[38;5;241m2016\u001b[39m, \u001b[38;5;241m2018\u001b[39m, \u001b[38;5;241m2018\u001b[39m, \u001b[38;5;241m2019\u001b[39m),\n\u001b[0;32m      5\u001b[0m   ipk \u001b[38;5;241m=\u001b[39m c(\u001b[38;5;241m3.15\u001b[39m, \u001b[38;5;241m3.00\u001b[39m, \u001b[38;5;241m3.53\u001b[39m, \u001b[38;5;241m3.77\u001b[39m, \u001b[38;5;241m3.42\u001b[39m, \u001b[38;5;241m3.33\u001b[39m, \u001b[38;5;241m3.19\u001b[39m, \u001b[38;5;241m2.95\u001b[39m, \u001b[38;5;241m3.25\u001b[39m, \u001b[38;5;241m3.72\u001b[39m)\n\u001b[0;32m      6\u001b[0m )\n\u001b[0;32m      8\u001b[0m \u001b[38;5;66;03m# Show the data frame as a table\u001b[39;00m\n\u001b[0;32m      9\u001b[0m df\n",
      "\u001b[1;31mNameError\u001b[0m: name 'df' is not defined"
     ]
    }
   ],
   "source": [
    "df <- data.frame(\n",
    "  nama = c(\"adit\", \"bayu\", \"chintya\", \"david\", \"ervita\", \"fahmi\", \"gabriel\", \"hendra\", \"indri\", \"jeffry\"),\n",
    "  prodi = c(\"tpl\", \"si\", \"tpl\", \"ti\", \"ti\", \"ti\", \"tpl\", \"si\", \"tpl\", \"tpl\"),\n",
    "  angkatan = c(2018, 2017, 2017, 2019, 2018, 2017, 2016, 2018, 2018, 2019),\n",
    "  ipk = c(3.15, 3.00, 3.53, 3.77, 3.42, 3.33, 3.19, 2.95, 3.25, 3.72)\n",
    ")\n",
    "\n",
    "# Show the data frame as a table\n",
    "df"
   ]
  },
  {
   "cell_type": "markdown",
   "metadata": {
    "id": "eUTx9rc1NCIp"
   },
   "source": [
    "Belajar dengan google collab"
   ]
  },
  {
   "cell_type": "code",
   "execution_count": null,
   "metadata": {
    "colab": {
     "base_uri": "https://localhost:8080/"
    },
    "executionInfo": {
     "elapsed": 2384,
     "status": "ok",
     "timestamp": 1724248897689,
     "user": {
      "displayName": "Khenjy Johnelson",
      "userId": "14808459290490883432"
     },
     "user_tz": -420
    },
    "id": "Bnm2VEQ6NtIa",
    "outputId": "df2c3434-51d5-49ae-915c-24ab08fe1d21"
   },
   "outputs": [
    {
     "name": "stdout",
     "output_type": "stream",
     "text": [
      "Masukkan user data:test\n",
      "Login gagal\n"
     ]
    }
   ],
   "source": [
    "userdata = \"admin\"\n",
    "\n",
    "data = input(\"Masukkan user data:\")\n",
    "\n",
    "if data == userdata:\n",
    "  print(\"Login berhasil\")\n",
    "else:\n",
    "  print(\"Login gagal\")"
   ]
  },
  {
   "cell_type": "markdown",
   "metadata": {
    "id": "1192MxKvK9HS"
   },
   "source": [
    "## 1. Pengantar Python"
   ]
  },
  {
   "cell_type": "markdown",
   "metadata": {
    "id": "fRXOBy8jxcaA"
   },
   "source": [
    "##2. Sintaks Dasar Python"
   ]
  },
  {
   "cell_type": "markdown",
   "metadata": {
    "id": "LAIGHL90tJkR"
   },
   "source": [
    "Penggunaan identasi yang benar"
   ]
  },
  {
   "cell_type": "code",
   "execution_count": null,
   "metadata": {
    "colab": {
     "base_uri": "https://localhost:8080/"
    },
    "executionInfo": {
     "elapsed": 16,
     "status": "ok",
     "timestamp": 1724246605153,
     "user": {
      "displayName": "Khenjy Johnelson",
      "userId": "14808459290490883432"
     },
     "user_tz": -420
    },
    "id": "3lAdRFx7eVhy",
    "outputId": "81d4d715-e121-4d48-aad4-32632549031d"
   },
   "outputs": [
    {
     "name": "stdout",
     "output_type": "stream",
     "text": [
      "Benar\n"
     ]
    }
   ],
   "source": [
    "if True:\n",
    "  print(\"Benar\")"
   ]
  },
  {
   "cell_type": "markdown",
   "metadata": {
    "id": "2oddT0ZNtNo5"
   },
   "source": [
    "Penggunaan identasi yang salah"
   ]
  },
  {
   "cell_type": "code",
   "execution_count": null,
   "metadata": {
    "colab": {
     "base_uri": "https://localhost:8080/",
     "height": 106
    },
    "collapsed": true,
    "executionInfo": {
     "elapsed": 373,
     "status": "error",
     "timestamp": 1723786941179,
     "user": {
      "displayName": "Khenjy Johnelson",
      "userId": "14808459290490883432"
     },
     "user_tz": -420
    },
    "id": "H57sMwMftQCX",
    "jupyter": {
     "outputs_hidden": true
    },
    "outputId": "1e861fab-bc10-4d2d-fac7-ddd98e78481d"
   },
   "outputs": [
    {
     "ename": "IndentationError",
     "evalue": "unexpected indent (<ipython-input-2-30b91be9eaed>, line 2)",
     "output_type": "error",
     "traceback": [
      "\u001b[0;36m  File \u001b[0;32m\"<ipython-input-2-30b91be9eaed>\"\u001b[0;36m, line \u001b[0;32m2\u001b[0m\n\u001b[0;31m    print(\"World\")\u001b[0m\n\u001b[0m    ^\u001b[0m\n\u001b[0;31mIndentationError\u001b[0m\u001b[0;31m:\u001b[0m unexpected indent\n"
     ]
    }
   ],
   "source": [
    "print(\"Hello\")\n",
    "    print(\"World\")\n",
    "print(\"Nice\")"
   ]
  },
  {
   "cell_type": "markdown",
   "metadata": {
    "id": "O1m5EEr5LgsS"
   },
   "source": [
    "Penggunaan titik koma"
   ]
  },
  {
   "cell_type": "code",
   "execution_count": null,
   "metadata": {
    "id": "65N2c3vWin91"
   },
   "outputs": [],
   "source": [
    "i = 10\n",
    "j = 20\n",
    "k = 30\n",
    "\n",
    "i = 10; j = 20; k = 30"
   ]
  },
  {
   "cell_type": "markdown",
   "metadata": {
    "id": "3J1br1Y6Lk6r"
   },
   "source": [
    "Penggunaan python docstrings"
   ]
  },
  {
   "cell_type": "code",
   "execution_count": null,
   "metadata": {
    "id": "kP05g2Qztozn"
   },
   "outputs": [],
   "source": [
    "def square(n):\n",
    "  '''Takes in a number n, returns the square of n'''\n",
    "  return n**2\n",
    "\n",
    "def multiplier (a,b):\n",
    "  \"\"\"Takes in two numbers, returns their product\"\"\"\n",
    "  return a*b"
   ]
  },
  {
   "cell_type": "markdown",
   "metadata": {
    "id": "p-A6CryXoVJ3"
   },
   "source": [
    "##3. Variabel dalam Python"
   ]
  },
  {
   "cell_type": "markdown",
   "metadata": {
    "id": "hDLu199ySUW_"
   },
   "source": [
    "### Variabel"
   ]
  },
  {
   "cell_type": "code",
   "execution_count": null,
   "metadata": {
    "colab": {
     "base_uri": "https://localhost:8080/"
    },
    "executionInfo": {
     "elapsed": 740,
     "status": "ok",
     "timestamp": 1724251676182,
     "user": {
      "displayName": "Khenjy Johnelson",
      "userId": "14808459290490883432"
     },
     "user_tz": -420
    },
    "id": "FZzCCJa9SxhE",
    "outputId": "eb6b45e3-b479-466a-9d93-668c13c45ee9"
   },
   "outputs": [
    {
     "name": "stdout",
     "output_type": "stream",
     "text": [
      "Ehren\n"
     ]
    }
   ],
   "source": [
    "#Contoh pembuatan variabel yang benar\n",
    "nama = \"Khenjy Johnelson\"\n",
    "\n",
    "#Contoh pembuatan variabel yang salah\n",
    "#1tes = 2\n",
    "\n",
    "#Case Sensitive, karena variabel dalam python itu case sensitive\n",
    "namaUser = \"Khenjy\"\n",
    "NamaUser = \"Ehren\"\n",
    "\n",
    "print(NamaUser)"
   ]
  },
  {
   "cell_type": "markdown",
   "metadata": {
    "id": "68T09SnHL2UX"
   },
   "source": [
    "Memberi nilai dalam sebuah variabel"
   ]
  },
  {
   "cell_type": "code",
   "execution_count": null,
   "metadata": {
    "colab": {
     "base_uri": "https://localhost:8080/"
    },
    "executionInfo": {
     "elapsed": 414,
     "status": "ok",
     "timestamp": 1724251714053,
     "user": {
      "displayName": "Khenjy Johnelson",
      "userId": "14808459290490883432"
     },
     "user_tz": -420
    },
    "id": "b0mpgjrxx9Ad",
    "outputId": "0185403f-3b9c-4c59-c709-20231934cb5e"
   },
   "outputs": [
    {
     "name": "stdout",
     "output_type": "stream",
     "text": [
      "['Clarice', 'Statham', 'John Doe', 'Bernard']\n"
     ]
    }
   ],
   "source": [
    "#Memberi nilai individual\n",
    "nama_pengguna = \"John Doe\"\n",
    "\n",
    "#Menggunakan array list\n",
    "daftar_pengguna = [\"Clarice\", \"Statham\", nama_pengguna, \"Bernard\"]\n",
    "\n",
    "print(daftar_pengguna)"
   ]
  },
  {
   "cell_type": "markdown",
   "metadata": {
    "id": "88gOlkJ0L5yb"
   },
   "source": [
    "Contoh penggunaan variabel di python"
   ]
  },
  {
   "cell_type": "code",
   "execution_count": null,
   "metadata": {
    "id": "exUNCoJcyJqX"
   },
   "outputs": [],
   "source": [
    "# Contoh variabel string\n",
    "name = \"Jake Smoothy\"\n",
    "\n",
    "# Contoh variabel integer\n",
    "age = 55\n",
    "\n",
    "# Contoh variabel float\n",
    "height = 188.3\n",
    "\n",
    "# Contoh variabel boolean\n",
    "isRaining = True"
   ]
  },
  {
   "cell_type": "markdown",
   "metadata": {
    "id": "OgaVlqP5L_-9"
   },
   "source": [
    "### Multi penugasan (Multiple assignment)"
   ]
  },
  {
   "cell_type": "markdown",
   "metadata": {
    "id": "osqEzw9KMH7H"
   },
   "source": [
    "Menetapkan beberapa nilai ke beberapa variabel"
   ]
  },
  {
   "cell_type": "code",
   "execution_count": null,
   "metadata": {
    "colab": {
     "base_uri": "https://localhost:8080/",
     "height": 211
    },
    "executionInfo": {
     "elapsed": 440,
     "status": "error",
     "timestamp": 1724251969464,
     "user": {
      "displayName": "Khenjy Johnelson",
      "userId": "14808459290490883432"
     },
     "user_tz": -420
    },
    "id": "O8ngQuJws-wr",
    "outputId": "c5fae001-c07e-4b57-8bca-a25de9b9e224"
   },
   "outputs": [
    {
     "ename": "ValueError",
     "evalue": "too many values to unpack (expected 2)",
     "output_type": "error",
     "traceback": [
      "\u001b[0;31m---------------------------------------------------------------------------\u001b[0m",
      "\u001b[0;31mValueError\u001b[0m                                Traceback (most recent call last)",
      "\u001b[0;32m<ipython-input-12-2906052da302>\u001b[0m in \u001b[0;36m<cell line: 1>\u001b[0;34m()\u001b[0m\n\u001b[0;32m----> 1\u001b[0;31m \u001b[0mnum1\u001b[0m\u001b[0;34m,\u001b[0m \u001b[0mnum2\u001b[0m \u001b[0;34m=\u001b[0m \u001b[0;36m5\u001b[0m\u001b[0;34m,\u001b[0m \u001b[0;36m10\u001b[0m\u001b[0;34m,\u001b[0m\u001b[0;36m8\u001b[0m\u001b[0;34m\u001b[0m\u001b[0;34m\u001b[0m\u001b[0m\n\u001b[0m\u001b[1;32m      2\u001b[0m \u001b[0mname\u001b[0m\u001b[0;34m,\u001b[0m \u001b[0mage\u001b[0m\u001b[0;34m,\u001b[0m \u001b[0mheight\u001b[0m \u001b[0;34m=\u001b[0m \u001b[0;34m\"Grimm\"\u001b[0m\u001b[0;34m,\u001b[0m \u001b[0;36m32\u001b[0m\u001b[0;34m,\u001b[0m \u001b[0;36m190.2\u001b[0m\u001b[0;34m\u001b[0m\u001b[0;34m\u001b[0m\u001b[0m\n\u001b[1;32m      3\u001b[0m \u001b[0;34m\u001b[0m\u001b[0m\n\u001b[1;32m      4\u001b[0m \u001b[0mprint\u001b[0m\u001b[0;34m(\u001b[0m\u001b[0mnum1\u001b[0m\u001b[0;34m)\u001b[0m\u001b[0;34m\u001b[0m\u001b[0;34m\u001b[0m\u001b[0m\n\u001b[1;32m      5\u001b[0m \u001b[0mprint\u001b[0m \u001b[0;34m(\u001b[0m\u001b[0mname\u001b[0m\u001b[0;34m,\u001b[0m \u001b[0mage\u001b[0m\u001b[0;34m,\u001b[0m \u001b[0mheight\u001b[0m\u001b[0;34m)\u001b[0m\u001b[0;34m\u001b[0m\u001b[0;34m\u001b[0m\u001b[0m\n",
      "\u001b[0;31mValueError\u001b[0m: too many values to unpack (expected 2)"
     ]
    }
   ],
   "source": [
    "num1, num2 = 5, 10,8\n",
    "name, age, height = \"Grimm\", 32, 190.2\n",
    "\n",
    "print(num1)\n",
    "print (name, age, height)"
   ]
  },
  {
   "cell_type": "markdown",
   "metadata": {
    "id": "zqGqG394MLUv"
   },
   "source": [
    "Menetapkan nilai yang sama untuk beberapa variabel"
   ]
  },
  {
   "cell_type": "code",
   "execution_count": null,
   "metadata": {
    "id": "-ZZ1oldeX1pH"
   },
   "outputs": [],
   "source": [
    "#ketika jumlah variabel tidak sama dengan jumlah nilai\n",
    "num1, num2 = 5, 40, 70"
   ]
  },
  {
   "cell_type": "code",
   "execution_count": null,
   "metadata": {
    "colab": {
     "base_uri": "https://localhost:8080/"
    },
    "executionInfo": {
     "elapsed": 671,
     "status": "ok",
     "timestamp": 1724251922037,
     "user": {
      "displayName": "Khenjy Johnelson",
      "userId": "14808459290490883432"
     },
     "user_tz": -420
    },
    "id": "w6M1saS3tJO7",
    "outputId": "71a6dd76-b609-4856-a580-c16319f939e5"
   },
   "outputs": [
    {
     "name": "stdout",
     "output_type": "stream",
     "text": [
      "1\n",
      "David\n"
     ]
    }
   ],
   "source": [
    "num1 = num2 = 1\n",
    "student1 = student2 = student3 = \"David\"\n",
    "\n",
    "print (num2)\n",
    "print (student2)"
   ]
  }
 ],
 "metadata": {
  "colab": {
   "provenance": [],
   "toc_visible": true
  },
  "kernelspec": {
   "display_name": "Python 3 (ipykernel)",
   "language": "python",
   "name": "python3"
  },
  "language_info": {
   "codemirror_mode": {
    "name": "ipython",
    "version": 3
   },
   "file_extension": ".py",
   "mimetype": "text/x-python",
   "name": "python",
   "nbconvert_exporter": "python",
   "pygments_lexer": "ipython3",
   "version": "3.11.9"
  }
 },
 "nbformat": 4,
 "nbformat_minor": 4
}
