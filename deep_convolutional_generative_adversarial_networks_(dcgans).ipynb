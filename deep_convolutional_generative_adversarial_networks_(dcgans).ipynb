{
 "cells": [
  {
   "cell_type": "markdown",
   "metadata": {},
   "source": [
    "<p style=\"text-align:center\">\n",
    "    <a href=\"https://skills.network/?utm_medium=Exinfluencer&utm_source=Exinfluencer&utm_content=000026UJ&utm_term=10006555&utm_id=NA-SkillsNetwork-Channel-SkillsNetworkGuidedProjectsIBMGPXX0XCEEN72-2022-01-01\" target=\"_blank\">\n",
    "    <img src=\"https://cf-courses-data.s3.us.cloud-object-storage.appdomain.cloud/assets/logos/SN_web_lightmode.png\" width=\"200\" alt=\"Skills Network Logo\"  />\n",
    "    </a>\n",
    "</p>\n"
   ]
  },
  {
   "cell_type": "markdown",
   "metadata": {},
   "source": [
    "# **Creating anime characters using Deep Convolutional Generative Adversarial Networks (DCGANs) and Keras**\n"
   ]
  },
  {
   "cell_type": "markdown",
   "metadata": {},
   "source": [
    "Estimated time needed: **60** minutes\n"
   ]
  },
  {
   "cell_type": "markdown",
   "metadata": {},
   "source": [
    "Imagine if you are in a video game company, your games is famous for its unique characters for every player. With the growth of the player amount, it comes to be a nearly impossible mission to hand plot the characters for millions of players. Your boss plans to keep the unique character creating function in the game, and you need a method to handle the task. <br>\n",
    "\n",
    "__Generative adversarial networks (GANs) might help!__<br>\n",
    "It is a class of machine learning frameworks, first published in June 2014 <a href=https://cf-courses-data.s3.us.cloud-object-storage.appdomain.cloud/IBM-GPXX0XCEEN/papers/1406.2661.pdf >[1]</a>. <br>\n",
    "GANs could generate new data following the statistic features of the data in the training set. GANs is widely used to generate new and realistic photograph that is authentic to human observers. <br>\n",
    "\n",
    "Convolutional networks (CNNs) has seen huge adoption in computer vision applications. Applying the CNNs to GANs models could help us in building a photo generating model. The combined method is called Deep Convolutional Generative Adversarial Networks (DCGANs). <br>\n",
    "\n",
    "In this lab, we will first focus on simulated data to better understand GANs. <br> \n",
    "Further, we will use the case of massive anime avatar production to introduce how to use DCGANs.<br>\n",
    "__You will create anime characters like the ones below in this project.__\n",
    "\n",
    "<img src=\"https://cf-courses-data.s3.us.cloud-object-storage.appdomain.cloud/IBM-GPXX0XCEEN/images/face_cartton.png\" width=\"700\" alt=\"Skills Network Logo\">\n"
   ]
  },
  {
   "cell_type": "markdown",
   "metadata": {},
   "source": [
    "----\n",
    "<center><img src=\"https://cf-courses-data.s3.us.cloud-object-storage.appdomain.cloud/IBM-GPXX0XCEEN/images/unknown4.jpeg\" width=\"50%\"></center>\n"
   ]
  },
  {
   "cell_type": "markdown",
   "metadata": {},
   "source": [
    "## __Table of Contents__\n",
    "\n",
    "<ol>\n",
    "    <li><a href=\"#Objectives\">Objectives</a></li>\n",
    "    <li>\n",
    "        <a href=\"#Setup\">Setup</a>\n",
    "        <ol>\n",
    "            <li><a href=\"#Installing-Required-Libraries\">Installing Required Libraries</a></li>\n",
    "            <li><a href=\"#Importing-Required-Libraries\">Importing Required Libraries</a></li>\n",
    "            <li><a href=\"#Defining-Helper-Functions\">Defining Helper Functions</a></li>\n",
    "        </ol>\n",
    "    </li>\n",
    "    <li>\n",
    "        <a href=\"#Basic:-Generative-Adversarial-Networks-(GANs)\">Basic: Generative Adversarial Networks (GANs)</a>\n",
    "        <ol>\n",
    "            <li><a href=\"#Introduction\">Introduction</a></li>\n",
    "            <li><a href=\"#Toy-Data\">Toy Data</a></li>\n",
    "            <li><a href=\"#The-Generator\">The Generator</a></li>\n",
    "            <li><a href=\"#The-Loss-Function-GANs-(Optional)\">The Loss Function GANs (Optional)</a></li>\n",
    "            <li><a href=\"#Training-GANs\">Training GANs</a></li>\n",
    "        </ol>\n",
    "    </li>\n",
    "    <li>\n",
    "        <a href=\"#Deep-Convolutional-Generative-Adversarial-Networks-(DCGANs)\">Deep Convolutional Generative Adversarial Networks (DCGANs)</a></li>\n",
    "        <ol>\n",
    "            <li><a href=\"#Case-background\">Case background</a></li>\n",
    "            <li><a href=\"#Loading-the-Dataset\">Loading the Dataset</a></li>\n",
    "            <li><a href=\"#Creating-Data-Generator\">Creating Data Generator</a></li>\n",
    "            <li><a href=\"#Generator-and-Discriminator-(for-DCGANs)\">Generator and Discriminator  (for DCGANs)</a></li>\n",
    "            <li><a href=\"#Defining-Loss-Functions\">Defining Loss Functions</a></li>\n",
    "            <li><a href=\"#Defining-Optimizers\">Defining Optimizers</a></li>\n",
    "            <li><a href=\"#Create-Train-Step-Function\">Create Train Step Function</a></li>\n",
    "            <li><a href=\"#Training-DCGANs\">Training DCGANs</a></li>\n",
    "        </ol>\n",
    "    <li>\n",
    "    <a href=\"#Explore-Latent-Variables\">Explore Latent Variables</a>\n",
    "        <ol>\n",
    "            <li><a href=\"#Exercise-1\">Exercise 1</a></li>\n",
    "            <li><a href=\"#Exercise-2\">Exercise 2</a></li>\n",
    "            <li><a href=\"#Exercise-3\">Exercise 3</a></li>\n",
    "        </ol>\n",
    "    </li>\n",
    "</ol>\n"
   ]
  },
  {
   "cell_type": "markdown",
   "metadata": {},
   "source": [
    "## Objectives\n",
    "\n",
    "After completing this lab, you will be able to:\n",
    "\n",
    "- __Understand__ the original formulation of GANs, and their two separately trained networks: Generator and Discriminator\n",
    "- __Implement__ GANs on simulated and real datasets\n",
    "- __Apply__ DCGANs to a dataset \n",
    "- __Understand__ how to train DCGANs \n",
    "- __Generate__ an image using a DCGAN\n",
    "- __Understand__ how changing the input of the latent space of DCGANs changes the generated image \n"
   ]
  },
  {
   "cell_type": "markdown",
   "metadata": {},
   "source": [
    "----\n"
   ]
  },
  {
   "cell_type": "markdown",
   "metadata": {},
   "source": [
    "## Setup\n"
   ]
  },
  {
   "cell_type": "markdown",
   "metadata": {},
   "source": [
    "For this lab, we will be using the following libraries:\n",
    "\n",
    "*   [`pandas`](https://pandas.pydata.org/?utm_medium=Exinfluencer&utm_source=Exinfluencer&utm_content=000026UJ&utm_term=10006555&utm_id=NA-SkillsNetwork-Channel-SkillsNetworkCoursesIBMML0187ENSkillsNetwork31430127-2021-01-01) for managing the data.\n",
    "*   [`numpy`](https://numpy.org/?utm_medium=Exinfluencer&utm_source=Exinfluencer&utm_content=000026UJ&utm_term=10006555&utm_id=NA-SkillsNetwork-Channel-SkillsNetworkCoursesIBMML0187ENSkillsNetwork31430127-2021-01-01) for mathematical operations.\n",
    "*   [`sklearn`](https://scikit-learn.org/stable/?utm_medium=Exinfluencer&utm_source=Exinfluencer&utm_content=000026UJ&utm_term=10006555&utm_id=NA-SkillsNetwork-Channel-SkillsNetworkCoursesIBMML0187ENSkillsNetwork31430127-2021-01-01) for machine learning and machine-learning-pipeline related functions.\n",
    "*   [`seaborn`](https://seaborn.pydata.org/?utm_medium=Exinfluencer&utm_source=Exinfluencer&utm_content=000026UJ&utm_term=10006555&utm_id=NA-SkillsNetwork-Channel-SkillsNetworkCoursesIBMML0187ENSkillsNetwork31430127-2021-01-01) for visualizing the data.\n",
    "*   [`matplotlib`](https://matplotlib.org/?utm_medium=Exinfluencer&utm_source=Exinfluencer&utm_content=000026UJ&utm_term=10006555&utm_id=NA-SkillsNetwork-Channel-SkillsNetworkCoursesIBMML0187ENSkillsNetwork31430127-2021-01-01) for additional plotting tools.\n",
    "*   [`keras`](https://keras.io/?utm_medium=Exinfluencer&utm_source=Exinfluencer&utm_content=000026UJ&utm_term=10006555&utm_id=NA-SkillsNetwork-Channel-SkillsNetworkCoursesIBMML0187ENSkillsNetwork31430127-2021-01-01) for loading datasets.\n",
    "*   [`tensorflow`](https://www.tensorflow.org/?utm_medium=Exinfluencer&utm_source=Exinfluencer&utm_content=000026UJ&utm_term=10006555&utm_id=NA-SkillsNetwork-Channel-SkillsNetworkCoursesIBMML0187ENSkillsNetwork31430127-2021-01-01) for machine learning and neural network related functions.\n",
    "\n",
    "\n"
   ]
  },
  {
   "cell_type": "markdown",
   "metadata": {},
   "source": [
    "### Installing Required Libraries\n",
    "\n",
    "The following required libraries are pre-installed in the Skills Network Labs environment. However, if you run this notebook commands in a different Jupyter environment (e.g. Watson Studio or Ananconda), you will need to install these libraries by removing the `#` sign before `!mamba` in the code cell below.\n"
   ]
  },
  {
   "cell_type": "code",
   "execution_count": 12,
   "metadata": {
    "tags": []
   },
   "outputs": [],
   "source": [
    "# All Libraries required for this lab are listed below. The libraries pre-installed on Skills Network Labs are commented.\n",
    "# !mamba install -qy pandas==1.3.4 numpy==1.21.4 seaborn==0.9.0 matplotlib==3.5.0 scikit-learn==0.20.1\n",
    "# Note: If your environment doesn't support \"!mamba install\", use \"!pip install\""
   ]
  },
  {
   "cell_type": "markdown",
   "metadata": {},
   "source": [
    "The following required libraries are __not__ pre-installed in the Skills Network Labs environment. __You will need to run the following cell__ to install them:\n",
    "\n",
    "_You need ~30 seconds to install._\n"
   ]
  },
  {
   "cell_type": "code",
   "execution_count": 1,
   "metadata": {
    "tags": []
   },
   "outputs": [],
   "source": [
    "!pip install -q tqdm"
   ]
  },
  {
   "cell_type": "markdown",
   "metadata": {},
   "source": [
    "Run the following upgrade and then **RESTART YOUR KERNEL**. Make sure the version of tensorflow imported below is **no less than 2.9.0**. \n"
   ]
  },
  {
   "cell_type": "code",
   "execution_count": 3,
   "metadata": {
    "tags": []
   },
   "outputs": [
    {
     "name": "stdout",
     "output_type": "stream",
     "text": [
      "Requirement already satisfied: tensorflow in c:\\users\\khenj\\anaconda3\\lib\\site-packages (2.18.0)\n",
      "Requirement already satisfied: tensorflow-intel==2.18.0 in c:\\users\\khenj\\anaconda3\\lib\\site-packages (from tensorflow) (2.18.0)\n",
      "Requirement already satisfied: absl-py>=1.0.0 in c:\\users\\khenj\\anaconda3\\lib\\site-packages (from tensorflow-intel==2.18.0->tensorflow) (2.1.0)\n",
      "Requirement already satisfied: astunparse>=1.6.0 in c:\\users\\khenj\\anaconda3\\lib\\site-packages (from tensorflow-intel==2.18.0->tensorflow) (1.6.3)\n",
      "Requirement already satisfied: flatbuffers>=24.3.25 in c:\\users\\khenj\\anaconda3\\lib\\site-packages (from tensorflow-intel==2.18.0->tensorflow) (24.3.25)\n",
      "Requirement already satisfied: gast!=0.5.0,!=0.5.1,!=0.5.2,>=0.2.1 in c:\\users\\khenj\\anaconda3\\lib\\site-packages (from tensorflow-intel==2.18.0->tensorflow) (0.6.0)\n",
      "Requirement already satisfied: google-pasta>=0.1.1 in c:\\users\\khenj\\anaconda3\\lib\\site-packages (from tensorflow-intel==2.18.0->tensorflow) (0.2.0)\n",
      "Requirement already satisfied: libclang>=13.0.0 in c:\\users\\khenj\\anaconda3\\lib\\site-packages (from tensorflow-intel==2.18.0->tensorflow) (18.1.1)\n",
      "Requirement already satisfied: opt-einsum>=2.3.2 in c:\\users\\khenj\\anaconda3\\lib\\site-packages (from tensorflow-intel==2.18.0->tensorflow) (3.4.0)\n",
      "Requirement already satisfied: packaging in c:\\users\\khenj\\anaconda3\\lib\\site-packages (from tensorflow-intel==2.18.0->tensorflow) (23.2)\n",
      "Requirement already satisfied: protobuf!=4.21.0,!=4.21.1,!=4.21.2,!=4.21.3,!=4.21.4,!=4.21.5,<6.0.0dev,>=3.20.3 in c:\\users\\khenj\\anaconda3\\lib\\site-packages (from tensorflow-intel==2.18.0->tensorflow) (3.20.3)\n",
      "Requirement already satisfied: requests<3,>=2.21.0 in c:\\users\\khenj\\anaconda3\\lib\\site-packages (from tensorflow-intel==2.18.0->tensorflow) (2.32.2)\n",
      "Requirement already satisfied: setuptools in c:\\users\\khenj\\anaconda3\\lib\\site-packages (from tensorflow-intel==2.18.0->tensorflow) (69.5.1)\n",
      "Requirement already satisfied: six>=1.12.0 in c:\\users\\khenj\\anaconda3\\lib\\site-packages (from tensorflow-intel==2.18.0->tensorflow) (1.16.0)\n",
      "Requirement already satisfied: termcolor>=1.1.0 in c:\\users\\khenj\\anaconda3\\lib\\site-packages (from tensorflow-intel==2.18.0->tensorflow) (2.5.0)\n",
      "Requirement already satisfied: typing-extensions>=3.6.6 in c:\\users\\khenj\\anaconda3\\lib\\site-packages (from tensorflow-intel==2.18.0->tensorflow) (4.11.0)\n",
      "Requirement already satisfied: wrapt>=1.11.0 in c:\\users\\khenj\\anaconda3\\lib\\site-packages (from tensorflow-intel==2.18.0->tensorflow) (1.14.1)\n",
      "Requirement already satisfied: grpcio<2.0,>=1.24.3 in c:\\users\\khenj\\anaconda3\\lib\\site-packages (from tensorflow-intel==2.18.0->tensorflow) (1.68.0)\n",
      "Requirement already satisfied: tensorboard<2.19,>=2.18 in c:\\users\\khenj\\anaconda3\\lib\\site-packages (from tensorflow-intel==2.18.0->tensorflow) (2.18.0)\n",
      "Requirement already satisfied: keras>=3.5.0 in c:\\users\\khenj\\anaconda3\\lib\\site-packages (from tensorflow-intel==2.18.0->tensorflow) (3.6.0)\n",
      "Requirement already satisfied: numpy<2.1.0,>=1.26.0 in c:\\users\\khenj\\anaconda3\\lib\\site-packages (from tensorflow-intel==2.18.0->tensorflow) (1.26.4)\n",
      "Requirement already satisfied: h5py>=3.11.0 in c:\\users\\khenj\\anaconda3\\lib\\site-packages (from tensorflow-intel==2.18.0->tensorflow) (3.11.0)\n",
      "Requirement already satisfied: ml-dtypes<0.5.0,>=0.4.0 in c:\\users\\khenj\\anaconda3\\lib\\site-packages (from tensorflow-intel==2.18.0->tensorflow) (0.4.1)\n",
      "Requirement already satisfied: wheel<1.0,>=0.23.0 in c:\\users\\khenj\\anaconda3\\lib\\site-packages (from astunparse>=1.6.0->tensorflow-intel==2.18.0->tensorflow) (0.43.0)\n",
      "Requirement already satisfied: rich in c:\\users\\khenj\\anaconda3\\lib\\site-packages (from keras>=3.5.0->tensorflow-intel==2.18.0->tensorflow) (13.3.5)\n",
      "Requirement already satisfied: namex in c:\\users\\khenj\\anaconda3\\lib\\site-packages (from keras>=3.5.0->tensorflow-intel==2.18.0->tensorflow) (0.0.8)\n",
      "Requirement already satisfied: optree in c:\\users\\khenj\\anaconda3\\lib\\site-packages (from keras>=3.5.0->tensorflow-intel==2.18.0->tensorflow) (0.13.1)\n",
      "Requirement already satisfied: charset-normalizer<4,>=2 in c:\\users\\khenj\\anaconda3\\lib\\site-packages (from requests<3,>=2.21.0->tensorflow-intel==2.18.0->tensorflow) (2.0.4)\n",
      "Requirement already satisfied: idna<4,>=2.5 in c:\\users\\khenj\\anaconda3\\lib\\site-packages (from requests<3,>=2.21.0->tensorflow-intel==2.18.0->tensorflow) (3.7)\n",
      "Requirement already satisfied: urllib3<3,>=1.21.1 in c:\\users\\khenj\\anaconda3\\lib\\site-packages (from requests<3,>=2.21.0->tensorflow-intel==2.18.0->tensorflow) (2.2.2)\n",
      "Requirement already satisfied: certifi>=2017.4.17 in c:\\users\\khenj\\anaconda3\\lib\\site-packages (from requests<3,>=2.21.0->tensorflow-intel==2.18.0->tensorflow) (2024.8.30)\n",
      "Requirement already satisfied: markdown>=2.6.8 in c:\\users\\khenj\\anaconda3\\lib\\site-packages (from tensorboard<2.19,>=2.18->tensorflow-intel==2.18.0->tensorflow) (3.4.1)\n",
      "Requirement already satisfied: tensorboard-data-server<0.8.0,>=0.7.0 in c:\\users\\khenj\\anaconda3\\lib\\site-packages (from tensorboard<2.19,>=2.18->tensorflow-intel==2.18.0->tensorflow) (0.7.2)\n",
      "Requirement already satisfied: werkzeug>=1.0.1 in c:\\users\\khenj\\anaconda3\\lib\\site-packages (from tensorboard<2.19,>=2.18->tensorflow-intel==2.18.0->tensorflow) (3.0.3)\n",
      "Requirement already satisfied: MarkupSafe>=2.1.1 in c:\\users\\khenj\\anaconda3\\lib\\site-packages (from werkzeug>=1.0.1->tensorboard<2.19,>=2.18->tensorflow-intel==2.18.0->tensorflow) (2.1.3)\n",
      "Requirement already satisfied: markdown-it-py<3.0.0,>=2.2.0 in c:\\users\\khenj\\anaconda3\\lib\\site-packages (from rich->keras>=3.5.0->tensorflow-intel==2.18.0->tensorflow) (2.2.0)\n",
      "Requirement already satisfied: pygments<3.0.0,>=2.13.0 in c:\\users\\khenj\\anaconda3\\lib\\site-packages (from rich->keras>=3.5.0->tensorflow-intel==2.18.0->tensorflow) (2.15.1)\n",
      "Requirement already satisfied: mdurl~=0.1 in c:\\users\\khenj\\anaconda3\\lib\\site-packages (from markdown-it-py<3.0.0,>=2.2.0->rich->keras>=3.5.0->tensorflow-intel==2.18.0->tensorflow) (0.1.0)\n"
     ]
    }
   ],
   "source": [
    "!pip3 install  --upgrade tensorflow"
   ]
  },
  {
   "cell_type": "markdown",
   "metadata": {},
   "source": [
    "### Importing Required Libraries\n",
    "\n",
    "_We recommend you import all required libraries in one place (here):_\n",
    "\n",
    "_You need ~1 minute to import._\n"
   ]
  },
  {
   "cell_type": "code",
   "execution_count": 9,
   "metadata": {
    "tags": []
   },
   "outputs": [
    {
     "name": "stdout",
     "output_type": "stream",
     "text": [
      "Collecting skillsnetwork\n",
      "  Downloading skillsnetwork-0.21.9-py3-none-any.whl.metadata (2.0 kB)\n",
      "Requirement already satisfied: ipython in c:\\users\\khenj\\anaconda3\\lib\\site-packages (from skillsnetwork) (8.25.0)\n",
      "Collecting ipywidgets<9,>=8 (from skillsnetwork)\n",
      "  Using cached ipywidgets-8.1.5-py3-none-any.whl.metadata (2.3 kB)\n",
      "Requirement already satisfied: requests<3,>=2 in c:\\users\\khenj\\anaconda3\\lib\\site-packages (from skillsnetwork) (2.32.2)\n",
      "Requirement already satisfied: tqdm<5,>=4 in c:\\users\\khenj\\anaconda3\\lib\\site-packages (from skillsnetwork) (4.66.4)\n",
      "Requirement already satisfied: comm>=0.1.3 in c:\\users\\khenj\\anaconda3\\lib\\site-packages (from ipywidgets<9,>=8->skillsnetwork) (0.2.1)\n",
      "Requirement already satisfied: traitlets>=4.3.1 in c:\\users\\khenj\\anaconda3\\lib\\site-packages (from ipywidgets<9,>=8->skillsnetwork) (5.14.3)\n",
      "Collecting widgetsnbextension~=4.0.12 (from ipywidgets<9,>=8->skillsnetwork)\n",
      "  Using cached widgetsnbextension-4.0.13-py3-none-any.whl.metadata (1.6 kB)\n",
      "Collecting jupyterlab-widgets~=3.0.12 (from ipywidgets<9,>=8->skillsnetwork)\n",
      "  Using cached jupyterlab_widgets-3.0.13-py3-none-any.whl.metadata (4.1 kB)\n",
      "Requirement already satisfied: decorator in c:\\users\\khenj\\anaconda3\\lib\\site-packages (from ipython->skillsnetwork) (5.1.1)\n",
      "Requirement already satisfied: jedi>=0.16 in c:\\users\\khenj\\anaconda3\\lib\\site-packages (from ipython->skillsnetwork) (0.18.1)\n",
      "Requirement already satisfied: matplotlib-inline in c:\\users\\khenj\\anaconda3\\lib\\site-packages (from ipython->skillsnetwork) (0.1.6)\n",
      "Requirement already satisfied: prompt-toolkit<3.1.0,>=3.0.41 in c:\\users\\khenj\\anaconda3\\lib\\site-packages (from ipython->skillsnetwork) (3.0.43)\n",
      "Requirement already satisfied: pygments>=2.4.0 in c:\\users\\khenj\\anaconda3\\lib\\site-packages (from ipython->skillsnetwork) (2.15.1)\n",
      "Requirement already satisfied: stack-data in c:\\users\\khenj\\anaconda3\\lib\\site-packages (from ipython->skillsnetwork) (0.2.0)\n",
      "Requirement already satisfied: colorama in c:\\users\\khenj\\anaconda3\\lib\\site-packages (from ipython->skillsnetwork) (0.4.6)\n",
      "Requirement already satisfied: charset-normalizer<4,>=2 in c:\\users\\khenj\\anaconda3\\lib\\site-packages (from requests<3,>=2->skillsnetwork) (2.0.4)\n",
      "Requirement already satisfied: idna<4,>=2.5 in c:\\users\\khenj\\anaconda3\\lib\\site-packages (from requests<3,>=2->skillsnetwork) (3.7)\n",
      "Requirement already satisfied: urllib3<3,>=1.21.1 in c:\\users\\khenj\\anaconda3\\lib\\site-packages (from requests<3,>=2->skillsnetwork) (2.2.2)\n",
      "Requirement already satisfied: certifi>=2017.4.17 in c:\\users\\khenj\\anaconda3\\lib\\site-packages (from requests<3,>=2->skillsnetwork) (2024.8.30)\n",
      "Requirement already satisfied: parso<0.9.0,>=0.8.0 in c:\\users\\khenj\\anaconda3\\lib\\site-packages (from jedi>=0.16->ipython->skillsnetwork) (0.8.3)\n",
      "Requirement already satisfied: wcwidth in c:\\users\\khenj\\anaconda3\\lib\\site-packages (from prompt-toolkit<3.1.0,>=3.0.41->ipython->skillsnetwork) (0.2.5)\n",
      "Requirement already satisfied: executing in c:\\users\\khenj\\anaconda3\\lib\\site-packages (from stack-data->ipython->skillsnetwork) (0.8.3)\n",
      "Requirement already satisfied: asttokens in c:\\users\\khenj\\anaconda3\\lib\\site-packages (from stack-data->ipython->skillsnetwork) (2.0.5)\n",
      "Requirement already satisfied: pure-eval in c:\\users\\khenj\\anaconda3\\lib\\site-packages (from stack-data->ipython->skillsnetwork) (0.2.2)\n",
      "Requirement already satisfied: six in c:\\users\\khenj\\anaconda3\\lib\\site-packages (from asttokens->stack-data->ipython->skillsnetwork) (1.16.0)\n",
      "Downloading skillsnetwork-0.21.9-py3-none-any.whl (26 kB)\n",
      "Using cached ipywidgets-8.1.5-py3-none-any.whl (139 kB)\n",
      "Using cached jupyterlab_widgets-3.0.13-py3-none-any.whl (214 kB)\n",
      "Using cached widgetsnbextension-4.0.13-py3-none-any.whl (2.3 MB)\n",
      "Installing collected packages: widgetsnbextension, jupyterlab-widgets, ipywidgets, skillsnetwork\n",
      "  Attempting uninstall: widgetsnbextension\n",
      "    Found existing installation: widgetsnbextension 3.6.6\n",
      "    Uninstalling widgetsnbextension-3.6.6:\n",
      "      Successfully uninstalled widgetsnbextension-3.6.6\n",
      "  Attempting uninstall: jupyterlab-widgets\n",
      "    Found existing installation: jupyterlab-widgets 1.0.0\n",
      "    Uninstalling jupyterlab-widgets-1.0.0:\n",
      "      Successfully uninstalled jupyterlab-widgets-1.0.0\n",
      "  Attempting uninstall: ipywidgets\n",
      "    Found existing installation: ipywidgets 7.8.1\n",
      "    Uninstalling ipywidgets-7.8.1:\n",
      "      Successfully uninstalled ipywidgets-7.8.1\n",
      "Successfully installed ipywidgets-8.1.5 jupyterlab-widgets-3.0.13 skillsnetwork-0.21.9 widgetsnbextension-4.0.13\n",
      "tensorflow version: 2.18.0\n",
      "skillsnetwork version: 0.21.9\n"
     ]
    }
   ],
   "source": [
    "!pip install skillsnetwork\n",
    "\n",
    "import warnings\n",
    "warnings.simplefilter('ignore')\n",
    "import numpy as np\n",
    "import os\n",
    "import matplotlib.pyplot as plt\n",
    "import tensorflow as tf\n",
    "print(f\"tensorflow version: {tf.__version__}\")\n",
    "from tensorflow.keras import layers\n",
    "from tensorflow.keras import models\n",
    "from tensorflow.keras.models import Sequential\n",
    "from tensorflow.keras.models import Sequential\n",
    "from tensorflow.keras.layers import Input,Conv2DTranspose,BatchNormalization,ReLU,Conv2D,LeakyReLU\n",
    "import time\n",
    "\n",
    "import keras\n",
    "\n",
    "from IPython import display\n",
    "import skillsnetwork\n",
    "print(f\"skillsnetwork version: {skillsnetwork.__version__}\")\n",
    "\n",
    "import matplotlib.pyplot as plt\n",
    "%matplotlib inline\n",
    "\n",
    "import os\n",
    "from os import listdir\n",
    "from pathlib import Path\n",
    "import imghdr\n",
    "\n",
    "from tqdm import tqdm"
   ]
  },
  {
   "cell_type": "markdown",
   "metadata": {},
   "source": [
    "### Defining Helper Functions\n"
   ]
  },
  {
   "cell_type": "code",
   "execution_count": 11,
   "metadata": {
    "tags": []
   },
   "outputs": [],
   "source": [
    "# This function will allow us to easily plot data taking in x values, y values, and a title\n",
    "def plot_distribution(real_data,generated_data,discriminator=None,density=True):\n",
    "    \n",
    "    plt.hist(real_data.numpy(), 100, density=density, facecolor='g', alpha=0.75, label='real data')\n",
    "    plt.hist(generated_data.numpy(), 100, density=density, facecolor='r', alpha=0.75,label='generated data q(z) ')\n",
    "    \n",
    "    if discriminator:\n",
    "        max_=np.max([int(real_data.numpy().max()),int(generated_data.numpy().max())])\n",
    "        min_=np.min([int(real_data.numpy().min()),int(generated_data.numpy().min())])\n",
    "        x=np.linspace(min_, max_, 1000).reshape(-1,1)\n",
    "        plt.plot(x,tf.math.sigmoid(discriminator(x,training=False).numpy()),label='discriminator',color='k')\n",
    "        plt.plot(x,0.5*np.ones(x.shape),label='0.5',color='b')\n",
    "        plt.xlabel('x')\n",
    "        \n",
    "    plt.legend()\n",
    "    plt.show()\n",
    "\n",
    "def plot_array(X,title=\"\"):\n",
    "    \n",
    "    plt.rcParams['figure.figsize'] = (20,20) \n",
    "\n",
    "    for i,x in enumerate(X[0:5]):\n",
    "        x=x.numpy()\n",
    "        max_=x.max()\n",
    "        min_=x.min()\n",
    "        xnew=np.uint(255*(x-min_)/(max_-min_))\n",
    "        plt.subplot(1,5,i+1)\n",
    "        plt.imshow(xnew)\n",
    "        plt.axis(\"off\")\n",
    "\n",
    "    plt.show()"
   ]
  },
  {
   "cell_type": "markdown",
   "metadata": {},
   "source": [
    "----\n"
   ]
  },
  {
   "cell_type": "markdown",
   "metadata": {},
   "source": [
    "## Basic: Generative Adversarial Networks (GANs)\n"
   ]
  },
  {
   "cell_type": "markdown",
   "metadata": {},
   "source": [
    "### Introduction\n"
   ]
  },
  {
   "cell_type": "markdown",
   "metadata": {},
   "source": [
    "__Generative Adversarial Networks (GANs)__ are generative models that convert random samples of one distribution into another distribution. They have several applications, like the following:\n",
    "\n",
    "*  Generate Examples for Image Datasets\n",
    "*  Generate Photographs of Human Faces\n",
    "*  Generate Realistic Photographs\n",
    "*  Generate Cartoon Characters\n",
    "*  Image-to-Image Translation\n",
    "*  Text-to-Image Translation\n",
    "*  Face Frontal View Generation\n",
    "*  Generate New Human Poses\n",
    "*  Face Aging\n",
    "*  Photo Blending\n",
    "*  Super Resolution\n",
    "*  Photo Inpainting\n",
    "*  Clothing Translation\n",
    "*  Video Prediction\n",
    "\n",
    "In this GANs section of the Lab, we will use a toy example to help understand the __basic theoretical principles__ behind GANs. The original form of GANs consisted of a __discriminator__ and a __generator__; let's use the analogy of a currency forger and the police. \n",
    "\n",
    "The Generator is the currency forger, and the output is the counterfeit, for example, a 100-dollar bill. The discriminator is analogous to the police taking the counterfeit and trying to determine if it's real by comparing it to a real $100 bill. In real life, if the counterfeit is easy to detect, the forger will adapt; conversely, the police will also improve; GANs emulate this game of cat and mouse.  \n",
    "\n",
    "<center><img src=\"https://cf-courses-data.s3.us.cloud-object-storage.appdomain.cloud/IBM-GPXX0XCEEN/images/General%20diagram.png\" alt=\"generator image\" width=\"700px\"></center>\n",
    "\n",
    "What makes GANs interesting is that the __discriminator and generator continuously improve__ each other by a well-formulated cost function that backpropagates the errors. GANs are a family of algorithms that use _learning by comparison_. In the lab, we will review the original formulation and use a simulated dataset. We will also point you to some more advanced methods and issues you will encounter with the real datasets for the next lab. \n"
   ]
  },
  {
   "cell_type": "markdown",
   "metadata": {},
   "source": [
    "### Toy Data\n",
    "\n",
    "Consider the following data, $\\mathbf{x}$, that is normally distributed $\\mathbf{x} \\sim \\mathcal{N}(\\mathbf{x}|10,1) $ with a mean of 10 and a standard deviation of 1. Now we would like to randomly sample data from this distribution.\n"
   ]
  },
  {
   "cell_type": "code",
   "execution_count": 13,
   "metadata": {
    "tags": []
   },
   "outputs": [
    {
     "name": "stdout",
     "output_type": "stream",
     "text": [
      "mean: 9.996454\n",
      "standard deviation: 1.006187\n"
     ]
    }
   ],
   "source": [
    "mean = [10]\n",
    "cov = [[1]]\n",
    "X = tf.random.normal((5000,1),mean=10,stddev=1.0)\n",
    "\n",
    "print(\"mean:\",np.mean(X))\n",
    "print(\"standard deviation:\",np.std(X))"
   ]
  },
  {
   "cell_type": "markdown",
   "metadata": {},
   "source": [
    "We also have the data sample, z, which is also normally distributed $\\mathbf{z} \\sim \\mathcal{N}(\\mathbf{z}|0,2) $, with mean of 0 and a standard deviation of 2:\n",
    "\n"
   ]
  },
  {
   "cell_type": "code",
   "execution_count": 16,
   "metadata": {
    "tags": []
   },
   "outputs": [],
   "source": [
    "Z = tf.random.normal((5000,1),mean=0,stddev=2)"
   ]
  },
  {
   "cell_type": "code",
   "execution_count": 18,
   "metadata": {
    "tags": []
   },
   "outputs": [
    {
     "name": "stdout",
     "output_type": "stream",
     "text": [
      "mean: -0.002007044\n",
      "standard deviation: 2.0071561\n"
     ]
    }
   ],
   "source": [
    "print(\"mean:\",np.mean(Z))\n",
    "print(\"standard deviation:\",np.std(Z))"
   ]
  },
  {
   "cell_type": "markdown",
   "metadata": {},
   "source": [
    "Let's compare the two distributions:\n"
   ]
  },
  {
   "cell_type": "code",
   "execution_count": 21,
   "metadata": {
    "tags": []
   },
   "outputs": [
    {
     "data": {
      "image/png": "[encoded data removed]",
      "text/plain": [
       "<Figure size 640x480 with 1 Axes>"
      ]
     },
     "metadata": {},
     "output_type": "display_data"
    }
   ],
   "source": [
    "plot_distribution(X,Z,discriminator=None,density=True)"
   ]
  },
  {
   "cell_type": "markdown",
   "metadata": {},
   "source": [
    "Let's create our first generative model by adding 10 to every sample of $z$. We will call the result $\\hat{\\mathbf{x}}$  as it's an approximation of $\\mathbf{x}$. It is not too difficult to show that $\\hat{\\mathbf{x}} \\sim \\mathcal{N}(\\mathbf{x}|10,1)$.Xhat=Z+10\n"
   ]
  },
  {
   "cell_type": "code",
   "execution_count": 24,
   "metadata": {
    "tags": []
   },
   "outputs": [],
   "source": [
    "Xhat=Z+10"
   ]
  },
  {
   "cell_type": "markdown",
   "metadata": {},
   "source": [
    "We see that the mean and standard deviation are almost identical \n"
   ]
  },
  {
   "cell_type": "code",
   "execution_count": 27,
   "metadata": {
    "tags": []
   },
   "outputs": [
    {
     "name": "stdout",
     "output_type": "stream",
     "text": [
      "mean: 9.9979925\n",
      "standard deviation: 2.0071561\n"
     ]
    }
   ],
   "source": [
    "print(\"mean:\",np.mean(Xhat))\n",
    "print(\"standard deviation:\",np.std(Xhat))"
   ]
  },
  {
   "cell_type": "markdown",
   "metadata": {},
   "source": [
    "Similarly for the histograms \n"
   ]
  },
  {
   "cell_type": "code",
   "execution_count": 30,
   "metadata": {
    "tags": []
   },
   "outputs": [
    {
     "data": {
      "image/png": "[encoded data removed]",
      "text/plain": [
       "<Figure size 640x480 with 1 Axes>"
      ]
     },
     "metadata": {},
     "output_type": "display_data"
    }
   ],
   "source": [
    "plot_distribution(X,Xhat,discriminator=None,density=True)"
   ]
  },
  {
   "cell_type": "markdown",
   "metadata": {},
   "source": [
    "In the case above, since we just add 10 to the latent variable $z$, we transform $z$ using a deterministic function. We can call this an implicit generative model.\n"
   ]
  },
  {
   "cell_type": "markdown",
   "metadata": {},
   "source": [
    "### The Generator\n"
   ]
  },
  {
   "cell_type": "markdown",
   "metadata": {},
   "source": [
    "<img src=\"https://cf-courses-data.s3.us.cloud-object-storage.appdomain.cloud/IBM-GPXX0XCEEN/images/Unknown.png\" width=\"300px\">\n",
    "\n",
    "There are two networks involved in a GAN, the Generator and the Discriminator. Let's understand the Generator network first.\n",
    "\n",
    "The Generator is a neural network denoted by $G$; the idea is that a neural network can approximate any function (by the [Universal Approximation Theorem](https://en.wikipedia.org/wiki/Universal_approximation_theorem?utm_medium=Exinfluencer&utm_source=Exinfluencer&utm_content=000026UJ&utm_term=10006555&utm_id=NA-SkillsNetwork-Channel-SkillsNetworkGuidedProjectsIBMGPXX0XCEEN72-2022-01-01)), so you should be able to generate data samples from any type of distribution. \n",
    "\n",
    "Our goal is to convert the samples, $\\mathbf{z}$, to one that approximates $\\hat{\\mathbf{x}}$,  i.e $\\hat{\\mathbf{x}}=G(\\mathbf{z})$. Let's build a simple Generator $G(\\mathbf{z})=\\mathbf{W}^{T}\\mathbf{z}+\\mathbf{b} $ using Keras.\n",
    "\n",
    "The following is a function that outputs a generator using Kera's Sequential model object.\n"
   ]
  },
  {
   "cell_type": "code",
   "execution_count": 35,
   "metadata": {
    "tags": []
   },
   "outputs": [],
   "source": [
    "def make_generator_model():\n",
    "    generator = tf.keras.Sequential()\n",
    "    generator.add(layers.Dense(1))\n",
    "    return generator"
   ]
  },
  {
   "cell_type": "markdown",
   "metadata": {},
   "source": [
    "We can use the Generator to convert $\\mathbf{z}$ and make a prediction $\\hat{\\mathbf{x}}$, and display the histogram of the distributions of $\\hat{\\mathbf{x}}$ and $\\mathbf{x}$. As the model is not trained, the trained distributions are quite different:\n"
   ]
  },
  {
   "cell_type": "code",
   "execution_count": 38,
   "metadata": {
    "tags": []
   },
   "outputs": [
    {
     "data": {
      "image/png": "[encoded data removed]",
      "text/plain": [
       "<Figure size 640x480 with 1 Axes>"
      ]
     },
     "metadata": {},
     "output_type": "display_data"
    }
   ],
   "source": [
    "generator=make_generator_model()\n",
    "\n",
    "Xhat = generator(Z, training=False)\n",
    "plot_distribution(real_data=X,generated_data=Xhat)"
   ]
  },
  {
   "cell_type": "markdown",
   "metadata": {},
   "source": [
    "We will discuss the use of the parameter ```training=False``` later on.\n"
   ]
  },
  {
   "cell_type": "markdown",
   "metadata": {},
   "source": [
    "### The Discriminator \n"
   ]
  },
  {
   "cell_type": "markdown",
   "metadata": {},
   "source": [
    "<img src=\"https://cf-courses-data.s3.us.cloud-object-storage.appdomain.cloud/IBM-GPXX0XCEEN/images/Unknown1.png\" width=\"300px\">\n",
    "\n",
    "The discriminator $D(\\mathbf{x})$ is a neural network that learns to distinguish between actual and generated samples. The simplest Discriminator is a simple logistic regression function. Let's create a discriminator in Keras with one Dense layer; we leave the logistic function out as it will be incorporated in the cost function, which is the convention in Keras.\n"
   ]
  },
  {
   "cell_type": "code",
   "execution_count": 43,
   "metadata": {
    "tags": []
   },
   "outputs": [],
   "source": [
    "def make_discriminator_model():\n",
    "    discriminator=tf.keras.Sequential()\n",
    "    discriminator.add(layers.Dense(1))\n",
    "    return discriminator\n",
    "\n",
    "discriminator=make_discriminator_model()"
   ]
  },
  {
   "cell_type": "markdown",
   "metadata": {},
   "source": [
    "The discriminator and generator are randomly initialized, but we can plot the output of each and compare it to the true data distribution, with the generated data in red and the real data in green, and the logistic function as a function of the x axis. We also include the threshold. If the output of the logistic function is less than 0.5, the sample is classified as generated data; conversely, if the output is greater than 0.5, the sample will be classified as data that came from the real distribution. \n"
   ]
  },
  {
   "cell_type": "code",
   "execution_count": 46,
   "metadata": {
    "tags": []
   },
   "outputs": [
    {
     "data": {
      "image/png": "[encoded data removed]",
      "text/plain": [
       "<Figure size 640x480 with 1 Axes>"
      ]
     },
     "metadata": {},
     "output_type": "display_data"
    }
   ],
   "source": [
    "plot_distribution(real_data=X,generated_data=Xhat,discriminator=discriminator)"
   ]
  },
  {
   "cell_type": "markdown",
   "metadata": {},
   "source": [
    "Applying the sigmoid function to the discriminator output, we get the probabilites that the samples belong to the real distribution. We can count the number of true samples that the discriminator correctly classifies. \n",
    "\n",
    "For the real data, the discriminator successfully assigns a probability greater than 0.5 for all 5000 samples:\n"
   ]
  },
  {
   "cell_type": "code",
   "execution_count": 49,
   "metadata": {
    "tags": []
   },
   "outputs": [
    {
     "data": {
      "text/plain": [
       "5000"
      ]
     },
     "execution_count": 49,
     "metadata": {},
     "output_type": "execute_result"
    }
   ],
   "source": [
    "py_x=tf.math.sigmoid(discriminator(X,training=False))\n",
    "np.sum(py_x>0.5)"
   ]
  },
  {
   "cell_type": "markdown",
   "metadata": {},
   "source": [
    "For the generated data, only a part of the 5000 samples are classified as having more than 50% chance of coming from the real distribution.\n"
   ]
  },
  {
   "cell_type": "code",
   "execution_count": 52,
   "metadata": {
    "tags": []
   },
   "outputs": [
    {
     "data": {
      "text/plain": [
       "96"
      ]
     },
     "execution_count": 52,
     "metadata": {},
     "output_type": "execute_result"
    }
   ],
   "source": [
    "py_x=discriminator(Xhat)\n",
    "np.sum(py_x>0.5)"
   ]
  },
  {
   "cell_type": "markdown",
   "metadata": {},
   "source": [
    "We can also use the following to find the average value of the sigmoid function for all the samples.  \n"
   ]
  },
  {
   "cell_type": "code",
   "execution_count": 55,
   "metadata": {
    "tags": []
   },
   "outputs": [],
   "source": [
    "def get_accuracy(X,Xhat):\n",
    "    total=0\n",
    "    py_x=tf.math.sigmoid(discriminator(X,training=False))\n",
    "    total=np.mean(py_x)\n",
    "    py_x=tf.math.sigmoid(discriminator(Xhat,training=False))\n",
    "    total+=np.mean(py_x)\n",
    "    return total/2"
   ]
  },
  {
   "cell_type": "code",
   "execution_count": 57,
   "metadata": {
    "tags": []
   },
   "outputs": [
    {
     "data": {
      "text/plain": [
       "0.7499682307243347"
      ]
     },
     "execution_count": 57,
     "metadata": {},
     "output_type": "execute_result"
    }
   ],
   "source": [
    "get_accuracy(X,Xhat)"
   ]
  },
  {
   "cell_type": "markdown",
   "metadata": {},
   "source": [
    "In many cases, we can instead study the difference in the distribution; in this case, the discriminator is called a <a href='https://cf-courses-data.s3.us.cloud-object-storage.appdomain.cloud/IBM-GPXX0XCEEN/papers/2107.06700.pdf'>Critic</a>, a real-valued function.\n"
   ]
  },
  {
   "cell_type": "markdown",
   "metadata": {},
   "source": [
    "### The Loss Function GANs (Optional) \n",
    "GANs convert an unsupervised learning problem to a supervised one. Instead of formulating the problem like a two-player minimax game with a value function like in <a href=https://cf-courses-data.s3.us.cloud-object-storage.appdomain.cloud/IBM-GPXX0XCEEN/papers/1406.2661.pdf >[1]</a>, we can treat the problem of maximizing the familiar log-likelihood of the logistic function analogous to minimizing the cross-entropy loss, then incorporate the generator and discriminator.\n",
    "\n",
    "___Discriminator___\n",
    "\n",
    "In order to train the GANS, we start off with standard maximization of the likelihood for the discriminator for the standard dataset $\\mathcal{D}=\\{{(x_1, y_1), ..., (x_N, y_N)}\\}$:\n",
    "\n",
    "$$V(D)=\\sum_{n=1}^N \\left( y_n \\ln(D(\\mathbf{x}_n))+(1-y_n) \\ln(1-D(\\mathbf{x}_n))\\right)$$\n",
    "\n",
    "Where $y=1$ for samples from the true distribution and $y=0$ for samples from the generator. The goal is to maximize this term with respect to $D$:\n",
    "\n",
    "$$max_{D}(V(D))$$\n"
   ]
  },
  {
   "cell_type": "markdown",
   "metadata": {},
   "source": [
    "To also incorporate the generated samples, we augment the right side of the equation with the generated $k$th sample $\\hat{\\mathbf{x}}_k$. As they are not part of the dataset $k \\notin \\mathcal{D} $, we have to include a second summation where $y=0$. Finally, combining the cases of $y=1$ and $y=0$, we get:\n",
    "\n",
    "$$V(D)=\\sum_{ n\t\\in \\mathcal{D}}  \\ln(D(\\mathbf{x}_n))+\\sum_{k \t\\notin \\mathcal{D}} \\ln(1-D(\\hat{\\mathbf{x}}_k) ) $$\n"
   ]
  },
  {
   "cell_type": "markdown",
   "metadata": {},
   "source": [
    "___Generator___ \n",
    "\n",
    "For the generator we simply replace $\\hat{\\mathbf{x}}_k$ with the $G(\\mathbf{z}_k)$ . \n",
    "\n",
    "\n",
    "$$V(G,D)=\\sum_{n\t\\in \\mathcal{D}} \\ln(D(\\mathbf{x}_n))+\\sum_{k \t\\notin \\mathcal{D}} \\ln(1-D(G(\\mathbf{z}_k))) $$\n",
    "\n",
    "As this is a density estimation problem, it is common to replace the summation with the expected value like in <a href=https://cf-courses-data.s3.us.cloud-object-storage.appdomain.cloud/IBM-GPXX0XCEEN/papers/1406.2661.pdf >[1]</a>. We replace the summations with an expectation where $p(\\mathbf{x})$ is the true distribution and $p(\\mathbf{z})$ is the distribution of $\\mathbf{z}$.\n",
    "\n",
    "\n",
    "$$V(D,G)=\\mathbb{E}_{x\\sim p(\\mathbf{x})} \\ln(D(\\mathbf{x})) + \\mathbb{E}_{\\mathbf{z} \\sim p(\\mathbf{z})} \\ln(1-D(G(\\mathbf{z}) )) $$\n",
    "\n",
    "As we are trying to trick the discriminator, we would like to find a $G$ that minimize the above expression, such as:\n",
    "\n",
    "$$min_{G} max_{D} V(D,G)$$\n"
   ]
  },
  {
   "cell_type": "markdown",
   "metadata": {},
   "source": [
    "### Training GANs \n",
    "\n",
    "GANs are quite difficult to train, even for a simple example. Let's start off with training the generator in practice. \n",
    "\n",
    "<img src=\"https://cf-courses-data.s3.us.cloud-object-storage.appdomain.cloud/IBM-GPXX0XCEEN/images/unknown3.jpeg\" width=\"500px\">\n",
    "\n",
    "___Training Generator___\n",
    "\n",
    "$log(1 − D(G(\\mathbf{z})))$ is difficult to work with as $D(G(\\mathbf{z}))$ is near one or zero for the first few iterations. This is because the generator is not yet properly trained, and the discriminator can easily distinguish between the generated and actual samples. Therefore we maximize $log(D(G(\\mathbf{z}_k)) )$.\n",
    " \n",
    "Although the output of the generator passes through the discriminator, we do not update the generator in the optimization step, hence we set the parameter ```training=False``` in the actual training steps.\n",
    "\n",
    "\n",
    "Instead of maximizing the term, we can take the negative and minimize it. The resultant expression can be calculated in Keras using the cross-entropy loss where all the target values are set to one:\n",
    "\n",
    "$$\\sum_{k \t\\notin \\mathcal{D}} log(1 - D(G(\\mathbf{z}_k)) )$$\n"
   ]
  },
  {
   "cell_type": "code",
   "execution_count": 64,
   "metadata": {
    "tags": []
   },
   "outputs": [],
   "source": [
    "# This method returns a helper function to compute crossentropy loss\n",
    "cross_entropy = tf.keras.losses.BinaryCrossentropy(from_logits=True)\n",
    "def generator_loss(Xhat):\n",
    "    return cross_entropy(tf.ones_like(Xhat), Xhat)"
   ]
  },
  {
   "cell_type": "markdown",
   "metadata": {},
   "source": [
    "___Training Discriminator___\n",
    "\n",
    "We can also use the cross-entropy to train the discriminator; we simply multiply $V(G,D)$ by a negative number, set $y=0$ for the generated values and $y=1$ for the real values. We do not update the generator parameters. \n",
    "\n",
    "$$V(G)=\\sum_{n\t\\in \\mathcal{D}} (\\ln(D(\\mathbf{x}_n)))+\\sum_{k \t\\notin \\mathcal{D}} \\ln(1-D(G(\\mathbf{z}_k) )) $$\n"
   ]
  },
  {
   "cell_type": "markdown",
   "metadata": {},
   "source": [
    "The first term is the real loss and the second is the fake loss in Keras.\n"
   ]
  },
  {
   "cell_type": "code",
   "execution_count": 68,
   "metadata": {
    "tags": []
   },
   "outputs": [],
   "source": [
    "def discriminator_loss(X, Xhat):\n",
    "    real_loss = cross_entropy(tf.ones_like(X), X)\n",
    "    fake_loss = cross_entropy(tf.zeros_like(Xhat), Xhat)\n",
    "    total_loss = 0.5*(real_loss + fake_loss)\n",
    "    return total_loss"
   ]
  },
  {
   "cell_type": "markdown",
   "metadata": {},
   "source": [
    "We create the optimizer for the discriminator and generator:\n"
   ]
  },
  {
   "cell_type": "code",
   "execution_count": 71,
   "metadata": {
    "tags": []
   },
   "outputs": [],
   "source": [
    "generator_optimizer = tf.keras.optimizers.Adam(5e-1,beta_1=0.5,beta_2=0.8)\n",
    "\n",
    "discriminator_optimizer = tf.keras.optimizers.Adam(5e-1,beta_1=0.5, beta_2=0.8)"
   ]
  },
  {
   "cell_type": "markdown",
   "metadata": {},
   "source": [
    "We now train the model; as the dataset is small, we will use batch gradient descent. \n",
    "\n",
    "For each iteration we will generate $M$ real examples $\\{\\mathbf{x}_{1}, ...,\\mathbf{x}_{M}\\}$, these are from the generating distribution $p(\\mathbf{x})$. This would be our actual dataset if we used real data.  \n",
    "\n",
    "We will then generate a sample batch of $M$ noise samples $\\{\\mathbf{z}_{1}, ...,\\mathbf{z}_{M}\\}$ from noise prior $p(\\mathbf{z})$ and convert the result to a generated image using the generator $\\{\\hat{\\mathbf{x}}_{1}, ...,\\hat{\\mathbf{x}}_{M}\\}$. \n",
    "\n",
    "We determine the output of the discriminator for both the real and generated samples. We calculate the loss and then update the discriminator and generator through their respective stochastic gradients.\n"
   ]
  },
  {
   "cell_type": "markdown",
   "metadata": {},
   "source": [
    "The convergence of GAN training is a subject in itself. But let's explore a method that works for this simple dataset. Intuitively, we know that if our generated data is identical to our actual data, the probability of correctly classifying is random. Therefore if the generated and actual data are of equal proportion, $D(\\mathbf{x}_n)=0.5$ and $D(\\hat{\\mathbf{x}}_n)=0.5$.  \n",
    "\n",
    "We only display iterations where the average discriminator output gets closer to 50% for both the generated data and actual data.\n"
   ]
  },
  {
   "cell_type": "code",
   "execution_count": 75,
   "metadata": {
    "tags": []
   },
   "outputs": [
    {
     "data": {
      "image/png": "[encoded data removed]",
      "text/plain": [
       "<Figure size 640x480 with 1 Axes>"
      ]
     },
     "metadata": {},
     "output_type": "display_data"
    },
    {
     "name": "stdout",
     "output_type": "stream",
     "text": [
      "epoch 0\n"
     ]
    },
    {
     "name": "stderr",
     "output_type": "stream",
     "text": [
      "  0%|                                                                                           | 0/20 [00:00<?, ?it/s]\n"
     ]
    },
    {
     "ename": "ValueError",
     "evalue": "Invalid filepath extension for saving. Please add either a `.keras` extension for the native Keras format (recommended) or a `.h5` extension. Use `model.export(filepath)` if you want to export a SavedModel for use with TFLite/TFServing/etc. Received: filepath=generator.",
     "output_type": "error",
     "traceback": [
      "\u001b[1;31m---------------------------------------------------------------------------\u001b[0m",
      "\u001b[1;31mValueError\u001b[0m                                Traceback (most recent call last)",
      "Cell \u001b[1;32mIn[75], line 49\u001b[0m\n\u001b[0;32m     47\u001b[0m \u001b[38;5;28;01mif\u001b[39;00m \u001b[38;5;28mabs\u001b[39m(\u001b[38;5;241m0.5\u001b[39m\u001b[38;5;241m-\u001b[39mget_accuracy(x,xhat))\u001b[38;5;241m<\u001b[39mepsilon:\n\u001b[0;32m     48\u001b[0m     epsilon\u001b[38;5;241m=\u001b[39m\u001b[38;5;28mabs\u001b[39m(\u001b[38;5;241m0.5\u001b[39m\u001b[38;5;241m-\u001b[39mget_accuracy(x,xhat))\n\u001b[1;32m---> 49\u001b[0m     generator\u001b[38;5;241m.\u001b[39msave(\u001b[38;5;124m'\u001b[39m\u001b[38;5;124mgenerator\u001b[39m\u001b[38;5;124m'\u001b[39m)\n\u001b[0;32m     50\u001b[0m     discriminator\u001b[38;5;241m.\u001b[39msave(\u001b[38;5;124m'\u001b[39m\u001b[38;5;124mdiscriminator\u001b[39m\u001b[38;5;124m'\u001b[39m)\n\u001b[0;32m     51\u001b[0m     \u001b[38;5;28mprint\u001b[39m(get_accuracy(x,xhat))\n",
      "File \u001b[1;32m~\\anaconda3\\Lib\\site-packages\\keras\\src\\utils\\traceback_utils.py:122\u001b[0m, in \u001b[0;36mfilter_traceback.<locals>.error_handler\u001b[1;34m(*args, **kwargs)\u001b[0m\n\u001b[0;32m    119\u001b[0m     filtered_tb \u001b[38;5;241m=\u001b[39m _process_traceback_frames(e\u001b[38;5;241m.\u001b[39m__traceback__)\n\u001b[0;32m    120\u001b[0m     \u001b[38;5;66;03m# To get the full stack trace, call:\u001b[39;00m\n\u001b[0;32m    121\u001b[0m     \u001b[38;5;66;03m# `keras.config.disable_traceback_filtering()`\u001b[39;00m\n\u001b[1;32m--> 122\u001b[0m     \u001b[38;5;28;01mraise\u001b[39;00m e\u001b[38;5;241m.\u001b[39mwith_traceback(filtered_tb) \u001b[38;5;28;01mfrom\u001b[39;00m \u001b[38;5;28;01mNone\u001b[39;00m\n\u001b[0;32m    123\u001b[0m \u001b[38;5;28;01mfinally\u001b[39;00m:\n\u001b[0;32m    124\u001b[0m     \u001b[38;5;28;01mdel\u001b[39;00m filtered_tb\n",
      "File \u001b[1;32m~\\anaconda3\\Lib\\site-packages\\keras\\src\\saving\\saving_api.py:114\u001b[0m, in \u001b[0;36msave_model\u001b[1;34m(model, filepath, overwrite, zipped, **kwargs)\u001b[0m\n\u001b[0;32m    110\u001b[0m \u001b[38;5;28;01mif\u001b[39;00m \u001b[38;5;28mstr\u001b[39m(filepath)\u001b[38;5;241m.\u001b[39mendswith((\u001b[38;5;124m\"\u001b[39m\u001b[38;5;124m.h5\u001b[39m\u001b[38;5;124m\"\u001b[39m, \u001b[38;5;124m\"\u001b[39m\u001b[38;5;124m.hdf5\u001b[39m\u001b[38;5;124m\"\u001b[39m)):\n\u001b[0;32m    111\u001b[0m     \u001b[38;5;28;01mreturn\u001b[39;00m legacy_h5_format\u001b[38;5;241m.\u001b[39msave_model_to_hdf5(\n\u001b[0;32m    112\u001b[0m         model, filepath, overwrite, include_optimizer\n\u001b[0;32m    113\u001b[0m     )\n\u001b[1;32m--> 114\u001b[0m \u001b[38;5;28;01mraise\u001b[39;00m \u001b[38;5;167;01mValueError\u001b[39;00m(\n\u001b[0;32m    115\u001b[0m     \u001b[38;5;124m\"\u001b[39m\u001b[38;5;124mInvalid filepath extension for saving. \u001b[39m\u001b[38;5;124m\"\u001b[39m\n\u001b[0;32m    116\u001b[0m     \u001b[38;5;124m\"\u001b[39m\u001b[38;5;124mPlease add either a `.keras` extension for the native Keras \u001b[39m\u001b[38;5;124m\"\u001b[39m\n\u001b[0;32m    117\u001b[0m     \u001b[38;5;124mf\u001b[39m\u001b[38;5;124m\"\u001b[39m\u001b[38;5;124mformat (recommended) or a `.h5` extension. \u001b[39m\u001b[38;5;124m\"\u001b[39m\n\u001b[0;32m    118\u001b[0m     \u001b[38;5;124m\"\u001b[39m\u001b[38;5;124mUse `model.export(filepath)` if you want to export a SavedModel \u001b[39m\u001b[38;5;124m\"\u001b[39m\n\u001b[0;32m    119\u001b[0m     \u001b[38;5;124m\"\u001b[39m\u001b[38;5;124mfor use with TFLite/TFServing/etc. \u001b[39m\u001b[38;5;124m\"\u001b[39m\n\u001b[0;32m    120\u001b[0m     \u001b[38;5;124mf\u001b[39m\u001b[38;5;124m\"\u001b[39m\u001b[38;5;124mReceived: filepath=\u001b[39m\u001b[38;5;132;01m{\u001b[39;00mfilepath\u001b[38;5;132;01m}\u001b[39;00m\u001b[38;5;124m.\u001b[39m\u001b[38;5;124m\"\u001b[39m\n\u001b[0;32m    121\u001b[0m )\n",
      "\u001b[1;31mValueError\u001b[0m: Invalid filepath extension for saving. Please add either a `.keras` extension for the native Keras format (recommended) or a `.h5` extension. Use `model.export(filepath)` if you want to export a SavedModel for use with TFLite/TFServing/etc. Received: filepath=generator."
     ]
    }
   ],
   "source": [
    "#parameters for training \n",
    "epochs=20\n",
    "BATCH_SIZE=5000\n",
    "noise_dim=1\n",
    "epsilon=100 \n",
    "\n",
    "\n",
    "#discrimator and gernerator \n",
    "tf.random.set_seed(0)\n",
    "discriminator=make_discriminator_model()\n",
    "generator=make_generator_model()\n",
    "\n",
    "tf.config.run_functions_eagerly(True)\n",
    "\n",
    "\n",
    "\n",
    "gen_loss_epoch=[]\n",
    "disc_loss_epoch=[]\n",
    "plot_distribution(real_data=X,generated_data=Xhat,discriminator=discriminator )\n",
    "print(\"epoch\",0)\n",
    "\n",
    "for epoch in tqdm(range(epochs)):\n",
    "    #data for the true distribution of your real data samples training ste\n",
    "    x = tf.random.normal((BATCH_SIZE,1),mean=10,stddev=1.0)\n",
    "    #random samples it was found if you increase the standard deviation, you get better results \n",
    "    z= tf.random.normal([BATCH_SIZE, noise_dim],mean=0,stddev=10)\n",
    "    # needed to compute the gradients for a list of variables.\n",
    "    with tf.GradientTape() as gen_tape, tf.GradientTape() as disc_tape:\n",
    "        #generated sample \n",
    "        xhat = generator(z, training=True)\n",
    "        #the output of the discriminator for real data \n",
    "        real_output = discriminator(x, training=True)\n",
    "        #the output of the discriminator  data\n",
    "        fake_output = discriminator(xhat, training=True)\n",
    "        #loss for each \n",
    "        gen_loss= generator_loss(fake_output)\n",
    "        disc_loss = discriminator_loss(real_output, fake_output)\n",
    "    # Compute the gradients for gen_loss and generator\n",
    "    gradients_of_generator = gen_tape.gradient(gen_loss, generator.trainable_variables)\n",
    "    # Compute the gradients for gen_loss and discriminator\n",
    "    gradients_of_discriminator = disc_tape.gradient(disc_loss, discriminator.trainable_variables)\n",
    "    # Ask the optimizer to apply the processed gradients\n",
    "    generator_optimizer.apply_gradients(zip(gradients_of_generator, generator.trainable_variables))\n",
    "    discriminator_optimizer.apply_gradients(zip(gradients_of_discriminator, discriminator.trainable_variables))\n",
    "  \n",
    "  # Save and display the generator and discriminator if the performance increases \n",
    "    if abs(0.5-get_accuracy(x,xhat))<epsilon:\n",
    "        epsilon=abs(0.5-get_accuracy(x,xhat))\n",
    "        generator.save('generator')\n",
    "        discriminator.save('discriminator')\n",
    "        print(get_accuracy(x,xhat))\n",
    "        plot_distribution(real_data=X,generated_data=xhat,discriminator=discriminator )\n",
    "        print(\"epoch\",epoch)"
   ]
  },
  {
   "cell_type": "markdown",
   "metadata": {},
   "source": [
    "For more on training GANs check out the following <a href=\"https://jonathan-hui.medium.com/gan-why-it-is-so-hard-to-train-generative-advisory-networks-819a86b3750b?utm_medium=Exinfluencer&utm_source=Exinfluencer&utm_content=000026UJ&utm_term=10006555&utm_id=NA-SkillsNetwork-Channel-SkillsNetworkGuidedProjectsIBMGPXX0XCEEN72-2022-01-01\">blog</a>. We can display the best performing model\n"
   ]
  },
  {
   "cell_type": "code",
   "execution_count": 79,
   "metadata": {
    "tags": []
   },
   "outputs": [
    {
     "ename": "ValueError",
     "evalue": "File format not supported: filepath=generator. Keras 3 only supports V3 `.keras` files and legacy H5 format files (`.h5` extension). Note that the legacy SavedModel format is not supported by `load_model()` in Keras 3. In order to reload a TensorFlow SavedModel as an inference-only layer in Keras 3, use `keras.layers.TFSMLayer(generator, call_endpoint='serving_default')` (note that your `call_endpoint` might have a different name).",
     "output_type": "error",
     "traceback": [
      "\u001b[1;31m---------------------------------------------------------------------------\u001b[0m",
      "\u001b[1;31mValueError\u001b[0m                                Traceback (most recent call last)",
      "Cell \u001b[1;32mIn[79], line 2\u001b[0m\n\u001b[0;32m      1\u001b[0m generator\u001b[38;5;241m=\u001b[39mmake_generator_model()\n\u001b[1;32m----> 2\u001b[0m generator\u001b[38;5;241m=\u001b[39m models\u001b[38;5;241m.\u001b[39mload_model(\u001b[38;5;124m'\u001b[39m\u001b[38;5;124mgenerator\u001b[39m\u001b[38;5;124m'\u001b[39m)\n\u001b[0;32m      3\u001b[0m xhat\u001b[38;5;241m=\u001b[39mgenerator(z)\n\u001b[0;32m      4\u001b[0m discriminator\u001b[38;5;241m=\u001b[39mmodels\u001b[38;5;241m.\u001b[39mload_model(\u001b[38;5;124m'\u001b[39m\u001b[38;5;124mdiscriminator\u001b[39m\u001b[38;5;124m'\u001b[39m)\n",
      "File \u001b[1;32m~\\anaconda3\\Lib\\site-packages\\keras\\src\\saving\\saving_api.py:206\u001b[0m, in \u001b[0;36mload_model\u001b[1;34m(filepath, custom_objects, compile, safe_mode)\u001b[0m\n\u001b[0;32m    200\u001b[0m     \u001b[38;5;28;01mraise\u001b[39;00m \u001b[38;5;167;01mValueError\u001b[39;00m(\n\u001b[0;32m    201\u001b[0m         \u001b[38;5;124mf\u001b[39m\u001b[38;5;124m\"\u001b[39m\u001b[38;5;124mFile not found: filepath=\u001b[39m\u001b[38;5;132;01m{\u001b[39;00mfilepath\u001b[38;5;132;01m}\u001b[39;00m\u001b[38;5;124m. \u001b[39m\u001b[38;5;124m\"\u001b[39m\n\u001b[0;32m    202\u001b[0m         \u001b[38;5;124m\"\u001b[39m\u001b[38;5;124mPlease ensure the file is an accessible `.keras` \u001b[39m\u001b[38;5;124m\"\u001b[39m\n\u001b[0;32m    203\u001b[0m         \u001b[38;5;124m\"\u001b[39m\u001b[38;5;124mzip file.\u001b[39m\u001b[38;5;124m\"\u001b[39m\n\u001b[0;32m    204\u001b[0m     )\n\u001b[0;32m    205\u001b[0m \u001b[38;5;28;01melse\u001b[39;00m:\n\u001b[1;32m--> 206\u001b[0m     \u001b[38;5;28;01mraise\u001b[39;00m \u001b[38;5;167;01mValueError\u001b[39;00m(\n\u001b[0;32m    207\u001b[0m         \u001b[38;5;124mf\u001b[39m\u001b[38;5;124m\"\u001b[39m\u001b[38;5;124mFile format not supported: filepath=\u001b[39m\u001b[38;5;132;01m{\u001b[39;00mfilepath\u001b[38;5;132;01m}\u001b[39;00m\u001b[38;5;124m. \u001b[39m\u001b[38;5;124m\"\u001b[39m\n\u001b[0;32m    208\u001b[0m         \u001b[38;5;124m\"\u001b[39m\u001b[38;5;124mKeras 3 only supports V3 `.keras` files and \u001b[39m\u001b[38;5;124m\"\u001b[39m\n\u001b[0;32m    209\u001b[0m         \u001b[38;5;124m\"\u001b[39m\u001b[38;5;124mlegacy H5 format files (`.h5` extension). \u001b[39m\u001b[38;5;124m\"\u001b[39m\n\u001b[0;32m    210\u001b[0m         \u001b[38;5;124m\"\u001b[39m\u001b[38;5;124mNote that the legacy SavedModel format is not \u001b[39m\u001b[38;5;124m\"\u001b[39m\n\u001b[0;32m    211\u001b[0m         \u001b[38;5;124m\"\u001b[39m\u001b[38;5;124msupported by `load_model()` in Keras 3. In \u001b[39m\u001b[38;5;124m\"\u001b[39m\n\u001b[0;32m    212\u001b[0m         \u001b[38;5;124m\"\u001b[39m\u001b[38;5;124morder to reload a TensorFlow SavedModel as an \u001b[39m\u001b[38;5;124m\"\u001b[39m\n\u001b[0;32m    213\u001b[0m         \u001b[38;5;124m\"\u001b[39m\u001b[38;5;124minference-only layer in Keras 3, use \u001b[39m\u001b[38;5;124m\"\u001b[39m\n\u001b[0;32m    214\u001b[0m         \u001b[38;5;124m\"\u001b[39m\u001b[38;5;124m`keras.layers.TFSMLayer(\u001b[39m\u001b[38;5;124m\"\u001b[39m\n\u001b[0;32m    215\u001b[0m         \u001b[38;5;124mf\u001b[39m\u001b[38;5;124m\"\u001b[39m\u001b[38;5;132;01m{\u001b[39;00mfilepath\u001b[38;5;132;01m}\u001b[39;00m\u001b[38;5;124m, call_endpoint=\u001b[39m\u001b[38;5;124m'\u001b[39m\u001b[38;5;124mserving_default\u001b[39m\u001b[38;5;124m'\u001b[39m\u001b[38;5;124m)` \u001b[39m\u001b[38;5;124m\"\u001b[39m\n\u001b[0;32m    216\u001b[0m         \u001b[38;5;124m\"\u001b[39m\u001b[38;5;124m(note that your `call_endpoint` \u001b[39m\u001b[38;5;124m\"\u001b[39m\n\u001b[0;32m    217\u001b[0m         \u001b[38;5;124m\"\u001b[39m\u001b[38;5;124mmight have a different name).\u001b[39m\u001b[38;5;124m\"\u001b[39m\n\u001b[0;32m    218\u001b[0m     )\n",
      "\u001b[1;31mValueError\u001b[0m: File format not supported: filepath=generator. Keras 3 only supports V3 `.keras` files and legacy H5 format files (`.h5` extension). Note that the legacy SavedModel format is not supported by `load_model()` in Keras 3. In order to reload a TensorFlow SavedModel as an inference-only layer in Keras 3, use `keras.layers.TFSMLayer(generator, call_endpoint='serving_default')` (note that your `call_endpoint` might have a different name)."
     ]
    }
   ],
   "source": [
    "generator=make_generator_model()\n",
    "generator= models.load_model('generator')\n",
    "xhat=generator(z)\n",
    "discriminator=models.load_model('discriminator')\n",
    "plot_distribution(real_data=X,generated_data=xhat,discriminator=discriminator )"
   ]
  },
  {
   "cell_type": "markdown",
   "metadata": {},
   "source": [
    "----\n"
   ]
  },
  {
   "cell_type": "markdown",
   "metadata": {},
   "source": [
    "In the content above, you learned about the working mechanics of Generative Adversarial Networks (GANs) and their various applications, such as Image Generation. However, GANs have also been known to be unstable to train, and often, the generated images suffer from being noisy and incomprehensible.\n",
    "\n",
    "For a improved result in the case example, we are applying Convolutional Neural Networks to GANS. They are called Deep Convolutional Generative Adversarial Networks (DCGANs). \n",
    "We will build and train DCGANs in the following content, using several approaches introduced in the original <a href=\"https://cf-courses-data.s3.us.cloud-object-storage.appdomain.cloud/IBM-GPXX0XCEEN/papers/1511.06434.pdf\">DCGANs paper</a>. \n",
    "\n"
   ]
  },
  {
   "cell_type": "markdown",
   "metadata": {},
   "source": [
    "----\n"
   ]
  },
  {
   "cell_type": "markdown",
   "metadata": {},
   "source": [
    "## Deep Convolutional Generative Adversarial Networks (DCGANs)\n"
   ]
  },
  {
   "cell_type": "markdown",
   "metadata": {},
   "source": [
    "### Case background\n"
   ]
  },
  {
   "cell_type": "markdown",
   "metadata": {},
   "source": [
    "In the case example, you work for an online anime video game company; the company would like to create a unique anime avatar for a game for each player. As there are millions of players, you must use a DCGANs to create each character.\n",
    "\n",
    "The proposed approaches are summarized here:\n",
    "\n",
    "- Replace any pooling layers with **strided convolutions (discriminator)** and **fractional-strided\n",
    "convolutions (generator)**.\n",
    "- Use **batchnorm** in both the generator and the discriminator.\n",
    "- **Remove fully connected hidden layers** for deeper architectures.\n",
    "- Use **ReLU** activation in generator for all layers except for the output, which uses **Tanh**.\n",
    "- Use **LeakyReLU** activation in the discriminator for all layers except for the output, which uses **Sigmoid**.\n",
    "- Use **Adam optimizer**.  \n",
    "\n",
    "These approaches will result in more stable training of deeper generative models.\n"
   ]
  },
  {
   "cell_type": "markdown",
   "metadata": {},
   "source": [
    "### Loading the Dataset\n",
    "\n",
    "We will mainly work with the Anime Face dataset from [Kaggle](https://www.kaggle.com/datasets/splcher/animefacedataset?utm_medium=Exinfluencer&utm_source=Exinfluencer&utm_content=000026UJ&utm_term=10006555&utm_id=NA-SkillsNetwork-Channel-SkillsNetworkGuidedProjectsIBMGPXX0XCEEN72-2022-01-01). The original dataset has 63,632 \"high-quality\" anime faces, but to make the models train faster in this lab, we randomly sampled 20,000 images and prepared a dataset called `cartoon_20000`. \n",
    "\n",
    "Let's download the smaller dataset using the Skills Network library's `prepare` function:\n"
   ]
  },
  {
   "cell_type": "code",
   "execution_count": 81,
   "metadata": {
    "tags": []
   },
   "outputs": [
    {
     "ename": "FileNotFoundError",
     "evalue": "[Errno 2] No such file or directory: '\\\\tmp\\\\skills-network--2457126780981692020-cartoon_20000.zip'",
     "output_type": "error",
     "traceback": [
      "\u001b[1;31m---------------------------------------------------------------------------\u001b[0m",
      "\u001b[1;31mFileNotFoundError\u001b[0m                         Traceback (most recent call last)",
      "Cell \u001b[1;32mIn[81], line 2\u001b[0m\n\u001b[0;32m      1\u001b[0m dataset_url\u001b[38;5;241m=\u001b[39m\u001b[38;5;124m\"\u001b[39m\u001b[38;5;124mhttps://cf-courses-data.s3.us.cloud-object-storage.appdomain.cloud/IBMDeveloperSkillsNetwork-ML311-Coursera/labs/Module6/cartoon_20000.zip\u001b[39m\u001b[38;5;124m\"\u001b[39m\n\u001b[1;32m----> 2\u001b[0m \u001b[38;5;28;01mawait\u001b[39;00m skillsnetwork\u001b[38;5;241m.\u001b[39mprepare(dataset_url, overwrite\u001b[38;5;241m=\u001b[39m\u001b[38;5;28;01mTrue\u001b[39;00m)\n",
      "File \u001b[1;32m~\\anaconda3\\Lib\\site-packages\\skillsnetwork\\core.py:249\u001b[0m, in \u001b[0;36mprepare\u001b[1;34m(url, path, verbose, overwrite)\u001b[0m\n\u001b[0;32m    246\u001b[0m tmp_download_file \u001b[38;5;241m=\u001b[39m Path(\u001b[38;5;124mf\u001b[39m\u001b[38;5;124m\"\u001b[39m\u001b[38;5;124m/tmp/\u001b[39m\u001b[38;5;132;01m{\u001b[39;00mdname\u001b[38;5;132;01m}\u001b[39;00m\u001b[38;5;124m-\u001b[39m\u001b[38;5;132;01m{\u001b[39;00mfilename\u001b[38;5;132;01m}\u001b[39;00m\u001b[38;5;124m\"\u001b[39m)\n\u001b[0;32m    247\u001b[0m \u001b[38;5;66;03m# Download the dataset to tmp_download_file file\u001b[39;00m\n\u001b[0;32m    248\u001b[0m \u001b[38;5;66;03m# File will be overwritten if it already exists\u001b[39;00m\n\u001b[1;32m--> 249\u001b[0m \u001b[38;5;28;01mawait\u001b[39;00m download(url, tmp_download_file, verbose\u001b[38;5;241m=\u001b[39m\u001b[38;5;28;01mFalse\u001b[39;00m)\n\u001b[0;32m    251\u001b[0m \u001b[38;5;66;03m# Delete extract_dir directory if it already exists\u001b[39;00m\n\u001b[0;32m    252\u001b[0m \u001b[38;5;28;01mif\u001b[39;00m \u001b[38;5;129;01mnot\u001b[39;00m _is_jupyterlite():\n",
      "File \u001b[1;32m~\\anaconda3\\Lib\\site-packages\\skillsnetwork\\core.py:186\u001b[0m, in \u001b[0;36mdownload\u001b[1;34m(url, path, verbose, chunk_size)\u001b[0m\n\u001b[0;32m    184\u001b[0m     \u001b[38;5;28;01mif\u001b[39;00m path\u001b[38;5;241m.\u001b[39mis_dir():\n\u001b[0;32m    185\u001b[0m         path \u001b[38;5;241m/\u001b[39m\u001b[38;5;241m=\u001b[39m filename\n\u001b[1;32m--> 186\u001b[0m \u001b[38;5;28;01mwith\u001b[39;00m \u001b[38;5;28mopen\u001b[39m(path, \u001b[38;5;124m\"\u001b[39m\u001b[38;5;124mwb\u001b[39m\u001b[38;5;124m\"\u001b[39m) \u001b[38;5;28;01mas\u001b[39;00m f:  \u001b[38;5;66;03m# Will raise FileNotFoundError if invalid path\u001b[39;00m\n\u001b[0;32m    187\u001b[0m     \u001b[38;5;28;01masync\u001b[39;00m \u001b[38;5;28;01mfor\u001b[39;00m chunk \u001b[38;5;129;01min\u001b[39;00m _get_chunks(url, chunk_size):\n\u001b[0;32m    188\u001b[0m         f\u001b[38;5;241m.\u001b[39mwrite(chunk)\n",
      "\u001b[1;31mFileNotFoundError\u001b[0m: [Errno 2] No such file or directory: '\\\\tmp\\\\skills-network--2457126780981692020-cartoon_20000.zip'"
     ]
    }
   ],
   "source": [
    "dataset_url=\"https://cf-courses-data.s3.us.cloud-object-storage.appdomain.cloud/IBMDeveloperSkillsNetwork-ML311-Coursera/labs/Module6/cartoon_20000.zip\"\n",
    "await skillsnetwork.prepare(dataset_url, overwrite=True)"
   ]
  },
  {
   "cell_type": "markdown",
   "metadata": {},
   "source": [
    "The Anime Face or the Cartoon images are stored in the `cartoon_2000` folder in your current working directory. As a preprocessing step, we have removed any files that are not proper image formats (based on the file extensions) and any duplicate images.\n"
   ]
  },
  {
   "cell_type": "markdown",
   "metadata": {},
   "source": [
    "### Creating Data Generator\n"
   ]
  },
  {
   "cell_type": "markdown",
   "metadata": {},
   "source": [
    "First, we declare some properties of our images, including image height, image width, and batch size.\n"
   ]
  },
  {
   "cell_type": "code",
   "execution_count": null,
   "metadata": {
    "tags": []
   },
   "outputs": [],
   "source": [
    "img_height, img_width, batch_size=64,64,128"
   ]
  },
  {
   "cell_type": "markdown",
   "metadata": {},
   "source": [
    "Next, we create a Keras <code>image_dataset_from_directory</code> object with a specified image directory and the parameters are defined as above. This process may take some time:\n"
   ]
  },
  {
   "cell_type": "code",
   "execution_count": null,
   "metadata": {
    "tags": []
   },
   "outputs": [],
   "source": [
    "train_ds = tf.keras.utils.image_dataset_from_directory(directory='cartoon_20000',\n",
    "                                                       image_size=(img_height, img_width),\n",
    "                                                       batch_size=batch_size,\n",
    "                                                       label_mode=None)"
   ]
  },
  {
   "cell_type": "markdown",
   "metadata": {},
   "source": [
    "The `train_ds` we defined is a `tf.data.Dataset` that yields batches of images with `image_size = (64, 64)` from the directory specified or subdirectories (if any).\n"
   ]
  },
  {
   "cell_type": "markdown",
   "metadata": {},
   "source": [
    "**(OPTIONAL)** If you are running this notebook locally and you have multiple cores, then we can use the runtime to tune the value dynamically at runtime as follows:\n"
   ]
  },
  {
   "cell_type": "code",
   "execution_count": null,
   "metadata": {
    "tags": []
   },
   "outputs": [],
   "source": [
    "#AUTOTUNE = tf.data.experimental.AUTOTUNE\n",
    "\n",
    "#train_ds = train_ds.cache().shuffle(1000).prefetch(buffer_size=AUTOTUNE)"
   ]
  },
  {
   "cell_type": "markdown",
   "metadata": {},
   "source": [
    "We apply the Lambda function on `train_ds` to normalize the pixel values of all the input images from $[0, 255]$ to $[-1, 1]$:\n"
   ]
  },
  {
   "cell_type": "code",
   "execution_count": null,
   "metadata": {
    "tags": []
   },
   "outputs": [],
   "source": [
    "normalization_layer = layers.experimental.preprocessing.Rescaling(scale= 1./127.5, offset=-1)\n",
    "normalized_ds = train_ds.map(lambda x: normalization_layer(x))"
   ]
  },
  {
   "cell_type": "markdown",
   "metadata": {},
   "source": [
    "Let's take one batch of images for displaying:\n"
   ]
  },
  {
   "cell_type": "code",
   "execution_count": null,
   "metadata": {
    "tags": []
   },
   "outputs": [],
   "source": [
    "images=train_ds.take(1)"
   ]
  },
  {
   "cell_type": "markdown",
   "metadata": {},
   "source": [
    "Convert the batch dimension to the indexes in a list:\n"
   ]
  },
  {
   "cell_type": "code",
   "execution_count": null,
   "metadata": {
    "tags": []
   },
   "outputs": [],
   "source": [
    "X=[x for x in images]"
   ]
  },
  {
   "cell_type": "markdown",
   "metadata": {},
   "source": [
    "We can then plot the first five images in the batch using the function   ```plot_array```:\n"
   ]
  },
  {
   "cell_type": "code",
   "execution_count": null,
   "metadata": {
    "tags": []
   },
   "outputs": [],
   "source": [
    "plot_array(X[0])"
   ]
  },
  {
   "cell_type": "markdown",
   "metadata": {},
   "source": [
    "###  Generator and Discriminator (for DCGANs)\n"
   ]
  },
  {
   "cell_type": "markdown",
   "metadata": {},
   "source": [
    "___Building the Generator___\n"
   ]
  },
  {
   "cell_type": "markdown",
   "metadata": {},
   "source": [
    "The Generator is comprised of several layers of transposed convolution, the opposite of convolution operations.\n",
    "\n",
    "- Each Conv2DTranspose layer (except the final layer) is followed by a Batch Normalization layer and a **Relu activation**; for more implementation details, check out <a href=\"https://cf-courses-data.s3.us.cloud-object-storage.appdomain.cloud/IBM-GPXX0XCEEN/papers/1511.06434.pdf\">[2]</a>. \n",
    "- The final transpose convolution layer has three output channels since the output needs to be a color image. We use the **Tanh activation** in the final layer. \n",
    "\n",
    "See the illustration of the architecture from <a href=\"https://cf-courses-data.s3.us.cloud-object-storage.appdomain.cloud/IBM-GPXX0XCEEN/papers/1511.06434.pdf\">[2]</a> below.\n",
    "\n",
    "<center><img src=\"https://cf-courses-data.s3.us.cloud-object-storage.appdomain.cloud/IBM-GPXX0XCEEN/images/generator.png\" alt=\"generator image\" width=\"80%\"></center>\n",
    "\n",
    "\n",
    "We build the Generator network by using the parameter values from <a href=\"https://learnopencv.com/deep-convolutional-gan-in-pytorch-and-tensorflow/?utm_medium=Exinfluencer&utm_source=Exinfluencer&utm_content=000026UJ&utm_term=10006555&utm_id=NA-SkillsNetwork-Channel-SkillsNetworkGuidedProjectsIBMGPXX0XCEEN72-2022-01-01\" >[3]<a>.\n"
   ]
  },
  {
   "cell_type": "code",
   "execution_count": null,
   "metadata": {
    "tags": []
   },
   "outputs": [],
   "source": [
    "def make_generator():\n",
    "    \n",
    "    model=Sequential()\n",
    "    \n",
    "    # input is latent vector of 100 dimensions\n",
    "    model.add(Input(shape=(1, 1, 100), name='input_layer'))\n",
    "    \n",
    "    # Block 1 dimensionality of the output space  64 * 8\n",
    "    model.add(Conv2DTranspose(64 * 8, kernel_size=4, strides= 4, padding='same', kernel_initializer=tf.keras.initializers.RandomNormal(mean=0.0, stddev=0.02), use_bias=False, name='conv_transpose_1'))\n",
    "    model.add(BatchNormalization(momentum=0.1,  epsilon=0.8, center=1.0, scale=0.02, name='bn_1'))\n",
    "    model.add(ReLU(name='relu_1'))\n",
    "\n",
    "    # Block 2: input is 4 x 4 x (64 * 8)\n",
    "    model.add(Conv2DTranspose(64 * 4, kernel_size=4, strides= 2, padding='same', kernel_initializer=tf.keras.initializers.RandomNormal(mean=0.0, stddev=0.02), use_bias=False, name='conv_transpose_2'))\n",
    "    model.add(BatchNormalization(momentum=0.1,  epsilon=0.8, center=1.0, scale=0.02, name='bn_2'))\n",
    "    model.add(ReLU(name='relu_2'))\n",
    "\n",
    "    # Block 3: input is 8 x 8 x (64 * 4)\n",
    "    model.add(Conv2DTranspose(64 * 2, kernel_size=4,strides=  2, padding='same', kernel_initializer=tf.keras.initializers.RandomNormal(mean=0.0, stddev=0.02), use_bias=False, name='conv_transpose_3'))\n",
    "    model.add(BatchNormalization(momentum=0.1,  epsilon=0.8,  center=1.0, scale=0.02, name='bn_3'))\n",
    "    model.add(ReLU(name='relu_3'))\n",
    "\n",
    "                       \n",
    "    # Block 4: input is 16 x 16 x (64 * 2)\n",
    "    model.add(Conv2DTranspose(64 * 1, kernel_size=4, strides= 2, padding='same', kernel_initializer=tf.keras.initializers.RandomNormal(mean=0.0, stddev=0.02), use_bias=False, name='conv_transpose_4'))\n",
    "    model.add(BatchNormalization(momentum=0.1,  epsilon=0.8,  center=1.0, scale=0.02, name='bn_4'))\n",
    "    model.add(ReLU(name='relu_4'))\n",
    "\n",
    "    model.add(Conv2DTranspose(3, 4, 2,padding='same', kernel_initializer=tf.keras.initializers.RandomNormal(mean=0.0, stddev=0.02), use_bias=False, \n",
    "                              activation='tanh', name='conv_transpose_5'))\n",
    "\n",
    "    return model"
   ]
  },
  {
   "cell_type": "markdown",
   "metadata": {},
   "source": [
    "By printing the summary of the Generator architecture, we can see that the transposed convolutions **upsample** a 100-dim input vector to a high-dimensional image of size 64 x 64 x 3.\n"
   ]
  },
  {
   "cell_type": "code",
   "execution_count": null,
   "metadata": {
    "tags": []
   },
   "outputs": [],
   "source": [
    "gen = make_generator()\n",
    "gen.summary()"
   ]
  },
  {
   "cell_type": "markdown",
   "metadata": {},
   "source": [
    "___Building the Discriminator___\n"
   ]
  },
  {
   "cell_type": "markdown",
   "metadata": {},
   "source": [
    "The Discriminator has five convolution layers. \n",
    "\n",
    "- All but the first and final Conv2D layers have Batch Normalization, since directly applying batchnorm to all layers could result in sample oscillation and model instability; \n",
    "- The first four Conv2D layers use the **Leaky-Relu activation** with a slope of 0.2. \n",
    "- Lastly, instead of a fully connected layer, the  output layer has a convolution layer with a **Sigmoid activation** function.\n"
   ]
  },
  {
   "cell_type": "code",
   "execution_count": null,
   "metadata": {
    "tags": []
   },
   "outputs": [],
   "source": [
    "def make_discriminator():\n",
    "    \n",
    "    model=Sequential()\n",
    "    \n",
    "    # Block 1: input is 64 x 64 x (3)\n",
    "    model.add(Input(shape=(64, 64, 3), name='input_layer'))\n",
    "    model.add(Conv2D(64, kernel_size=4, strides= 2, padding='same', kernel_initializer=tf.keras.initializers.RandomNormal(mean=0.0, stddev=0.02), use_bias=False, name='conv_1'))\n",
    "    model.add(LeakyReLU(0.2, name='leaky_relu_1'))\n",
    "\n",
    "    # Block 2: input is 32 x 32 x (64)\n",
    "    model.add(Conv2D(64 * 2, kernel_size=4, strides= 2, padding='same', kernel_initializer=tf.keras.initializers.RandomNormal(mean=0.0, stddev=0.02), use_bias=False, name='conv_2'))\n",
    "    model.add(BatchNormalization(momentum=0.1,  epsilon=0.8, center=1.0, scale=0.02, name='bn_1'))\n",
    "    model.add(LeakyReLU(0.2, name='leaky_relu_2'))\n",
    "\n",
    "    # Block 3\n",
    "    model.add(Conv2D(64 * 4, 4, 2, padding='same', kernel_initializer=tf.keras.initializers.RandomNormal(mean=0.0, stddev=0.02), use_bias=False, name='conv_3'))\n",
    "    model.add(BatchNormalization(momentum=0.1,  epsilon=0.8, center=1.0, scale=0.02, name='bn_2'))\n",
    "    model.add(LeakyReLU(0.2, name='leaky_relu_3'))\n",
    "\n",
    "\n",
    "    #Block 4\n",
    "    model.add(Conv2D(64 * 8, 4, 2, padding='same', kernel_initializer=tf.keras.initializers.RandomNormal(mean=0.0, stddev=0.02), use_bias=False, name='conv_4'))\n",
    "    model.add(BatchNormalization(momentum=0.1,  epsilon=0.8, center=1.0, scale=0.02, name='bn_3'))\n",
    "    model.add(LeakyReLU(0.2, name='leaky_relu_4'))\n",
    "\n",
    "\n",
    "    #Block 5\n",
    "    model.add(Conv2D(1, 4, 2,padding='same', kernel_initializer=tf.keras.initializers.RandomNormal(mean=0.0, stddev=0.02), use_bias=False,  \n",
    "                     activation='sigmoid', name='conv_5'))\n",
    "\n",
    "    return model "
   ]
  },
  {
   "cell_type": "markdown",
   "metadata": {},
   "source": [
    "By printing the summary of the Discriminator architecture, we can see that the strided convolutions **downsample** an input image of size 64 x 64 x 3.\n"
   ]
  },
  {
   "cell_type": "code",
   "execution_count": null,
   "metadata": {
    "tags": []
   },
   "outputs": [],
   "source": [
    "disc = make_discriminator()\n",
    "disc.summary()"
   ]
  },
  {
   "cell_type": "markdown",
   "metadata": {},
   "source": [
    "### Defining Loss Functions\n",
    "\n",
    "As we discussed in the previous section, the min-max optimization problem can be formulated by minimizing the cross entropy loss for the Generator and Discriminator.  \n",
    "\n",
    "The `cross_entropy` object is the Binary Cross Entropy loss that will be used to model the objectives of the two networks.\n"
   ]
  },
  {
   "cell_type": "code",
   "execution_count": null,
   "metadata": {
    "tags": []
   },
   "outputs": [],
   "source": [
    "cross_entropy = tf.keras.losses.BinaryCrossentropy(from_logits=True)"
   ]
  },
  {
   "cell_type": "code",
   "execution_count": null,
   "metadata": {
    "tags": []
   },
   "outputs": [],
   "source": [
    "def generator_loss(Xhat):\n",
    "    return cross_entropy(tf.ones_like(Xhat), Xhat)"
   ]
  },
  {
   "cell_type": "code",
   "execution_count": null,
   "metadata": {
    "tags": []
   },
   "outputs": [],
   "source": [
    "def discriminator_loss(X, Xhat):\n",
    "    real_loss = cross_entropy(tf.ones_like(X), X)\n",
    "    fake_loss = cross_entropy(tf.zeros_like(Xhat), Xhat)\n",
    "    total_loss = 0.5*(real_loss + fake_loss)\n",
    "    return total_loss"
   ]
  },
  {
   "cell_type": "markdown",
   "metadata": {},
   "source": [
    "### Defining Optimizers \n",
    " \n",
    "We create two Adam optimizers for the discriminator and the generator, respectively. We pass the following arguments to the optimizers:\n",
    "\n",
    "- learning rate of 0.0002.\n",
    "- beta coefficients $\\beta_1 = 0.5$ and $\\beta_2 = 0.999$, which are responsible for computing the running averages of the gradients during backpropagation.\n"
   ]
  },
  {
   "cell_type": "code",
   "execution_count": null,
   "metadata": {
    "tags": []
   },
   "outputs": [],
   "source": [
    "learning_rate = 0.0002\n",
    "\n",
    "generator_optimizer = tf.keras.optimizers.Adam(lr = 0.0002, beta_1 = 0.5, beta_2 = 0.999 )\n",
    "\n",
    "discriminator_optimizer = tf.keras.optimizers.Adam(lr = 0.0002, beta_1 = 0.5, beta_2 = 0.999 )"
   ]
  },
  {
   "cell_type": "markdown",
   "metadata": {},
   "source": [
    "### Create Train Step Function\n",
    "\n",
    "As this lab is more computationally intensive than the last lab, we convert the training step into a function and then use the  @tf.function decorator, which allows the function to be \"compiled\" into a **callable TensorFlow graph**. This will speed up the training; for more information, read <a href=\"https://www.tensorflow.org/guide/function?utm_medium=Exinfluencer&utm_source=Exinfluencer&utm_content=000026UJ&utm_term=10006555&utm_id=NA-SkillsNetwork-Channel-SkillsNetworkGuidedProjectsIBMGPXX0XCEEN72-2022-01-01\">here </a> \n"
   ]
  },
  {
   "cell_type": "code",
   "execution_count": null,
   "metadata": {
    "tags": []
   },
   "outputs": [],
   "source": [
    "@tf.function\n",
    "\n",
    "def train_step(X):\n",
    "    \n",
    "    #random samples it was found if you increase the  stander deviation, you get better results \n",
    "    z= tf.random.normal([BATCH_SIZE, 1, 1, latent_dim])\n",
    "      # needed to compute the gradients for a list of variables.\n",
    "    with tf.GradientTape() as gen_tape, tf.GradientTape() as disc_tape:\n",
    "        #generated sample \n",
    "        xhat = generator(z, training=True)\n",
    "        #the output of the discriminator for real data \n",
    "        real_output = discriminator(X, training=True)\n",
    "        #the output of the discriminator for fake data\n",
    "        fake_output = discriminator(xhat, training=True)\n",
    "        \n",
    "        #loss for each \n",
    "        gen_loss= generator_loss(fake_output)\n",
    "        disc_loss = discriminator_loss(real_output, fake_output)\n",
    "      # Compute the gradients for gen_loss and generator\n",
    "    \n",
    "    gradients_of_generator = gen_tape.gradient(gen_loss, generator.trainable_variables)\n",
    "    # Compute the gradients for gen_loss and discriminator\n",
    "    gradients_of_discriminator = disc_tape.gradient(disc_loss, discriminator.trainable_variables)\n",
    "    # Ask the optimizer to apply the processed gradients\n",
    "    generator_optimizer.apply_gradients(zip(gradients_of_generator, generator.trainable_variables))\n",
    "    discriminator_optimizer.apply_gradients(zip(gradients_of_discriminator, discriminator.trainable_variables))"
   ]
  },
  {
   "cell_type": "markdown",
   "metadata": {},
   "source": [
    "Don't be intimidated by the code above, here is a summary of what a train step accomplishes:\n",
    "\n",
    "- First, we sample `z`, a batch of noise vectors from a normal distribution ($\\mu = 1, \\sigma = 1$) and feed it to the Generator.\n",
    "- The Generator produces generated or \"fake\" images `xhat`.\n",
    "- We feed real images `X` and fake images `xhat` to the Discriminator and obtain `real_output` and `fake_output` respectively as the scores.\n",
    "- We calculate Generator loss `gen_loss` using the `fake_output` from Discriminator since we want the fake images to fool the Discriminator as much as possible.\n",
    "- We calculate Discriminator loss `disc_loss` using both the `real_output` and `fake_output` since we want the Discriminator to distinguish the two as much as possible.\n",
    "- We calculate `gradients_of_generator` and  `gradients_of_discriminator` based on the losses obtained.\n",
    "- Finally, we update the Generator and Discriminator by letting their respective optimizers apply the processed gradients on the trainable model parameters.\n"
   ]
  },
  {
   "cell_type": "markdown",
   "metadata": {},
   "source": [
    "We can transform the random noise using the generator. As the generator is not trained yet, the output appears to be noises:\n"
   ]
  },
  {
   "cell_type": "code",
   "execution_count": null,
   "metadata": {
    "tags": []
   },
   "outputs": [],
   "source": [
    "generator= make_generator()\n",
    "BATCH_SIZE=128\n",
    "\n",
    "latent_dim=100\n",
    "noise = tf.random.normal([BATCH_SIZE, 1, 1, latent_dim])\n",
    "Xhat=generator(noise,training=False)\n",
    "plot_array(Xhat)"
   ]
  },
  {
   "cell_type": "markdown",
   "metadata": {},
   "source": [
    "### Training DCGANs\n"
   ]
  },
  {
   "cell_type": "markdown",
   "metadata": {},
   "source": [
    "As this method is computationally intensive, we will train the model for one epoch and then use the generator to produce artificial images.\n",
    "\n",
    "__Even 1 epoch in DCGANs training takes long time.__ You can __stop the training__ here and import the pre-trained model following the instruction below.\n"
   ]
  },
  {
   "cell_type": "code",
   "execution_count": null,
   "metadata": {
    "tags": []
   },
   "outputs": [],
   "source": [
    "epochs=1\n",
    "\n",
    "discriminator=make_discriminator()\n",
    "\n",
    "generator= make_generator()\n",
    "\n",
    "\n",
    "for epoch in range(epochs):\n",
    "    \n",
    "    #data for the true distribution of your real data samples training ste\n",
    "    start = time.time()\n",
    "    i=0\n",
    "    for X in tqdm(normalized_ds, desc=f\"epoch {epoch+1}\", total=len(normalized_ds)):\n",
    "        \n",
    "        i+=1\n",
    "        if i%1000:\n",
    "            print(\"epoch {}, iteration {}\".format(epoch+1, i))\n",
    "            \n",
    "        train_step(X)\n",
    "    \n",
    "\n",
    "    noise = tf.random.normal([BATCH_SIZE, 1, 1, latent_dim])\n",
    "    Xhat=generator(noise,training=False)\n",
    "    X=[x for x in normalized_ds]\n",
    "    print(\"orignal images\")\n",
    "    plot_array(X[0])\n",
    "    print(\"generated images\")\n",
    "    plot_array(Xhat)\n",
    "    print ('Time for epoch {} is {} sec'.format(epoch + 1, time.time()-start))"
   ]
  },
  {
   "cell_type": "markdown",
   "metadata": {},
   "source": [
    "As you can see that, with only one epoch of training and a reduced number of training images, our GAN didn't learn much information, and thus, the generator wasn't able to produce images that make sense to human eyes. There are two quick actions you can take to try to improve the results:\n",
    "\n",
    "1. Re-train the GAN using the full dataset that has 63,632 images. \n",
    "    - To do so, simply go back to the **Loading the Dataset** section in **DCGANs**, replace the url of the dataset with \"https://cf-courses-data.s3.us.cloud-object-storage.appdomain.cloud/IBMDeveloperSkillsNetwork-ML311-Coursera/labs/Module5/L2/cartoon_data.tgz\", change the `directory` argument in `tf.keras.utils.image_dataset_from_directory` to `'cartoon_data'` in **Creating data generator** section and re-run all the cells. \n",
    "    - Note that using more training data does allows the model to learn better and perform better, but it will result in longer training time! **With 63K training images and batch size of 128, your model will train for ~497 iterations.**\n",
    "\n",
    "\n",
    "2. Use a pre-trained generator model to generate images.\n",
    "    - You don't need to experience the training time at all! \n",
    "    - Proceed to the next subsection to load a pre-trained model, and you will see that the generator trained with 150 epochs can produce almost realistic anime faces.\n"
   ]
  },
  {
   "cell_type": "markdown",
   "metadata": {},
   "source": [
    "___Loading Pre-trained model (150 epochs)___\n"
   ]
  },
  {
   "cell_type": "markdown",
   "metadata": {},
   "source": [
    "As you saw, training a GAN with only one epoch takes quite a long time. If we want to evaluate the performance of a fully trained and optimized GAN, we would need to increase the number of epochs. \n",
    "Thus, to help you **avoid extremely long training time** in this lab, we will just **download the pre-trained Generator network parameters** and then use Kera `load_model` function to obtain a **pre-trained Generator**, which we will use to generate images directly.\n"
   ]
  },
  {
   "cell_type": "code",
   "execution_count": null,
   "metadata": {
    "tags": []
   },
   "outputs": [],
   "source": [
    "generator_url=\"https://cf-courses-data.s3.us.cloud-object-storage.appdomain.cloud/IBM-GPXX0XCEEN/data/generator.tar\"\n",
    "await skillsnetwork.prepare(generator_url, overwrite=True)"
   ]
  },
  {
   "cell_type": "markdown",
   "metadata": {},
   "source": [
    "Load the generator:\n"
   ]
  },
  {
   "cell_type": "code",
   "execution_count": null,
   "metadata": {
    "tags": []
   },
   "outputs": [],
   "source": [
    "from tensorflow.keras.models import load_model\n",
    "\n",
    "\n",
    "full_generator=load_model(\"generator\")"
   ]
  },
  {
   "cell_type": "markdown",
   "metadata": {},
   "source": [
    "Let's generate several images using the fully trained Generator and display them:\n"
   ]
  },
  {
   "cell_type": "code",
   "execution_count": null,
   "metadata": {
    "tags": []
   },
   "outputs": [],
   "source": [
    "latent_dim=100\n",
    "\n",
    "# input consists of noise vectors\n",
    "noise = tf.random.normal([200, 1, 1, latent_dim])\n",
    "\n",
    "# feed the noise vectors to the generator\n",
    "Xhat=full_generator(noise,training=False)\n",
    "plot_array(Xhat)"
   ]
  },
  {
   "cell_type": "markdown",
   "metadata": {},
   "source": [
    "## Explore Latent Variables \n",
    "\n",
    "Values of $\\mathbf{z}$ that are relatively close together will produce similar images. For example, we can assigns elements of $\\mathbf{z}$ close values such as $[1,0.8,..,0.4]$. \n"
   ]
  },
  {
   "cell_type": "code",
   "execution_count": null,
   "metadata": {
    "tags": []
   },
   "outputs": [],
   "source": [
    "for c in [1,0.8,0.6,0.4]:\n",
    "    Xhat=full_generator(c*tf.ones([1, 1, 1, latent_dim]),training=False) # latent_dim = 100 defined previously\n",
    "    plot_array(Xhat)"
   ]
  },
  {
   "cell_type": "markdown",
   "metadata": {},
   "source": [
    "### Exercise 1\n",
    "\n",
    "Plot the generated images by the Generator with elements of $\\mathbf{z}$ equal $[-1,-0.8,-0.6,-0.4]$.\n"
   ]
  },
  {
   "cell_type": "code",
   "execution_count": null,
   "metadata": {
    "tags": []
   },
   "outputs": [],
   "source": [
    "for c in [1,0.8,0.6,0.4]:\n",
    "    Xhat=full_generator(-c*tf.ones([1, 1, 1, latent_dim]),training=False) # latent_dim = 100 defined previously\n",
    "    plot_array(Xhat)"
   ]
  },
  {
   "cell_type": "markdown",
   "metadata": {},
   "source": [
    "<details>\n",
    "    <summary>Click here for Solution</summary>\n",
    "\n",
    "```python\n",
    "for c in [1,0.8,0.6,0.4]:\n",
    "    Xhat=full_generator(-c*tf.ones([1, 1, 1, latent_dim]),training=False)\n",
    "    plot_array(Xhat)\n",
    " ```   \n",
    "\n",
    "</details>\n"
   ]
  },
  {
   "cell_type": "markdown",
   "metadata": {},
   "source": [
    "We can see how changing the latent variable changes the generated image. Here we alter more and more subsequent values of $\\mathbf{z}$ from 1 to -1; we see the images change accordingly; this is evident in the anime character's hair color:\n"
   ]
  },
  {
   "cell_type": "code",
   "execution_count": null,
   "metadata": {
    "tags": []
   },
   "outputs": [],
   "source": [
    "z=np.ones( (1, 1, 1, latent_dim))\n",
    "for n in range(10):\n",
    "\n",
    "    z[0, 0, 0, 0:10*n]=-1\n",
    "\n",
    "    Xhat=full_generator(z,training=False)\n",
    "    print(\"elements from 0 to {} is set to -1\".format(10*n))\n",
    "    plot_array(Xhat)"
   ]
  },
  {
   "cell_type": "markdown",
   "metadata": {},
   "source": [
    "### Exercise 2\n",
    "\n",
    "Repeat the above procedure but set the latent variable $z[0, 0, 0, 0:20*n] = -0.5*n$ each time `for n in range(5)`\n"
   ]
  },
  {
   "cell_type": "code",
   "execution_count": null,
   "metadata": {
    "tags": []
   },
   "outputs": [],
   "source": [
    "z=np.ones( (1, 1, 1, latent_dim))\n",
    "for n in range(10):\n",
    "\n",
    "    z[0, 0, 0, 0:10*n]=-0.5 * n\n",
    "\n",
    "    Xhat=full_generator(z,training=False)\n",
    "    print(\"elements from 0 to {} is set to -1\".format(10*n))\n",
    "    plot_array(Xhat)"
   ]
  },
  {
   "cell_type": "markdown",
   "metadata": {},
   "source": [
    "<details>\n",
    "    <summary>Click here for Solution</summary>\n",
    "\n",
    "```python\n",
    "z=np.ones( (1, 1, 1, latent_dim))\n",
    "for n in range(5):\n",
    "\n",
    "    z[0, 0, 0, 0:20*n]=-0.5*n\n",
    "\n",
    "    Xhat=full_generator(z,training=False)\n",
    "\n",
    "    plot_array(Xhat)\n",
    "    \n",
    "\n",
    " ```   \n",
    "\n",
    "</details>\n"
   ]
  },
  {
   "cell_type": "markdown",
   "metadata": {},
   "source": [
    "We can also hold some of the elements of $\\mathbf{z}$ constant and randomly change others. Here, we set the first 20 elements to one and randomly change the rest. We see that all through the images change, the hair color remains light.\n"
   ]
  },
  {
   "cell_type": "code",
   "execution_count": null,
   "metadata": {
    "tags": []
   },
   "outputs": [],
   "source": [
    "for n in range(10):\n",
    "    z=np.random.normal(0, 1, (1, 1, 1, latent_dim))\n",
    "\n",
    "    z[0,0,0,0:35]=1\n",
    "\n",
    "    Xhat=full_generator(z,training=False)\n",
    "\n",
    "    plot_array(Xhat)"
   ]
  },
  {
   "cell_type": "markdown",
   "metadata": {},
   "source": [
    "### Exercise 3\n",
    "\n",
    "Repeat the procedure above, but set the elements of $\\mathbf{z}$ from index 0 to 35 to -1\n"
   ]
  },
  {
   "cell_type": "code",
   "execution_count": null,
   "metadata": {
    "tags": []
   },
   "outputs": [],
   "source": [
    "for n in range(10):\n",
    "    z=np.random.normal(0, 1, (1, 1, 1, latent_dim))\n",
    "\n",
    "    z[0,0,0,0:35]=-1\n",
    "\n",
    "    Xhat=full_generator(z,training=False)\n",
    "\n",
    "    plot_array(Xhat)"
   ]
  },
  {
   "cell_type": "markdown",
   "metadata": {},
   "source": [
    "<details>\n",
    "    <summary>Click here for Solution</summary>\n",
    "\n",
    "```python\n",
    "\n",
    "for n in range(10):\n",
    "    z=np.random.normal(0, 1, (1, 1, 1, latent_dim))\n",
    "\n",
    "    z[0,0,0,0:35]=-1\n",
    "\n",
    "    Xhat=full_generator(z,training=False)\n",
    "\n",
    "    plot_array(Xhat)\n",
    "    \n",
    "\n",
    " ```   \n",
    "\n",
    "</details>\n"
   ]
  },
  {
   "cell_type": "markdown",
   "metadata": {},
   "source": [
    "__Thank you for completing this lab!__\n",
    "<center><img src=\"https://cf-courses-data.s3.us.cloud-object-storage.appdomain.cloud/IBM-GPXX0XCEEN/images/unknown5.jpeg\" width=\"500px\"></center>\n"
   ]
  },
  {
   "cell_type": "markdown",
   "metadata": {},
   "source": [
    "----\n"
   ]
  },
  {
   "cell_type": "markdown",
   "metadata": {},
   "source": [
    "## Authors\n"
   ]
  },
  {
   "cell_type": "markdown",
   "metadata": {},
   "source": [
    "<a href=\"https://www.linkedin.com/in/joseph-s-50398b136/?utm_medium=Exinfluencer&utm_source=Exinfluencer&utm_content=000026UJ&utm_term=10006555&utm_id=NA-SkillsNetwork-Channel-SkillsNetworkCoursesIBMDeveloperSkillsNetworkML0101ENSkillsNetwork20718538-2021-01-01\" target=\"_blank\">Joseph Santarcangelo</a> has a Ph.D. in Electrical Engineering, his research focused on using machine learning, signal processing, and computer vision to determine how videos impact human cognition. Joseph has been working for IBM since he completed his PhD.\n",
    "\n",
    "[Roxanne Li](https://www.linkedin.com/in/roxanne-li/?utm_medium=Exinfluencer&utm_source=Exinfluencer&utm_content=000026UJ&utm_term=10006555&utm_id=NA-SkillsNetwork-Channel-SkillsNetworkGuidedProjectsIBMGPXX0XCEEN72-2022-01-01) is a Data Science intern at IBM Skills Network, entering level-5 study in the Mathematics & Statistics undergraduate Coop program at McMaster University.\n",
    "\n",
    "[Junxing(J.C.) Chen](https://www.linkedin.com/in/junxing-chen-3591a4162/?utm_medium=Exinfluencer&utm_source=Exinfluencer&utm_content=000026UJ&utm_term=10006555&utm_id=NA-SkillsNetwork-Channel-SkillsNetworkGuidedProjectsIBMGPXX0XCEEN72-2022-01-01) is a Data Scientist at IBM with strong interests in machine learning and cutting-edge technologies.\n"
   ]
  },
  {
   "cell_type": "markdown",
   "metadata": {},
   "source": [
    "## Change Log\n"
   ]
  },
  {
   "cell_type": "markdown",
   "metadata": {},
   "source": [
    "| Date (YYYY-MM-DD) | Version | Changed By  | Change Description |\n",
    "| ----------------- | ------- | ----------- | ------------------ |\n",
    "| 2022-08-30        | 0.1     | Joseph Santarcangelo  | Created Lab       |\n",
    "| 2022-09-06        | 0.1     | Roxanne Li  | Reviewed and edited Lab       |\n",
    "| 2022-09-23        | 0.1     | Steve Hord  | QA pass edits                 |\n",
    "| 2022-10-11        | 0.2     | Junxing(J.C.) Chen  | Reviewed and edited Lab       |\n"
   ]
  },
  {
   "cell_type": "markdown",
   "metadata": {},
   "source": [
    "Copyright © 2022 IBM Corporation. All rights reserved.\n"
   ]
  }
 ],
 "metadata": {
  "kernelspec": {
   "display_name": "Python 3 (ipykernel)",
   "language": "python",
   "name": "python3"
  },
  "language_info": {
   "codemirror_mode": {
    "name": "ipython",
    "version": 3
   },
   "file_extension": ".py",
   "mimetype": "text/x-python",
   "name": "python",
   "nbconvert_exporter": "python",
   "pygments_lexer": "ipython3",
   "version": "3.12.4"
  }
 },
 "nbformat": 4,
 "nbformat_minor": 4
}
